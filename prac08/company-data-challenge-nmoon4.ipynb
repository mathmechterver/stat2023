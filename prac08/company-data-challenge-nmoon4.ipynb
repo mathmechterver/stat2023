{
 "cells": [
  {
   "cell_type": "code",
   "execution_count": 1,
   "id": "23e6a66a",
   "metadata": {
    "_cell_guid": "b1076dfc-b9ad-4769-8c92-a6c4dae69d19",
    "_uuid": "8f2839f25d086af736a60e9eeb907d3b93b6e0e5",
    "execution": {
     "iopub.execute_input": "2021-08-20T03:08:22.584219Z",
     "iopub.status.busy": "2021-08-20T03:08:22.582387Z",
     "iopub.status.idle": "2021-08-20T03:08:22.609930Z",
     "shell.execute_reply": "2021-08-20T03:08:22.610617Z",
     "shell.execute_reply.started": "2021-08-19T21:20:41.145217Z"
    },
    "papermill": {
     "duration": 0.079233,
     "end_time": "2021-08-20T03:08:22.610999",
     "exception": false,
     "start_time": "2021-08-20T03:08:22.531766",
     "status": "completed"
    },
    "tags": []
   },
   "outputs": [
    {
     "name": "stdout",
     "output_type": "stream",
     "text": [
      "/kaggle/input/quora-data-challenge/t2_user_variant.csv\n",
      "/kaggle/input/quora-data-challenge/table_schema.txt\n",
      "/kaggle/input/quora-data-challenge/t1_user_active_min.csv\n",
      "/kaggle/input/quora-data-challenge/t3_user_active_min_pre.csv\n",
      "/kaggle/input/quora-data-challenge/t4_user_attributes.csv\n"
     ]
    }
   ],
   "source": [
    "# This Python 3 environment comes with many helpful analytics libraries installed\n",
    "# It is defined by the kaggle/python Docker image: https://github.com/kaggle/docker-python\n",
    "# For example, here's several helpful packages to load\n",
    "\n",
    "import numpy as np # linear algebra\n",
    "import pandas as pd # data processing, CSV file I/O (e.g. pd.read_csv)\n",
    "\n",
    "# Input data files are available in the read-only \"../input/\" directory\n",
    "# For example, running this (by clicking run or pressing Shift+Enter) will list all files under the input directory\n",
    "\n",
    "import os\n",
    "for dirname, _, filenames in os.walk('/kaggle/input'):\n",
    "    for filename in filenames:\n",
    "        print(os.path.join(dirname, filename))\n",
    "\n",
    "# You can write up to 20GB to the current directory (/kaggle/working/) that gets preserved as output when you create a version using \"Save & Run All\" \n",
    "# You can also write temporary files to /kaggle/temp/, but they won't be saved outside of the current session"
   ]
  },
  {
   "cell_type": "code",
   "execution_count": 2,
   "id": "f562128f",
   "metadata": {
    "execution": {
     "iopub.execute_input": "2021-08-20T03:08:22.705503Z",
     "iopub.status.busy": "2021-08-20T03:08:22.704871Z",
     "iopub.status.idle": "2021-08-20T03:08:23.700541Z",
     "shell.execute_reply": "2021-08-20T03:08:23.700027Z",
     "shell.execute_reply.started": "2021-08-19T21:20:41.155256Z"
    },
    "papermill": {
     "duration": 1.043572,
     "end_time": "2021-08-20T03:08:23.700686",
     "exception": false,
     "start_time": "2021-08-20T03:08:22.657114",
     "status": "completed"
    },
    "tags": []
   },
   "outputs": [],
   "source": [
    "import numpy as np\n",
    "import matplotlib.pyplot as plt\n",
    "import pandas as pd\n",
    "import statsmodels.stats.api as sms"
   ]
  },
  {
   "cell_type": "markdown",
   "id": "b11627bd",
   "metadata": {
    "papermill": {
     "duration": 0.043711,
     "end_time": "2021-08-20T03:08:23.788590",
     "exception": false,
     "start_time": "2021-08-20T03:08:23.744879",
     "status": "completed"
    },
    "tags": []
   },
   "source": [
    "### Importing the datasets"
   ]
  },
  {
   "cell_type": "code",
   "execution_count": 3,
   "id": "ecb130ea",
   "metadata": {
    "execution": {
     "iopub.execute_input": "2021-08-20T03:08:23.919631Z",
     "iopub.status.busy": "2021-08-20T03:08:23.919061Z",
     "iopub.status.idle": "2021-08-20T03:08:24.658951Z",
     "shell.execute_reply": "2021-08-20T03:08:24.658440Z",
     "shell.execute_reply.started": "2021-08-19T21:20:41.173154Z"
    },
    "papermill": {
     "duration": 0.804918,
     "end_time": "2021-08-20T03:08:24.659094",
     "exception": false,
     "start_time": "2021-08-20T03:08:23.854176",
     "status": "completed"
    },
    "tags": []
   },
   "outputs": [],
   "source": [
    "df1 = pd.read_csv('../input/quora-data-challenge/t1_user_active_min.csv')\n",
    "df2 = pd.read_csv('../input/quora-data-challenge/t2_user_variant.csv')"
   ]
  },
  {
   "cell_type": "markdown",
   "id": "e52a7b6e",
   "metadata": {
    "papermill": {
     "duration": 0.044223,
     "end_time": "2021-08-20T03:08:24.747348",
     "exception": false,
     "start_time": "2021-08-20T03:08:24.703125",
     "status": "completed"
    },
    "tags": []
   },
   "source": [
    "df1: How much time every user spent on the website during the experiment\n",
    "\n",
    "df2: Whether a user was in the treatment or control group"
   ]
  },
  {
   "cell_type": "code",
   "execution_count": 4,
   "id": "cd1a8326",
   "metadata": {
    "execution": {
     "iopub.execute_input": "2021-08-20T03:08:24.847217Z",
     "iopub.status.busy": "2021-08-20T03:08:24.845788Z",
     "iopub.status.idle": "2021-08-20T03:08:24.864308Z",
     "shell.execute_reply": "2021-08-20T03:08:24.864713Z",
     "shell.execute_reply.started": "2021-08-19T21:20:41.494925Z"
    },
    "papermill": {
     "duration": 0.072906,
     "end_time": "2021-08-20T03:08:24.864880",
     "exception": false,
     "start_time": "2021-08-20T03:08:24.791974",
     "status": "completed"
    },
    "tags": []
   },
   "outputs": [
    {
     "data": {
      "text/html": [
       "<div>\n",
       "<style scoped>\n",
       "    .dataframe tbody tr th:only-of-type {\n",
       "        vertical-align: middle;\n",
       "    }\n",
       "\n",
       "    .dataframe tbody tr th {\n",
       "        vertical-align: top;\n",
       "    }\n",
       "\n",
       "    .dataframe thead th {\n",
       "        text-align: right;\n",
       "    }\n",
       "</style>\n",
       "<table border=\"1\" class=\"dataframe\">\n",
       "  <thead>\n",
       "    <tr style=\"text-align: right;\">\n",
       "      <th></th>\n",
       "      <th>uid</th>\n",
       "      <th>dt</th>\n",
       "      <th>active_mins</th>\n",
       "    </tr>\n",
       "  </thead>\n",
       "  <tbody>\n",
       "    <tr>\n",
       "      <th>0</th>\n",
       "      <td>0</td>\n",
       "      <td>2019-02-22</td>\n",
       "      <td>5.0</td>\n",
       "    </tr>\n",
       "    <tr>\n",
       "      <th>1</th>\n",
       "      <td>0</td>\n",
       "      <td>2019-03-11</td>\n",
       "      <td>5.0</td>\n",
       "    </tr>\n",
       "    <tr>\n",
       "      <th>2</th>\n",
       "      <td>0</td>\n",
       "      <td>2019-03-18</td>\n",
       "      <td>3.0</td>\n",
       "    </tr>\n",
       "    <tr>\n",
       "      <th>3</th>\n",
       "      <td>0</td>\n",
       "      <td>2019-03-22</td>\n",
       "      <td>4.0</td>\n",
       "    </tr>\n",
       "    <tr>\n",
       "      <th>4</th>\n",
       "      <td>0</td>\n",
       "      <td>2019-04-03</td>\n",
       "      <td>9.0</td>\n",
       "    </tr>\n",
       "  </tbody>\n",
       "</table>\n",
       "</div>"
      ],
      "text/plain": [
       "   uid          dt  active_mins\n",
       "0    0  2019-02-22          5.0\n",
       "1    0  2019-03-11          5.0\n",
       "2    0  2019-03-18          3.0\n",
       "3    0  2019-03-22          4.0\n",
       "4    0  2019-04-03          9.0"
      ]
     },
     "execution_count": 4,
     "metadata": {},
     "output_type": "execute_result"
    }
   ],
   "source": [
    "# df1 = how much time each user spent on the website on a day during the experiment\n",
    "df1.head()"
   ]
  },
  {
   "cell_type": "code",
   "execution_count": 5,
   "id": "a11b3d07",
   "metadata": {
    "execution": {
     "iopub.execute_input": "2021-08-20T03:08:24.966258Z",
     "iopub.status.busy": "2021-08-20T03:08:24.965591Z",
     "iopub.status.idle": "2021-08-20T03:08:24.970474Z",
     "shell.execute_reply": "2021-08-20T03:08:24.969833Z",
     "shell.execute_reply.started": "2021-08-19T21:20:41.505193Z"
    },
    "papermill": {
     "duration": 0.060659,
     "end_time": "2021-08-20T03:08:24.970612",
     "exception": false,
     "start_time": "2021-08-20T03:08:24.909953",
     "status": "completed"
    },
    "tags": []
   },
   "outputs": [
    {
     "data": {
      "text/html": [
       "<div>\n",
       "<style scoped>\n",
       "    .dataframe tbody tr th:only-of-type {\n",
       "        vertical-align: middle;\n",
       "    }\n",
       "\n",
       "    .dataframe tbody tr th {\n",
       "        vertical-align: top;\n",
       "    }\n",
       "\n",
       "    .dataframe thead th {\n",
       "        text-align: right;\n",
       "    }\n",
       "</style>\n",
       "<table border=\"1\" class=\"dataframe\">\n",
       "  <thead>\n",
       "    <tr style=\"text-align: right;\">\n",
       "      <th></th>\n",
       "      <th>uid</th>\n",
       "      <th>variant_number</th>\n",
       "      <th>dt</th>\n",
       "      <th>signup_date</th>\n",
       "    </tr>\n",
       "  </thead>\n",
       "  <tbody>\n",
       "    <tr>\n",
       "      <th>0</th>\n",
       "      <td>0</td>\n",
       "      <td>0</td>\n",
       "      <td>2019-02-06</td>\n",
       "      <td>2018-09-24</td>\n",
       "    </tr>\n",
       "    <tr>\n",
       "      <th>1</th>\n",
       "      <td>1</td>\n",
       "      <td>0</td>\n",
       "      <td>2019-02-06</td>\n",
       "      <td>2016-11-07</td>\n",
       "    </tr>\n",
       "    <tr>\n",
       "      <th>2</th>\n",
       "      <td>2</td>\n",
       "      <td>0</td>\n",
       "      <td>2019-02-06</td>\n",
       "      <td>2018-09-17</td>\n",
       "    </tr>\n",
       "    <tr>\n",
       "      <th>3</th>\n",
       "      <td>3</td>\n",
       "      <td>0</td>\n",
       "      <td>2019-02-06</td>\n",
       "      <td>2018-03-04</td>\n",
       "    </tr>\n",
       "    <tr>\n",
       "      <th>4</th>\n",
       "      <td>4</td>\n",
       "      <td>0</td>\n",
       "      <td>2019-02-06</td>\n",
       "      <td>2017-03-09</td>\n",
       "    </tr>\n",
       "  </tbody>\n",
       "</table>\n",
       "</div>"
      ],
      "text/plain": [
       "   uid  variant_number          dt signup_date\n",
       "0    0               0  2019-02-06  2018-09-24\n",
       "1    1               0  2019-02-06  2016-11-07\n",
       "2    2               0  2019-02-06  2018-09-17\n",
       "3    3               0  2019-02-06  2018-03-04\n",
       "4    4               0  2019-02-06  2017-03-09"
      ]
     },
     "execution_count": 5,
     "metadata": {},
     "output_type": "execute_result"
    }
   ],
   "source": [
    "# df2 = whether a user was in the treatment or control group (variant_number = 0 -> control) (variant_number = 1 -> treatment)\n",
    "df2.head()"
   ]
  },
  {
   "cell_type": "markdown",
   "id": "3ada3ed2",
   "metadata": {
    "papermill": {
     "duration": 0.044779,
     "end_time": "2021-08-20T03:08:25.061051",
     "exception": false,
     "start_time": "2021-08-20T03:08:25.016272",
     "status": "completed"
    },
    "tags": []
   },
   "source": [
    "### Checking for outliers"
   ]
  },
  {
   "cell_type": "code",
   "execution_count": 6,
   "id": "a742f257",
   "metadata": {
    "execution": {
     "iopub.execute_input": "2021-08-20T03:08:25.162024Z",
     "iopub.status.busy": "2021-08-20T03:08:25.161456Z",
     "iopub.status.idle": "2021-08-20T03:08:25.358115Z",
     "shell.execute_reply": "2021-08-20T03:08:25.357669Z",
     "shell.execute_reply.started": "2021-08-19T21:20:41.527275Z"
    },
    "papermill": {
     "duration": 0.251325,
     "end_time": "2021-08-20T03:08:25.358269",
     "exception": false,
     "start_time": "2021-08-20T03:08:25.106944",
     "status": "completed"
    },
    "tags": []
   },
   "outputs": [
    {
     "data": {
      "text/html": [
       "<div>\n",
       "<style scoped>\n",
       "    .dataframe tbody tr th:only-of-type {\n",
       "        vertical-align: middle;\n",
       "    }\n",
       "\n",
       "    .dataframe tbody tr th {\n",
       "        vertical-align: top;\n",
       "    }\n",
       "\n",
       "    .dataframe thead th {\n",
       "        text-align: right;\n",
       "    }\n",
       "</style>\n",
       "<table border=\"1\" class=\"dataframe\">\n",
       "  <thead>\n",
       "    <tr style=\"text-align: right;\">\n",
       "      <th></th>\n",
       "      <th>uid</th>\n",
       "      <th>dt</th>\n",
       "      <th>active_mins</th>\n",
       "    </tr>\n",
       "  </thead>\n",
       "  <tbody>\n",
       "    <tr>\n",
       "      <th>699598</th>\n",
       "      <td>31734</td>\n",
       "      <td>2019-05-19</td>\n",
       "      <td>99999.0</td>\n",
       "    </tr>\n",
       "    <tr>\n",
       "      <th>424289</th>\n",
       "      <td>19136</td>\n",
       "      <td>2019-03-10</td>\n",
       "      <td>99999.0</td>\n",
       "    </tr>\n",
       "    <tr>\n",
       "      <th>69742</th>\n",
       "      <td>3124</td>\n",
       "      <td>2019-05-10</td>\n",
       "      <td>99999.0</td>\n",
       "    </tr>\n",
       "    <tr>\n",
       "      <th>69745</th>\n",
       "      <td>3124</td>\n",
       "      <td>2019-05-16</td>\n",
       "      <td>99999.0</td>\n",
       "    </tr>\n",
       "    <tr>\n",
       "      <th>1057133</th>\n",
       "      <td>49503</td>\n",
       "      <td>2019-03-10</td>\n",
       "      <td>99999.0</td>\n",
       "    </tr>\n",
       "    <tr>\n",
       "      <th>...</th>\n",
       "      <td>...</td>\n",
       "      <td>...</td>\n",
       "      <td>...</td>\n",
       "    </tr>\n",
       "    <tr>\n",
       "      <th>294385</th>\n",
       "      <td>13273</td>\n",
       "      <td>2019-04-02</td>\n",
       "      <td>1.0</td>\n",
       "    </tr>\n",
       "    <tr>\n",
       "      <th>294388</th>\n",
       "      <td>13273</td>\n",
       "      <td>2019-05-05</td>\n",
       "      <td>1.0</td>\n",
       "    </tr>\n",
       "    <tr>\n",
       "      <th>610819</th>\n",
       "      <td>27604</td>\n",
       "      <td>2019-03-06</td>\n",
       "      <td>1.0</td>\n",
       "    </tr>\n",
       "    <tr>\n",
       "      <th>677405</th>\n",
       "      <td>30721</td>\n",
       "      <td>2019-06-18</td>\n",
       "      <td>1.0</td>\n",
       "    </tr>\n",
       "    <tr>\n",
       "      <th>716921</th>\n",
       "      <td>32532</td>\n",
       "      <td>2019-02-21</td>\n",
       "      <td>1.0</td>\n",
       "    </tr>\n",
       "  </tbody>\n",
       "</table>\n",
       "<p>1066402 rows × 3 columns</p>\n",
       "</div>"
      ],
      "text/plain": [
       "           uid          dt  active_mins\n",
       "699598   31734  2019-05-19      99999.0\n",
       "424289   19136  2019-03-10      99999.0\n",
       "69742     3124  2019-05-10      99999.0\n",
       "69745     3124  2019-05-16      99999.0\n",
       "1057133  49503  2019-03-10      99999.0\n",
       "...        ...         ...          ...\n",
       "294385   13273  2019-04-02          1.0\n",
       "294388   13273  2019-05-05          1.0\n",
       "610819   27604  2019-03-06          1.0\n",
       "677405   30721  2019-06-18          1.0\n",
       "716921   32532  2019-02-21          1.0\n",
       "\n",
       "[1066402 rows x 3 columns]"
      ]
     },
     "execution_count": 6,
     "metadata": {},
     "output_type": "execute_result"
    }
   ],
   "source": [
    "df1.sort_values('active_mins', ascending=False)"
   ]
  },
  {
   "cell_type": "code",
   "execution_count": 7,
   "id": "fe32d45b",
   "metadata": {
    "execution": {
     "iopub.execute_input": "2021-08-20T03:08:25.545264Z",
     "iopub.status.busy": "2021-08-20T03:08:25.544400Z",
     "iopub.status.idle": "2021-08-20T03:08:25.548751Z",
     "shell.execute_reply": "2021-08-20T03:08:25.548273Z",
     "shell.execute_reply.started": "2021-08-19T21:20:41.703518Z"
    },
    "papermill": {
     "duration": 0.144414,
     "end_time": "2021-08-20T03:08:25.548886",
     "exception": false,
     "start_time": "2021-08-20T03:08:25.404472",
     "status": "completed"
    },
    "tags": []
   },
   "outputs": [
    {
     "data": {
      "text/plain": [
       "99999.0"
      ]
     },
     "execution_count": 7,
     "metadata": {},
     "output_type": "execute_result"
    }
   ],
   "source": [
    "maxMins = max(df1['active_mins'])\n",
    "maxMins"
   ]
  },
  {
   "cell_type": "code",
   "execution_count": 8,
   "id": "5d7ba4ad",
   "metadata": {
    "execution": {
     "iopub.execute_input": "2021-08-20T03:08:25.645217Z",
     "iopub.status.busy": "2021-08-20T03:08:25.644399Z",
     "iopub.status.idle": "2021-08-20T03:08:25.905992Z",
     "shell.execute_reply": "2021-08-20T03:08:25.905504Z",
     "shell.execute_reply.started": "2021-08-19T21:20:41.904211Z"
    },
    "papermill": {
     "duration": 0.311468,
     "end_time": "2021-08-20T03:08:25.906169",
     "exception": false,
     "start_time": "2021-08-20T03:08:25.594701",
     "status": "completed"
    },
    "tags": []
   },
   "outputs": [
    {
     "data": {
      "text/html": [
       "<div>\n",
       "<style scoped>\n",
       "    .dataframe tbody tr th:only-of-type {\n",
       "        vertical-align: middle;\n",
       "    }\n",
       "\n",
       "    .dataframe tbody tr th {\n",
       "        vertical-align: top;\n",
       "    }\n",
       "\n",
       "    .dataframe thead th {\n",
       "        text-align: right;\n",
       "    }\n",
       "</style>\n",
       "<table border=\"1\" class=\"dataframe\">\n",
       "  <thead>\n",
       "    <tr style=\"text-align: right;\">\n",
       "      <th></th>\n",
       "      <th>uid</th>\n",
       "      <th>dt</th>\n",
       "      <th>active_mins</th>\n",
       "    </tr>\n",
       "  </thead>\n",
       "  <tbody>\n",
       "    <tr>\n",
       "      <th>53105</th>\n",
       "      <td>2398</td>\n",
       "      <td>2019-02-24</td>\n",
       "      <td>897.0</td>\n",
       "    </tr>\n",
       "    <tr>\n",
       "      <th>495393</th>\n",
       "      <td>22230</td>\n",
       "      <td>2019-04-03</td>\n",
       "      <td>896.0</td>\n",
       "    </tr>\n",
       "    <tr>\n",
       "      <th>925607</th>\n",
       "      <td>42198</td>\n",
       "      <td>2019-04-14</td>\n",
       "      <td>895.0</td>\n",
       "    </tr>\n",
       "    <tr>\n",
       "      <th>424321</th>\n",
       "      <td>19136</td>\n",
       "      <td>2019-04-23</td>\n",
       "      <td>894.0</td>\n",
       "    </tr>\n",
       "    <tr>\n",
       "      <th>53131</th>\n",
       "      <td>2398</td>\n",
       "      <td>2019-04-06</td>\n",
       "      <td>894.0</td>\n",
       "    </tr>\n",
       "    <tr>\n",
       "      <th>...</th>\n",
       "      <td>...</td>\n",
       "      <td>...</td>\n",
       "      <td>...</td>\n",
       "    </tr>\n",
       "    <tr>\n",
       "      <th>141105</th>\n",
       "      <td>6330</td>\n",
       "      <td>2019-03-31</td>\n",
       "      <td>1.0</td>\n",
       "    </tr>\n",
       "    <tr>\n",
       "      <th>312977</th>\n",
       "      <td>14137</td>\n",
       "      <td>2019-06-10</td>\n",
       "      <td>1.0</td>\n",
       "    </tr>\n",
       "    <tr>\n",
       "      <th>946384</th>\n",
       "      <td>43376</td>\n",
       "      <td>2019-03-18</td>\n",
       "      <td>1.0</td>\n",
       "    </tr>\n",
       "    <tr>\n",
       "      <th>860278</th>\n",
       "      <td>38836</td>\n",
       "      <td>2019-03-21</td>\n",
       "      <td>1.0</td>\n",
       "    </tr>\n",
       "    <tr>\n",
       "      <th>681503</th>\n",
       "      <td>30914</td>\n",
       "      <td>2019-03-13</td>\n",
       "      <td>1.0</td>\n",
       "    </tr>\n",
       "  </tbody>\n",
       "</table>\n",
       "<p>1066230 rows × 3 columns</p>\n",
       "</div>"
      ],
      "text/plain": [
       "          uid          dt  active_mins\n",
       "53105    2398  2019-02-24        897.0\n",
       "495393  22230  2019-04-03        896.0\n",
       "925607  42198  2019-04-14        895.0\n",
       "424321  19136  2019-04-23        894.0\n",
       "53131    2398  2019-04-06        894.0\n",
       "...       ...         ...          ...\n",
       "141105   6330  2019-03-31          1.0\n",
       "312977  14137  2019-06-10          1.0\n",
       "946384  43376  2019-03-18          1.0\n",
       "860278  38836  2019-03-21          1.0\n",
       "681503  30914  2019-03-13          1.0\n",
       "\n",
       "[1066230 rows x 3 columns]"
      ]
     },
     "execution_count": 8,
     "metadata": {},
     "output_type": "execute_result"
    }
   ],
   "source": [
    "df1[df1['active_mins'] != maxMins].sort_values('active_mins', ascending=False)"
   ]
  },
  {
   "cell_type": "markdown",
   "id": "a1413caf",
   "metadata": {
    "papermill": {
     "duration": 0.046765,
     "end_time": "2021-08-20T03:08:26.000327",
     "exception": false,
     "start_time": "2021-08-20T03:08:25.953562",
     "status": "completed"
    },
    "tags": []
   },
   "source": [
    "There are several rows that claim to have spent 99999 minutes on the website, which is significantly higher than the second highest value of 897 minutes. This suggests that there were likely to be logging errors for the rows with 99999 minutes. These rows will be removed from the data."
   ]
  },
  {
   "cell_type": "code",
   "execution_count": 9,
   "id": "eb2a7599",
   "metadata": {
    "execution": {
     "iopub.execute_input": "2021-08-20T03:08:26.098114Z",
     "iopub.status.busy": "2021-08-20T03:08:26.097528Z",
     "iopub.status.idle": "2021-08-20T03:08:26.129531Z",
     "shell.execute_reply": "2021-08-20T03:08:26.130011Z",
     "shell.execute_reply.started": "2021-08-19T21:20:42.124844Z"
    },
    "papermill": {
     "duration": 0.083145,
     "end_time": "2021-08-20T03:08:26.130206",
     "exception": false,
     "start_time": "2021-08-20T03:08:26.047061",
     "status": "completed"
    },
    "tags": []
   },
   "outputs": [],
   "source": [
    "df1_filtered = df1[df1['active_mins'] != maxMins]"
   ]
  },
  {
   "cell_type": "code",
   "execution_count": 10,
   "id": "c3465260",
   "metadata": {
    "execution": {
     "iopub.execute_input": "2021-08-20T03:08:26.226254Z",
     "iopub.status.busy": "2021-08-20T03:08:26.225646Z",
     "iopub.status.idle": "2021-08-20T03:08:26.416850Z",
     "shell.execute_reply": "2021-08-20T03:08:26.416363Z",
     "shell.execute_reply.started": "2021-08-19T21:20:42.22149Z"
    },
    "papermill": {
     "duration": 0.240303,
     "end_time": "2021-08-20T03:08:26.416993",
     "exception": false,
     "start_time": "2021-08-20T03:08:26.176690",
     "status": "completed"
    },
    "tags": []
   },
   "outputs": [
    {
     "data": {
      "text/html": [
       "<div>\n",
       "<style scoped>\n",
       "    .dataframe tbody tr th:only-of-type {\n",
       "        vertical-align: middle;\n",
       "    }\n",
       "\n",
       "    .dataframe tbody tr th {\n",
       "        vertical-align: top;\n",
       "    }\n",
       "\n",
       "    .dataframe thead th {\n",
       "        text-align: right;\n",
       "    }\n",
       "</style>\n",
       "<table border=\"1\" class=\"dataframe\">\n",
       "  <thead>\n",
       "    <tr style=\"text-align: right;\">\n",
       "      <th></th>\n",
       "      <th>uid</th>\n",
       "      <th>dt</th>\n",
       "      <th>active_mins</th>\n",
       "    </tr>\n",
       "  </thead>\n",
       "  <tbody>\n",
       "    <tr>\n",
       "      <th>53105</th>\n",
       "      <td>2398</td>\n",
       "      <td>2019-02-24</td>\n",
       "      <td>897.0</td>\n",
       "    </tr>\n",
       "    <tr>\n",
       "      <th>495393</th>\n",
       "      <td>22230</td>\n",
       "      <td>2019-04-03</td>\n",
       "      <td>896.0</td>\n",
       "    </tr>\n",
       "    <tr>\n",
       "      <th>925607</th>\n",
       "      <td>42198</td>\n",
       "      <td>2019-04-14</td>\n",
       "      <td>895.0</td>\n",
       "    </tr>\n",
       "    <tr>\n",
       "      <th>424321</th>\n",
       "      <td>19136</td>\n",
       "      <td>2019-04-23</td>\n",
       "      <td>894.0</td>\n",
       "    </tr>\n",
       "    <tr>\n",
       "      <th>53131</th>\n",
       "      <td>2398</td>\n",
       "      <td>2019-04-06</td>\n",
       "      <td>894.0</td>\n",
       "    </tr>\n",
       "  </tbody>\n",
       "</table>\n",
       "</div>"
      ],
      "text/plain": [
       "          uid          dt  active_mins\n",
       "53105    2398  2019-02-24        897.0\n",
       "495393  22230  2019-04-03        896.0\n",
       "925607  42198  2019-04-14        895.0\n",
       "424321  19136  2019-04-23        894.0\n",
       "53131    2398  2019-04-06        894.0"
      ]
     },
     "execution_count": 10,
     "metadata": {},
     "output_type": "execute_result"
    }
   ],
   "source": [
    "df1_filtered.sort_values('active_mins', ascending=False).head()"
   ]
  },
  {
   "cell_type": "code",
   "execution_count": 11,
   "id": "4f0c3b0f",
   "metadata": {
    "execution": {
     "iopub.execute_input": "2021-08-20T03:08:26.515423Z",
     "iopub.status.busy": "2021-08-20T03:08:26.514794Z",
     "iopub.status.idle": "2021-08-20T03:08:26.587241Z",
     "shell.execute_reply": "2021-08-20T03:08:26.586649Z",
     "shell.execute_reply.started": "2021-08-19T21:20:42.473633Z"
    },
    "papermill": {
     "duration": 0.124106,
     "end_time": "2021-08-20T03:08:26.587373",
     "exception": false,
     "start_time": "2021-08-20T03:08:26.463267",
     "status": "completed"
    },
    "tags": []
   },
   "outputs": [
    {
     "data": {
      "text/html": [
       "<div>\n",
       "<style scoped>\n",
       "    .dataframe tbody tr th:only-of-type {\n",
       "        vertical-align: middle;\n",
       "    }\n",
       "\n",
       "    .dataframe tbody tr th {\n",
       "        vertical-align: top;\n",
       "    }\n",
       "\n",
       "    .dataframe thead th {\n",
       "        text-align: right;\n",
       "    }\n",
       "</style>\n",
       "<table border=\"1\" class=\"dataframe\">\n",
       "  <thead>\n",
       "    <tr style=\"text-align: right;\">\n",
       "      <th></th>\n",
       "      <th>active_mins</th>\n",
       "    </tr>\n",
       "    <tr>\n",
       "      <th>uid</th>\n",
       "      <th></th>\n",
       "    </tr>\n",
       "  </thead>\n",
       "  <tbody>\n",
       "    <tr>\n",
       "      <th>49503</th>\n",
       "      <td>46742.0</td>\n",
       "    </tr>\n",
       "    <tr>\n",
       "      <th>42198</th>\n",
       "      <td>42055.0</td>\n",
       "    </tr>\n",
       "    <tr>\n",
       "      <th>19136</th>\n",
       "      <td>37191.0</td>\n",
       "    </tr>\n",
       "    <tr>\n",
       "      <th>22230</th>\n",
       "      <td>36506.0</td>\n",
       "    </tr>\n",
       "    <tr>\n",
       "      <th>39773</th>\n",
       "      <td>34849.0</td>\n",
       "    </tr>\n",
       "  </tbody>\n",
       "</table>\n",
       "</div>"
      ],
      "text/plain": [
       "       active_mins\n",
       "uid               \n",
       "49503      46742.0\n",
       "42198      42055.0\n",
       "19136      37191.0\n",
       "22230      36506.0\n",
       "39773      34849.0"
      ]
     },
     "execution_count": 11,
     "metadata": {},
     "output_type": "execute_result"
    }
   ],
   "source": [
    "df1_grouped = df1_filtered.groupby(by='uid').sum()\n",
    "df1_grouped.sort_values('active_mins', ascending=False).head()"
   ]
  },
  {
   "cell_type": "markdown",
   "id": "0c8b77ca",
   "metadata": {
    "papermill": {
     "duration": 0.047421,
     "end_time": "2021-08-20T03:08:26.681559",
     "exception": false,
     "start_time": "2021-08-20T03:08:26.634138",
     "status": "completed"
    },
    "tags": []
   },
   "source": [
    "The total active_mins for each user has been collected in the table above, but the variant_number was messed up by the sum() function."
   ]
  },
  {
   "cell_type": "markdown",
   "id": "12ac3720",
   "metadata": {
    "papermill": {
     "duration": 0.04637,
     "end_time": "2021-08-20T03:08:26.774481",
     "exception": false,
     "start_time": "2021-08-20T03:08:26.728111",
     "status": "completed"
    },
    "tags": []
   },
   "source": [
    "### Joining user_active_min data with user_variant data"
   ]
  },
  {
   "cell_type": "markdown",
   "id": "e1c0777b",
   "metadata": {
    "papermill": {
     "duration": 0.046466,
     "end_time": "2021-08-20T03:08:26.868195",
     "exception": false,
     "start_time": "2021-08-20T03:08:26.821729",
     "status": "completed"
    },
    "tags": []
   },
   "source": [
    "The user_active_min data will be joined with the user_variant data on 'uid'. This will allow us to see how much time each user spent and which experimental group they were in."
   ]
  },
  {
   "cell_type": "code",
   "execution_count": 12,
   "id": "993173a8",
   "metadata": {
    "execution": {
     "iopub.execute_input": "2021-08-20T03:08:26.968613Z",
     "iopub.status.busy": "2021-08-20T03:08:26.967541Z",
     "iopub.status.idle": "2021-08-20T03:08:26.997055Z",
     "shell.execute_reply": "2021-08-20T03:08:26.996474Z",
     "shell.execute_reply.started": "2021-08-19T21:20:42.562397Z"
    },
    "papermill": {
     "duration": 0.082244,
     "end_time": "2021-08-20T03:08:26.997208",
     "exception": false,
     "start_time": "2021-08-20T03:08:26.914964",
     "status": "completed"
    },
    "tags": []
   },
   "outputs": [
    {
     "data": {
      "text/html": [
       "<div>\n",
       "<style scoped>\n",
       "    .dataframe tbody tr th:only-of-type {\n",
       "        vertical-align: middle;\n",
       "    }\n",
       "\n",
       "    .dataframe tbody tr th {\n",
       "        vertical-align: top;\n",
       "    }\n",
       "\n",
       "    .dataframe thead th {\n",
       "        text-align: right;\n",
       "    }\n",
       "</style>\n",
       "<table border=\"1\" class=\"dataframe\">\n",
       "  <thead>\n",
       "    <tr style=\"text-align: right;\">\n",
       "      <th></th>\n",
       "      <th>uid</th>\n",
       "      <th>active_mins</th>\n",
       "      <th>variant_number</th>\n",
       "      <th>dt</th>\n",
       "      <th>signup_date</th>\n",
       "    </tr>\n",
       "  </thead>\n",
       "  <tbody>\n",
       "    <tr>\n",
       "      <th>0</th>\n",
       "      <td>0</td>\n",
       "      <td>43.0</td>\n",
       "      <td>0</td>\n",
       "      <td>2019-02-06</td>\n",
       "      <td>2018-09-24</td>\n",
       "    </tr>\n",
       "    <tr>\n",
       "      <th>1</th>\n",
       "      <td>1</td>\n",
       "      <td>15205.0</td>\n",
       "      <td>0</td>\n",
       "      <td>2019-02-06</td>\n",
       "      <td>2016-11-07</td>\n",
       "    </tr>\n",
       "    <tr>\n",
       "      <th>2</th>\n",
       "      <td>2</td>\n",
       "      <td>17.0</td>\n",
       "      <td>0</td>\n",
       "      <td>2019-02-06</td>\n",
       "      <td>2018-09-17</td>\n",
       "    </tr>\n",
       "    <tr>\n",
       "      <th>3</th>\n",
       "      <td>3</td>\n",
       "      <td>77.0</td>\n",
       "      <td>0</td>\n",
       "      <td>2019-02-06</td>\n",
       "      <td>2018-03-04</td>\n",
       "    </tr>\n",
       "    <tr>\n",
       "      <th>4</th>\n",
       "      <td>4</td>\n",
       "      <td>39.0</td>\n",
       "      <td>0</td>\n",
       "      <td>2019-02-06</td>\n",
       "      <td>2017-03-09</td>\n",
       "    </tr>\n",
       "  </tbody>\n",
       "</table>\n",
       "</div>"
      ],
      "text/plain": [
       "   uid  active_mins  variant_number          dt signup_date\n",
       "0    0         43.0               0  2019-02-06  2018-09-24\n",
       "1    1      15205.0               0  2019-02-06  2016-11-07\n",
       "2    2         17.0               0  2019-02-06  2018-09-17\n",
       "3    3         77.0               0  2019-02-06  2018-03-04\n",
       "4    4         39.0               0  2019-02-06  2017-03-09"
      ]
     },
     "execution_count": 12,
     "metadata": {},
     "output_type": "execute_result"
    }
   ],
   "source": [
    "users = df1_grouped.merge(df2, on='uid')\n",
    "users.head()"
   ]
  },
  {
   "cell_type": "code",
   "execution_count": 13,
   "id": "845a6b43",
   "metadata": {
    "execution": {
     "iopub.execute_input": "2021-08-20T03:08:27.097506Z",
     "iopub.status.busy": "2021-08-20T03:08:27.096893Z",
     "iopub.status.idle": "2021-08-20T03:08:27.104950Z",
     "shell.execute_reply": "2021-08-20T03:08:27.104472Z",
     "shell.execute_reply.started": "2021-08-19T21:20:42.593501Z"
    },
    "papermill": {
     "duration": 0.059717,
     "end_time": "2021-08-20T03:08:27.105135",
     "exception": false,
     "start_time": "2021-08-20T03:08:27.045418",
     "status": "completed"
    },
    "tags": []
   },
   "outputs": [],
   "source": [
    "control = users[users['variant_number'] == 0] # control group\n",
    "treat = users[users['variant_number'] == 1] # treatment group"
   ]
  },
  {
   "cell_type": "code",
   "execution_count": 14,
   "id": "f1004a03",
   "metadata": {
    "execution": {
     "iopub.execute_input": "2021-08-20T03:08:27.203796Z",
     "iopub.status.busy": "2021-08-20T03:08:27.203121Z",
     "iopub.status.idle": "2021-08-20T03:08:27.214013Z",
     "shell.execute_reply": "2021-08-20T03:08:27.214463Z",
     "shell.execute_reply.started": "2021-08-19T21:20:42.60828Z"
    },
    "papermill": {
     "duration": 0.061169,
     "end_time": "2021-08-20T03:08:27.214635",
     "exception": false,
     "start_time": "2021-08-20T03:08:27.153466",
     "status": "completed"
    },
    "tags": []
   },
   "outputs": [
    {
     "data": {
      "text/html": [
       "<div>\n",
       "<style scoped>\n",
       "    .dataframe tbody tr th:only-of-type {\n",
       "        vertical-align: middle;\n",
       "    }\n",
       "\n",
       "    .dataframe tbody tr th {\n",
       "        vertical-align: top;\n",
       "    }\n",
       "\n",
       "    .dataframe thead th {\n",
       "        text-align: right;\n",
       "    }\n",
       "</style>\n",
       "<table border=\"1\" class=\"dataframe\">\n",
       "  <thead>\n",
       "    <tr style=\"text-align: right;\">\n",
       "      <th></th>\n",
       "      <th>uid</th>\n",
       "      <th>active_mins</th>\n",
       "      <th>variant_number</th>\n",
       "      <th>dt</th>\n",
       "      <th>signup_date</th>\n",
       "    </tr>\n",
       "  </thead>\n",
       "  <tbody>\n",
       "    <tr>\n",
       "      <th>0</th>\n",
       "      <td>0</td>\n",
       "      <td>43.0</td>\n",
       "      <td>0</td>\n",
       "      <td>2019-02-06</td>\n",
       "      <td>2018-09-24</td>\n",
       "    </tr>\n",
       "    <tr>\n",
       "      <th>1</th>\n",
       "      <td>1</td>\n",
       "      <td>15205.0</td>\n",
       "      <td>0</td>\n",
       "      <td>2019-02-06</td>\n",
       "      <td>2016-11-07</td>\n",
       "    </tr>\n",
       "    <tr>\n",
       "      <th>2</th>\n",
       "      <td>2</td>\n",
       "      <td>17.0</td>\n",
       "      <td>0</td>\n",
       "      <td>2019-02-06</td>\n",
       "      <td>2018-09-17</td>\n",
       "    </tr>\n",
       "    <tr>\n",
       "      <th>3</th>\n",
       "      <td>3</td>\n",
       "      <td>77.0</td>\n",
       "      <td>0</td>\n",
       "      <td>2019-02-06</td>\n",
       "      <td>2018-03-04</td>\n",
       "    </tr>\n",
       "    <tr>\n",
       "      <th>4</th>\n",
       "      <td>4</td>\n",
       "      <td>39.0</td>\n",
       "      <td>0</td>\n",
       "      <td>2019-02-06</td>\n",
       "      <td>2017-03-09</td>\n",
       "    </tr>\n",
       "  </tbody>\n",
       "</table>\n",
       "</div>"
      ],
      "text/plain": [
       "   uid  active_mins  variant_number          dt signup_date\n",
       "0    0         43.0               0  2019-02-06  2018-09-24\n",
       "1    1      15205.0               0  2019-02-06  2016-11-07\n",
       "2    2         17.0               0  2019-02-06  2018-09-17\n",
       "3    3         77.0               0  2019-02-06  2018-03-04\n",
       "4    4         39.0               0  2019-02-06  2017-03-09"
      ]
     },
     "execution_count": 14,
     "metadata": {},
     "output_type": "execute_result"
    }
   ],
   "source": [
    "control.head()"
   ]
  },
  {
   "cell_type": "code",
   "execution_count": 15,
   "id": "5bd2cfae",
   "metadata": {
    "execution": {
     "iopub.execute_input": "2021-08-20T03:08:27.320928Z",
     "iopub.status.busy": "2021-08-20T03:08:27.319978Z",
     "iopub.status.idle": "2021-08-20T03:08:27.324056Z",
     "shell.execute_reply": "2021-08-20T03:08:27.323626Z",
     "shell.execute_reply.started": "2021-08-19T21:20:42.627197Z"
    },
    "papermill": {
     "duration": 0.062126,
     "end_time": "2021-08-20T03:08:27.324215",
     "exception": false,
     "start_time": "2021-08-20T03:08:27.262089",
     "status": "completed"
    },
    "tags": []
   },
   "outputs": [
    {
     "data": {
      "text/html": [
       "<div>\n",
       "<style scoped>\n",
       "    .dataframe tbody tr th:only-of-type {\n",
       "        vertical-align: middle;\n",
       "    }\n",
       "\n",
       "    .dataframe tbody tr th {\n",
       "        vertical-align: top;\n",
       "    }\n",
       "\n",
       "    .dataframe thead th {\n",
       "        text-align: right;\n",
       "    }\n",
       "</style>\n",
       "<table border=\"1\" class=\"dataframe\">\n",
       "  <thead>\n",
       "    <tr style=\"text-align: right;\">\n",
       "      <th></th>\n",
       "      <th>uid</th>\n",
       "      <th>active_mins</th>\n",
       "      <th>variant_number</th>\n",
       "      <th>dt</th>\n",
       "      <th>signup_date</th>\n",
       "    </tr>\n",
       "  </thead>\n",
       "  <tbody>\n",
       "    <tr>\n",
       "      <th>37425</th>\n",
       "      <td>40000</td>\n",
       "      <td>25.0</td>\n",
       "      <td>1</td>\n",
       "      <td>2019-02-06</td>\n",
       "      <td>2019-02-04</td>\n",
       "    </tr>\n",
       "    <tr>\n",
       "      <th>37426</th>\n",
       "      <td>40001</td>\n",
       "      <td>299.0</td>\n",
       "      <td>1</td>\n",
       "      <td>2019-02-06</td>\n",
       "      <td>2017-04-29</td>\n",
       "    </tr>\n",
       "    <tr>\n",
       "      <th>37427</th>\n",
       "      <td>40002</td>\n",
       "      <td>183.0</td>\n",
       "      <td>1</td>\n",
       "      <td>2019-02-06</td>\n",
       "      <td>2015-08-22</td>\n",
       "    </tr>\n",
       "    <tr>\n",
       "      <th>37428</th>\n",
       "      <td>40004</td>\n",
       "      <td>56.0</td>\n",
       "      <td>1</td>\n",
       "      <td>2019-02-06</td>\n",
       "      <td>2015-04-12</td>\n",
       "    </tr>\n",
       "    <tr>\n",
       "      <th>37429</th>\n",
       "      <td>40005</td>\n",
       "      <td>289.0</td>\n",
       "      <td>1</td>\n",
       "      <td>2019-02-06</td>\n",
       "      <td>2017-03-05</td>\n",
       "    </tr>\n",
       "  </tbody>\n",
       "</table>\n",
       "</div>"
      ],
      "text/plain": [
       "         uid  active_mins  variant_number          dt signup_date\n",
       "37425  40000         25.0               1  2019-02-06  2019-02-04\n",
       "37426  40001        299.0               1  2019-02-06  2017-04-29\n",
       "37427  40002        183.0               1  2019-02-06  2015-08-22\n",
       "37428  40004         56.0               1  2019-02-06  2015-04-12\n",
       "37429  40005        289.0               1  2019-02-06  2017-03-05"
      ]
     },
     "execution_count": 15,
     "metadata": {},
     "output_type": "execute_result"
    }
   ],
   "source": [
    "treat.head()"
   ]
  },
  {
   "cell_type": "code",
   "execution_count": 16,
   "id": "93ad6347",
   "metadata": {
    "execution": {
     "iopub.execute_input": "2021-08-20T03:08:27.423612Z",
     "iopub.status.busy": "2021-08-20T03:08:27.422706Z",
     "iopub.status.idle": "2021-08-20T03:08:27.428279Z",
     "shell.execute_reply": "2021-08-20T03:08:27.428723Z",
     "shell.execute_reply.started": "2021-08-19T21:20:42.646931Z"
    },
    "papermill": {
     "duration": 0.056834,
     "end_time": "2021-08-20T03:08:27.428883",
     "exception": false,
     "start_time": "2021-08-20T03:08:27.372049",
     "status": "completed"
    },
    "tags": []
   },
   "outputs": [
    {
     "data": {
      "text/plain": [
       "458.4024761077324"
      ]
     },
     "execution_count": 16,
     "metadata": {},
     "output_type": "execute_result"
    }
   ],
   "source": [
    "np.mean(treat['active_mins'])"
   ]
  },
  {
   "cell_type": "code",
   "execution_count": 17,
   "id": "568d8fb7",
   "metadata": {
    "execution": {
     "iopub.execute_input": "2021-08-20T03:08:27.529008Z",
     "iopub.status.busy": "2021-08-20T03:08:27.528120Z",
     "iopub.status.idle": "2021-08-20T03:08:27.534019Z",
     "shell.execute_reply": "2021-08-20T03:08:27.534474Z",
     "shell.execute_reply.started": "2021-08-19T21:20:42.66045Z"
    },
    "papermill": {
     "duration": 0.057155,
     "end_time": "2021-08-20T03:08:27.534644",
     "exception": false,
     "start_time": "2021-08-20T03:08:27.477489",
     "status": "completed"
    },
    "tags": []
   },
   "outputs": [
    {
     "data": {
      "text/plain": [
       "458.2211623246493"
      ]
     },
     "execution_count": 17,
     "metadata": {},
     "output_type": "execute_result"
    }
   ],
   "source": [
    "np.mean(control['active_mins'])"
   ]
  },
  {
   "cell_type": "markdown",
   "id": "8443aa1e",
   "metadata": {
    "papermill": {
     "duration": 0.050447,
     "end_time": "2021-08-20T03:08:27.634958",
     "exception": false,
     "start_time": "2021-08-20T03:08:27.584511",
     "status": "completed"
    },
    "tags": []
   },
   "source": [
    "## Checking variations of the two groups using Levene's test"
   ]
  },
  {
   "cell_type": "code",
   "execution_count": 18,
   "id": "6f6bd01c",
   "metadata": {
    "execution": {
     "iopub.execute_input": "2021-08-20T03:08:27.735737Z",
     "iopub.status.busy": "2021-08-20T03:08:27.734813Z",
     "iopub.status.idle": "2021-08-20T03:08:27.742355Z",
     "shell.execute_reply": "2021-08-20T03:08:27.742794Z",
     "shell.execute_reply.started": "2021-08-19T21:20:42.678089Z"
    },
    "papermill": {
     "duration": 0.05945,
     "end_time": "2021-08-20T03:08:27.742972",
     "exception": false,
     "start_time": "2021-08-20T03:08:27.683522",
     "status": "completed"
    },
    "tags": []
   },
   "outputs": [
    {
     "data": {
      "text/plain": [
       "LeveneResult(statistic=2.4355495589285394, pvalue=0.11861910565686667)"
      ]
     },
     "execution_count": 18,
     "metadata": {},
     "output_type": "execute_result"
    }
   ],
   "source": [
    "import scipy.stats as stats\n",
    "\n",
    "stats.levene(treat['active_mins'],\n",
    "             control['active_mins'],\n",
    "             center= 'mean')"
   ]
  },
  {
   "cell_type": "markdown",
   "id": "04050f51",
   "metadata": {
    "papermill": {
     "duration": 0.0482,
     "end_time": "2021-08-20T03:08:27.839630",
     "exception": false,
     "start_time": "2021-08-20T03:08:27.791430",
     "status": "completed"
    },
    "tags": []
   },
   "source": [
    "The p-value of Levene's test is greater than 0.05, which means that there is not enough evidence to reject the null hypothesis that the two groups have equal variances. We will assume that the two groups have the same variance, so a pooled t-test will be used to find the confidence interval."
   ]
  },
  {
   "cell_type": "markdown",
   "id": "fb5964a1",
   "metadata": {
    "papermill": {
     "duration": 0.049145,
     "end_time": "2021-08-20T03:08:27.937269",
     "exception": false,
     "start_time": "2021-08-20T03:08:27.888124",
     "status": "completed"
    },
    "tags": []
   },
   "source": [
    "## Finding the t-test CI"
   ]
  },
  {
   "cell_type": "code",
   "execution_count": 19,
   "id": "f93ddd88",
   "metadata": {
    "execution": {
     "iopub.execute_input": "2021-08-20T03:08:28.038880Z",
     "iopub.status.busy": "2021-08-20T03:08:28.038236Z",
     "iopub.status.idle": "2021-08-20T03:08:28.048909Z",
     "shell.execute_reply": "2021-08-20T03:08:28.049612Z",
     "shell.execute_reply.started": "2021-08-19T21:20:42.690734Z"
    },
    "papermill": {
     "duration": 0.062842,
     "end_time": "2021-08-20T03:08:28.049878",
     "exception": false,
     "start_time": "2021-08-20T03:08:27.987036",
     "status": "completed"
    },
    "tags": []
   },
   "outputs": [
    {
     "data": {
      "text/plain": [
       "(-37.64085130442592, 38.00347887059215)"
      ]
     },
     "execution_count": 19,
     "metadata": {},
     "output_type": "execute_result"
    }
   ],
   "source": [
    "r = sms.CompareMeans(sms.DescrStatsW(treat['active_mins']), sms.DescrStatsW(control['active_mins']), )\n",
    "\n",
    "r.tconfint_diff(alpha=0.05, alternative='two-sided', usevar='pooled')"
   ]
  },
  {
   "cell_type": "markdown",
   "id": "047c854c",
   "metadata": {
    "papermill": {
     "duration": 0.053433,
     "end_time": "2021-08-20T03:08:28.200742",
     "exception": false,
     "start_time": "2021-08-20T03:08:28.147309",
     "status": "completed"
    },
    "tags": []
   },
   "source": [
    "**95% Confidence Interval: (-37.64, 38.00) minutes**\n",
    "\n",
    "We are 95% confident that the true difference between the treatment group's mean and the control group's mean is between -38 and +38 minutes. One factor to note is that the confidence interval is quite wide. If the interval were much narrower like -1 and +1 minutes, then I would suggest not pushing to production, but in this case the wide confidence interval suggests that more research may be needed."
   ]
  },
  {
   "cell_type": "markdown",
   "id": "662c550c",
   "metadata": {
    "papermill": {
     "duration": 0.048212,
     "end_time": "2021-08-20T03:08:28.298729",
     "exception": false,
     "start_time": "2021-08-20T03:08:28.250517",
     "status": "completed"
    },
    "tags": []
   },
   "source": [
    "### Including the user data from before the experiment"
   ]
  },
  {
   "cell_type": "markdown",
   "id": "7fa484e3",
   "metadata": {
    "papermill": {
     "duration": 0.048341,
     "end_time": "2021-08-20T03:08:28.395606",
     "exception": false,
     "start_time": "2021-08-20T03:08:28.347265",
     "status": "completed"
    },
    "tags": []
   },
   "source": [
    "The pre-experiment data can be used to determine how much variance existed prior to the experiment. This information can then be used to potentially find a narrower 95% confidence interval."
   ]
  },
  {
   "cell_type": "code",
   "execution_count": 20,
   "id": "f73c97ac",
   "metadata": {
    "execution": {
     "iopub.execute_input": "2021-08-20T03:08:28.496882Z",
     "iopub.status.busy": "2021-08-20T03:08:28.496105Z",
     "iopub.status.idle": "2021-08-20T03:08:29.212434Z",
     "shell.execute_reply": "2021-08-20T03:08:29.211903Z",
     "shell.execute_reply.started": "2021-08-19T21:20:42.709726Z"
    },
    "papermill": {
     "duration": 0.768449,
     "end_time": "2021-08-20T03:08:29.212567",
     "exception": false,
     "start_time": "2021-08-20T03:08:28.444118",
     "status": "completed"
    },
    "tags": []
   },
   "outputs": [
    {
     "data": {
      "text/html": [
       "<div>\n",
       "<style scoped>\n",
       "    .dataframe tbody tr th:only-of-type {\n",
       "        vertical-align: middle;\n",
       "    }\n",
       "\n",
       "    .dataframe tbody tr th {\n",
       "        vertical-align: top;\n",
       "    }\n",
       "\n",
       "    .dataframe thead th {\n",
       "        text-align: right;\n",
       "    }\n",
       "</style>\n",
       "<table border=\"1\" class=\"dataframe\">\n",
       "  <thead>\n",
       "    <tr style=\"text-align: right;\">\n",
       "      <th></th>\n",
       "      <th>uid</th>\n",
       "      <th>dt</th>\n",
       "      <th>active_mins</th>\n",
       "    </tr>\n",
       "  </thead>\n",
       "  <tbody>\n",
       "    <tr>\n",
       "      <th>0</th>\n",
       "      <td>0</td>\n",
       "      <td>2018-09-24</td>\n",
       "      <td>3.0</td>\n",
       "    </tr>\n",
       "    <tr>\n",
       "      <th>1</th>\n",
       "      <td>0</td>\n",
       "      <td>2018-11-08</td>\n",
       "      <td>4.0</td>\n",
       "    </tr>\n",
       "    <tr>\n",
       "      <th>2</th>\n",
       "      <td>0</td>\n",
       "      <td>2018-11-24</td>\n",
       "      <td>3.0</td>\n",
       "    </tr>\n",
       "    <tr>\n",
       "      <th>3</th>\n",
       "      <td>0</td>\n",
       "      <td>2018-11-28</td>\n",
       "      <td>6.0</td>\n",
       "    </tr>\n",
       "    <tr>\n",
       "      <th>4</th>\n",
       "      <td>0</td>\n",
       "      <td>2018-12-02</td>\n",
       "      <td>6.0</td>\n",
       "    </tr>\n",
       "  </tbody>\n",
       "</table>\n",
       "</div>"
      ],
      "text/plain": [
       "   uid          dt  active_mins\n",
       "0    0  2018-09-24          3.0\n",
       "1    0  2018-11-08          4.0\n",
       "2    0  2018-11-24          3.0\n",
       "3    0  2018-11-28          6.0\n",
       "4    0  2018-12-02          6.0"
      ]
     },
     "execution_count": 20,
     "metadata": {},
     "output_type": "execute_result"
    }
   ],
   "source": [
    "df3 = pd.read_csv('../input/quora-data-challenge/t3_user_active_min_pre.csv')\n",
    "df3.head()"
   ]
  },
  {
   "cell_type": "markdown",
   "id": "d600ffaf",
   "metadata": {
    "papermill": {
     "duration": 0.048468,
     "end_time": "2021-08-20T03:08:29.309923",
     "exception": false,
     "start_time": "2021-08-20T03:08:29.261455",
     "status": "completed"
    },
    "tags": []
   },
   "source": [
    "### Getting rid of outliers"
   ]
  },
  {
   "cell_type": "code",
   "execution_count": 21,
   "id": "7c2013aa",
   "metadata": {
    "execution": {
     "iopub.execute_input": "2021-08-20T03:08:29.511500Z",
     "iopub.status.busy": "2021-08-20T03:08:29.510712Z",
     "iopub.status.idle": "2021-08-20T03:08:29.514740Z",
     "shell.execute_reply": "2021-08-20T03:08:29.514289Z",
     "shell.execute_reply.started": "2021-08-19T21:20:43.363533Z"
    },
    "papermill": {
     "duration": 0.156017,
     "end_time": "2021-08-20T03:08:29.514878",
     "exception": false,
     "start_time": "2021-08-20T03:08:29.358861",
     "status": "completed"
    },
    "tags": []
   },
   "outputs": [
    {
     "data": {
      "text/plain": [
       "99999.0"
      ]
     },
     "execution_count": 21,
     "metadata": {},
     "output_type": "execute_result"
    }
   ],
   "source": [
    "maxMins3 = max(df3['active_mins'])\n",
    "maxMins3"
   ]
  },
  {
   "cell_type": "code",
   "execution_count": 22,
   "id": "876eb9a4",
   "metadata": {
    "execution": {
     "iopub.execute_input": "2021-08-20T03:08:29.619106Z",
     "iopub.status.busy": "2021-08-20T03:08:29.618461Z",
     "iopub.status.idle": "2021-08-20T03:08:29.879355Z",
     "shell.execute_reply": "2021-08-20T03:08:29.878866Z",
     "shell.execute_reply.started": "2021-08-19T21:20:43.59653Z"
    },
    "papermill": {
     "duration": 0.315369,
     "end_time": "2021-08-20T03:08:29.879494",
     "exception": false,
     "start_time": "2021-08-20T03:08:29.564125",
     "status": "completed"
    },
    "tags": []
   },
   "outputs": [
    {
     "data": {
      "text/html": [
       "<div>\n",
       "<style scoped>\n",
       "    .dataframe tbody tr th:only-of-type {\n",
       "        vertical-align: middle;\n",
       "    }\n",
       "\n",
       "    .dataframe tbody tr th {\n",
       "        vertical-align: top;\n",
       "    }\n",
       "\n",
       "    .dataframe thead th {\n",
       "        text-align: right;\n",
       "    }\n",
       "</style>\n",
       "<table border=\"1\" class=\"dataframe\">\n",
       "  <thead>\n",
       "    <tr style=\"text-align: right;\">\n",
       "      <th></th>\n",
       "      <th>uid</th>\n",
       "      <th>dt</th>\n",
       "      <th>active_mins</th>\n",
       "    </tr>\n",
       "  </thead>\n",
       "  <tbody>\n",
       "    <tr>\n",
       "      <th>386278</th>\n",
       "      <td>15516</td>\n",
       "      <td>2018-09-25</td>\n",
       "      <td>897.0</td>\n",
       "    </tr>\n",
       "    <tr>\n",
       "      <th>553056</th>\n",
       "      <td>22230</td>\n",
       "      <td>2019-01-06</td>\n",
       "      <td>896.0</td>\n",
       "    </tr>\n",
       "    <tr>\n",
       "      <th>983780</th>\n",
       "      <td>39773</td>\n",
       "      <td>2018-09-21</td>\n",
       "      <td>895.0</td>\n",
       "    </tr>\n",
       "    <tr>\n",
       "      <th>474790</th>\n",
       "      <td>19136</td>\n",
       "      <td>2019-01-27</td>\n",
       "      <td>894.0</td>\n",
       "    </tr>\n",
       "    <tr>\n",
       "      <th>947093</th>\n",
       "      <td>38304</td>\n",
       "      <td>2018-10-01</td>\n",
       "      <td>893.0</td>\n",
       "    </tr>\n",
       "  </tbody>\n",
       "</table>\n",
       "</div>"
      ],
      "text/plain": [
       "          uid          dt  active_mins\n",
       "386278  15516  2018-09-25        897.0\n",
       "553056  22230  2019-01-06        896.0\n",
       "983780  39773  2018-09-21        895.0\n",
       "474790  19136  2019-01-27        894.0\n",
       "947093  38304  2018-10-01        893.0"
      ]
     },
     "execution_count": 22,
     "metadata": {},
     "output_type": "execute_result"
    }
   ],
   "source": [
    "df3_filtered = df3[df3['active_mins'] != maxMins3]\n",
    "df3_filtered.sort_values('active_mins', ascending=False).head()"
   ]
  },
  {
   "cell_type": "code",
   "execution_count": 23,
   "id": "aa853e87",
   "metadata": {
    "execution": {
     "iopub.execute_input": "2021-08-20T03:08:29.989233Z",
     "iopub.status.busy": "2021-08-20T03:08:29.988575Z",
     "iopub.status.idle": "2021-08-20T03:08:30.058469Z",
     "shell.execute_reply": "2021-08-20T03:08:30.057935Z",
     "shell.execute_reply.started": "2021-08-19T21:20:43.933926Z"
    },
    "papermill": {
     "duration": 0.127821,
     "end_time": "2021-08-20T03:08:30.058618",
     "exception": false,
     "start_time": "2021-08-20T03:08:29.930797",
     "status": "completed"
    },
    "tags": []
   },
   "outputs": [
    {
     "data": {
      "text/html": [
       "<div>\n",
       "<style scoped>\n",
       "    .dataframe tbody tr th:only-of-type {\n",
       "        vertical-align: middle;\n",
       "    }\n",
       "\n",
       "    .dataframe tbody tr th {\n",
       "        vertical-align: top;\n",
       "    }\n",
       "\n",
       "    .dataframe thead th {\n",
       "        text-align: right;\n",
       "    }\n",
       "</style>\n",
       "<table border=\"1\" class=\"dataframe\">\n",
       "  <thead>\n",
       "    <tr style=\"text-align: right;\">\n",
       "      <th></th>\n",
       "      <th>active_mins</th>\n",
       "    </tr>\n",
       "    <tr>\n",
       "      <th>uid</th>\n",
       "      <th></th>\n",
       "    </tr>\n",
       "  </thead>\n",
       "  <tbody>\n",
       "    <tr>\n",
       "      <th>0</th>\n",
       "      <td>70.0</td>\n",
       "    </tr>\n",
       "    <tr>\n",
       "      <th>1</th>\n",
       "      <td>19158.0</td>\n",
       "    </tr>\n",
       "    <tr>\n",
       "      <th>2</th>\n",
       "      <td>37.0</td>\n",
       "    </tr>\n",
       "    <tr>\n",
       "      <th>3</th>\n",
       "      <td>108.0</td>\n",
       "    </tr>\n",
       "    <tr>\n",
       "      <th>4</th>\n",
       "      <td>66.0</td>\n",
       "    </tr>\n",
       "    <tr>\n",
       "      <th>...</th>\n",
       "      <td>...</td>\n",
       "    </tr>\n",
       "    <tr>\n",
       "      <th>49995</th>\n",
       "      <td>34.0</td>\n",
       "    </tr>\n",
       "    <tr>\n",
       "      <th>49996</th>\n",
       "      <td>243.0</td>\n",
       "    </tr>\n",
       "    <tr>\n",
       "      <th>49997</th>\n",
       "      <td>83.0</td>\n",
       "    </tr>\n",
       "    <tr>\n",
       "      <th>49998</th>\n",
       "      <td>124.0</td>\n",
       "    </tr>\n",
       "    <tr>\n",
       "      <th>49999</th>\n",
       "      <td>77.0</td>\n",
       "    </tr>\n",
       "  </tbody>\n",
       "</table>\n",
       "<p>49697 rows × 1 columns</p>\n",
       "</div>"
      ],
      "text/plain": [
       "       active_mins\n",
       "uid               \n",
       "0             70.0\n",
       "1          19158.0\n",
       "2             37.0\n",
       "3            108.0\n",
       "4             66.0\n",
       "...            ...\n",
       "49995         34.0\n",
       "49996        243.0\n",
       "49997         83.0\n",
       "49998        124.0\n",
       "49999         77.0\n",
       "\n",
       "[49697 rows x 1 columns]"
      ]
     },
     "execution_count": 23,
     "metadata": {},
     "output_type": "execute_result"
    }
   ],
   "source": [
    "df3_grouped = df3_filtered.groupby('uid').sum()\n",
    "df3_grouped"
   ]
  },
  {
   "cell_type": "markdown",
   "id": "ab457568",
   "metadata": {
    "papermill": {
     "duration": 0.049577,
     "end_time": "2021-08-20T03:08:30.158230",
     "exception": false,
     "start_time": "2021-08-20T03:08:30.108653",
     "status": "completed"
    },
    "tags": []
   },
   "source": [
    "### Joining all of the datasets by 'uid'"
   ]
  },
  {
   "cell_type": "code",
   "execution_count": 24,
   "id": "85e5ec22",
   "metadata": {
    "execution": {
     "iopub.execute_input": "2021-08-20T03:08:30.262772Z",
     "iopub.status.busy": "2021-08-20T03:08:30.262109Z",
     "iopub.status.idle": "2021-08-20T03:08:30.295381Z",
     "shell.execute_reply": "2021-08-20T03:08:30.294746Z",
     "shell.execute_reply.started": "2021-08-19T21:20:44.021397Z"
    },
    "papermill": {
     "duration": 0.087392,
     "end_time": "2021-08-20T03:08:30.295525",
     "exception": false,
     "start_time": "2021-08-20T03:08:30.208133",
     "status": "completed"
    },
    "tags": []
   },
   "outputs": [
    {
     "data": {
      "text/html": [
       "<div>\n",
       "<style scoped>\n",
       "    .dataframe tbody tr th:only-of-type {\n",
       "        vertical-align: middle;\n",
       "    }\n",
       "\n",
       "    .dataframe tbody tr th {\n",
       "        vertical-align: top;\n",
       "    }\n",
       "\n",
       "    .dataframe thead th {\n",
       "        text-align: right;\n",
       "    }\n",
       "</style>\n",
       "<table border=\"1\" class=\"dataframe\">\n",
       "  <thead>\n",
       "    <tr style=\"text-align: right;\">\n",
       "      <th></th>\n",
       "      <th>uid</th>\n",
       "      <th>active_mins_pre</th>\n",
       "      <th>active_mins_during</th>\n",
       "      <th>variant_number</th>\n",
       "      <th>dt</th>\n",
       "      <th>signup_date</th>\n",
       "    </tr>\n",
       "  </thead>\n",
       "  <tbody>\n",
       "    <tr>\n",
       "      <th>0</th>\n",
       "      <td>0</td>\n",
       "      <td>70.0</td>\n",
       "      <td>43.0</td>\n",
       "      <td>0</td>\n",
       "      <td>2019-02-06</td>\n",
       "      <td>2018-09-24</td>\n",
       "    </tr>\n",
       "    <tr>\n",
       "      <th>1</th>\n",
       "      <td>1</td>\n",
       "      <td>19158.0</td>\n",
       "      <td>15205.0</td>\n",
       "      <td>0</td>\n",
       "      <td>2019-02-06</td>\n",
       "      <td>2016-11-07</td>\n",
       "    </tr>\n",
       "    <tr>\n",
       "      <th>2</th>\n",
       "      <td>2</td>\n",
       "      <td>37.0</td>\n",
       "      <td>17.0</td>\n",
       "      <td>0</td>\n",
       "      <td>2019-02-06</td>\n",
       "      <td>2018-09-17</td>\n",
       "    </tr>\n",
       "    <tr>\n",
       "      <th>3</th>\n",
       "      <td>3</td>\n",
       "      <td>108.0</td>\n",
       "      <td>77.0</td>\n",
       "      <td>0</td>\n",
       "      <td>2019-02-06</td>\n",
       "      <td>2018-03-04</td>\n",
       "    </tr>\n",
       "    <tr>\n",
       "      <th>4</th>\n",
       "      <td>4</td>\n",
       "      <td>66.0</td>\n",
       "      <td>39.0</td>\n",
       "      <td>0</td>\n",
       "      <td>2019-02-06</td>\n",
       "      <td>2017-03-09</td>\n",
       "    </tr>\n",
       "    <tr>\n",
       "      <th>...</th>\n",
       "      <td>...</td>\n",
       "      <td>...</td>\n",
       "      <td>...</td>\n",
       "      <td>...</td>\n",
       "      <td>...</td>\n",
       "      <td>...</td>\n",
       "    </tr>\n",
       "    <tr>\n",
       "      <th>46473</th>\n",
       "      <td>49995</td>\n",
       "      <td>34.0</td>\n",
       "      <td>95.0</td>\n",
       "      <td>1</td>\n",
       "      <td>2019-02-06</td>\n",
       "      <td>2018-10-11</td>\n",
       "    </tr>\n",
       "    <tr>\n",
       "      <th>46474</th>\n",
       "      <td>49996</td>\n",
       "      <td>243.0</td>\n",
       "      <td>156.0</td>\n",
       "      <td>1</td>\n",
       "      <td>2019-02-06</td>\n",
       "      <td>2014-12-06</td>\n",
       "    </tr>\n",
       "    <tr>\n",
       "      <th>46475</th>\n",
       "      <td>49997</td>\n",
       "      <td>83.0</td>\n",
       "      <td>379.0</td>\n",
       "      <td>1</td>\n",
       "      <td>2019-02-06</td>\n",
       "      <td>2018-11-15</td>\n",
       "    </tr>\n",
       "    <tr>\n",
       "      <th>46476</th>\n",
       "      <td>49998</td>\n",
       "      <td>124.0</td>\n",
       "      <td>597.0</td>\n",
       "      <td>1</td>\n",
       "      <td>2019-02-06</td>\n",
       "      <td>2016-04-05</td>\n",
       "    </tr>\n",
       "    <tr>\n",
       "      <th>46477</th>\n",
       "      <td>49999</td>\n",
       "      <td>77.0</td>\n",
       "      <td>39.0</td>\n",
       "      <td>1</td>\n",
       "      <td>2019-02-06</td>\n",
       "      <td>2015-12-29</td>\n",
       "    </tr>\n",
       "  </tbody>\n",
       "</table>\n",
       "<p>46478 rows × 6 columns</p>\n",
       "</div>"
      ],
      "text/plain": [
       "         uid  active_mins_pre  active_mins_during  variant_number          dt  \\\n",
       "0          0             70.0                43.0               0  2019-02-06   \n",
       "1          1          19158.0             15205.0               0  2019-02-06   \n",
       "2          2             37.0                17.0               0  2019-02-06   \n",
       "3          3            108.0                77.0               0  2019-02-06   \n",
       "4          4             66.0                39.0               0  2019-02-06   \n",
       "...      ...              ...                 ...             ...         ...   \n",
       "46473  49995             34.0                95.0               1  2019-02-06   \n",
       "46474  49996            243.0               156.0               1  2019-02-06   \n",
       "46475  49997             83.0               379.0               1  2019-02-06   \n",
       "46476  49998            124.0               597.0               1  2019-02-06   \n",
       "46477  49999             77.0                39.0               1  2019-02-06   \n",
       "\n",
       "      signup_date  \n",
       "0      2018-09-24  \n",
       "1      2016-11-07  \n",
       "2      2018-09-17  \n",
       "3      2018-03-04  \n",
       "4      2017-03-09  \n",
       "...           ...  \n",
       "46473  2018-10-11  \n",
       "46474  2014-12-06  \n",
       "46475  2018-11-15  \n",
       "46476  2016-04-05  \n",
       "46477  2015-12-29  \n",
       "\n",
       "[46478 rows x 6 columns]"
      ]
     },
     "execution_count": 24,
     "metadata": {},
     "output_type": "execute_result"
    }
   ],
   "source": [
    "usersAll = df3_grouped.merge(users, on='uid')\n",
    "usersAll = usersAll.rename(columns={\"active_mins_x\": \"active_mins_pre\", \"active_mins_y\": \"active_mins_during\"})\n",
    "usersAll"
   ]
  },
  {
   "cell_type": "markdown",
   "id": "d979073a",
   "metadata": {
    "papermill": {
     "duration": 0.05033,
     "end_time": "2021-08-20T03:08:30.397094",
     "exception": false,
     "start_time": "2021-08-20T03:08:30.346764",
     "status": "completed"
    },
    "tags": []
   },
   "source": [
    "### CUPED Method"
   ]
  },
  {
   "cell_type": "markdown",
   "id": "cd9f730e",
   "metadata": {
    "papermill": {
     "duration": 0.050259,
     "end_time": "2021-08-20T03:08:30.497897",
     "exception": false,
     "start_time": "2021-08-20T03:08:30.447638",
     "status": "completed"
    },
    "tags": []
   },
   "source": [
    "The CUPED method will be used to used to account for the variance that already existed in the data pre-experiment."
   ]
  },
  {
   "cell_type": "code",
   "execution_count": 25,
   "id": "57d3a32c",
   "metadata": {
    "execution": {
     "iopub.execute_input": "2021-08-20T03:08:30.604718Z",
     "iopub.status.busy": "2021-08-20T03:08:30.603961Z",
     "iopub.status.idle": "2021-08-20T03:08:30.610681Z",
     "shell.execute_reply": "2021-08-20T03:08:30.611083Z",
     "shell.execute_reply.started": "2021-08-19T21:20:44.0545Z"
    },
    "papermill": {
     "duration": 0.06268,
     "end_time": "2021-08-20T03:08:30.611286",
     "exception": false,
     "start_time": "2021-08-20T03:08:30.548606",
     "status": "completed"
    },
    "tags": []
   },
   "outputs": [
    {
     "data": {
      "text/plain": [
       "array([[2760204.92147234, 2435341.38541061],\n",
       "       [2435341.38541061, 3075550.56418511]])"
      ]
     },
     "execution_count": 25,
     "metadata": {},
     "output_type": "execute_result"
    }
   ],
   "source": [
    "covarianceMatrix = np.cov(usersAll['active_mins_during'], usersAll['active_mins_pre'])\n",
    "covarianceMatrix"
   ]
  },
  {
   "cell_type": "code",
   "execution_count": 26,
   "id": "11d0b703",
   "metadata": {
    "execution": {
     "iopub.execute_input": "2021-08-20T03:08:30.715835Z",
     "iopub.status.busy": "2021-08-20T03:08:30.714895Z",
     "iopub.status.idle": "2021-08-20T03:08:30.721425Z",
     "shell.execute_reply": "2021-08-20T03:08:30.720836Z",
     "shell.execute_reply.started": "2021-08-19T21:20:44.062653Z"
    },
    "papermill": {
     "duration": 0.059819,
     "end_time": "2021-08-20T03:08:30.721561",
     "exception": false,
     "start_time": "2021-08-20T03:08:30.661742",
     "status": "completed"
    },
    "tags": []
   },
   "outputs": [
    {
     "data": {
      "text/plain": [
       "2435341.3854106083"
      ]
     },
     "execution_count": 26,
     "metadata": {},
     "output_type": "execute_result"
    }
   ],
   "source": [
    "covariance = covarianceMatrix[0][1]\n",
    "covariance"
   ]
  },
  {
   "cell_type": "code",
   "execution_count": 27,
   "id": "39ca3e77",
   "metadata": {
    "execution": {
     "iopub.execute_input": "2021-08-20T03:08:30.831971Z",
     "iopub.status.busy": "2021-08-20T03:08:30.830692Z",
     "iopub.status.idle": "2021-08-20T03:08:30.837302Z",
     "shell.execute_reply": "2021-08-20T03:08:30.838066Z",
     "shell.execute_reply.started": "2021-08-19T21:20:44.074692Z"
    },
    "papermill": {
     "duration": 0.065625,
     "end_time": "2021-08-20T03:08:30.838372",
     "exception": false,
     "start_time": "2021-08-20T03:08:30.772747",
     "status": "completed"
    },
    "tags": []
   },
   "outputs": [
    {
     "data": {
      "text/plain": [
       "array(3075550.56418511)"
      ]
     },
     "execution_count": 27,
     "metadata": {},
     "output_type": "execute_result"
    }
   ],
   "source": [
    "variance = np.cov(usersAll['active_mins_pre']) # variance of the pre-experiment data\n",
    "variance"
   ]
  },
  {
   "cell_type": "code",
   "execution_count": 28,
   "id": "662920ac",
   "metadata": {
    "execution": {
     "iopub.execute_input": "2021-08-20T03:08:31.001810Z",
     "iopub.status.busy": "2021-08-20T03:08:31.001183Z",
     "iopub.status.idle": "2021-08-20T03:08:31.004592Z",
     "shell.execute_reply": "2021-08-20T03:08:31.003985Z",
     "shell.execute_reply.started": "2021-08-19T21:20:44.091681Z"
    },
    "papermill": {
     "duration": 0.062652,
     "end_time": "2021-08-20T03:08:31.004725",
     "exception": false,
     "start_time": "2021-08-20T03:08:30.942073",
     "status": "completed"
    },
    "tags": []
   },
   "outputs": [
    {
     "data": {
      "text/plain": [
       "0.7918391632933103"
      ]
     },
     "execution_count": 28,
     "metadata": {},
     "output_type": "execute_result"
    }
   ],
   "source": [
    "theta = covariance / variance\n",
    "theta"
   ]
  },
  {
   "cell_type": "markdown",
   "id": "5263ff3b",
   "metadata": {
    "papermill": {
     "duration": 0.051234,
     "end_time": "2021-08-20T03:08:31.107638",
     "exception": false,
     "start_time": "2021-08-20T03:08:31.056404",
     "status": "completed"
    },
    "tags": []
   },
   "source": [
    "Now we will use theta to calculate the CUPED adjusted active minutes."
   ]
  },
  {
   "cell_type": "code",
   "execution_count": 29,
   "id": "b746755a",
   "metadata": {
    "execution": {
     "iopub.execute_input": "2021-08-20T03:08:31.213862Z",
     "iopub.status.busy": "2021-08-20T03:08:31.213208Z",
     "iopub.status.idle": "2021-08-20T03:08:31.229737Z",
     "shell.execute_reply": "2021-08-20T03:08:31.230182Z",
     "shell.execute_reply.started": "2021-08-19T21:20:44.1021Z"
    },
    "papermill": {
     "duration": 0.071063,
     "end_time": "2021-08-20T03:08:31.230359",
     "exception": false,
     "start_time": "2021-08-20T03:08:31.159296",
     "status": "completed"
    },
    "tags": []
   },
   "outputs": [
    {
     "data": {
      "text/html": [
       "<div>\n",
       "<style scoped>\n",
       "    .dataframe tbody tr th:only-of-type {\n",
       "        vertical-align: middle;\n",
       "    }\n",
       "\n",
       "    .dataframe tbody tr th {\n",
       "        vertical-align: top;\n",
       "    }\n",
       "\n",
       "    .dataframe thead th {\n",
       "        text-align: right;\n",
       "    }\n",
       "</style>\n",
       "<table border=\"1\" class=\"dataframe\">\n",
       "  <thead>\n",
       "    <tr style=\"text-align: right;\">\n",
       "      <th></th>\n",
       "      <th>uid</th>\n",
       "      <th>active_mins_pre</th>\n",
       "      <th>active_mins_during</th>\n",
       "      <th>variant_number</th>\n",
       "      <th>dt</th>\n",
       "      <th>signup_date</th>\n",
       "    </tr>\n",
       "  </thead>\n",
       "  <tbody>\n",
       "    <tr>\n",
       "      <th>0</th>\n",
       "      <td>0</td>\n",
       "      <td>70.0</td>\n",
       "      <td>43.0</td>\n",
       "      <td>0</td>\n",
       "      <td>2019-02-06</td>\n",
       "      <td>2018-09-24</td>\n",
       "    </tr>\n",
       "    <tr>\n",
       "      <th>1</th>\n",
       "      <td>1</td>\n",
       "      <td>19158.0</td>\n",
       "      <td>15205.0</td>\n",
       "      <td>0</td>\n",
       "      <td>2019-02-06</td>\n",
       "      <td>2016-11-07</td>\n",
       "    </tr>\n",
       "    <tr>\n",
       "      <th>2</th>\n",
       "      <td>2</td>\n",
       "      <td>37.0</td>\n",
       "      <td>17.0</td>\n",
       "      <td>0</td>\n",
       "      <td>2019-02-06</td>\n",
       "      <td>2018-09-17</td>\n",
       "    </tr>\n",
       "    <tr>\n",
       "      <th>3</th>\n",
       "      <td>3</td>\n",
       "      <td>108.0</td>\n",
       "      <td>77.0</td>\n",
       "      <td>0</td>\n",
       "      <td>2019-02-06</td>\n",
       "      <td>2018-03-04</td>\n",
       "    </tr>\n",
       "    <tr>\n",
       "      <th>4</th>\n",
       "      <td>4</td>\n",
       "      <td>66.0</td>\n",
       "      <td>39.0</td>\n",
       "      <td>0</td>\n",
       "      <td>2019-02-06</td>\n",
       "      <td>2017-03-09</td>\n",
       "    </tr>\n",
       "    <tr>\n",
       "      <th>...</th>\n",
       "      <td>...</td>\n",
       "      <td>...</td>\n",
       "      <td>...</td>\n",
       "      <td>...</td>\n",
       "      <td>...</td>\n",
       "      <td>...</td>\n",
       "    </tr>\n",
       "    <tr>\n",
       "      <th>46473</th>\n",
       "      <td>49995</td>\n",
       "      <td>34.0</td>\n",
       "      <td>95.0</td>\n",
       "      <td>1</td>\n",
       "      <td>2019-02-06</td>\n",
       "      <td>2018-10-11</td>\n",
       "    </tr>\n",
       "    <tr>\n",
       "      <th>46474</th>\n",
       "      <td>49996</td>\n",
       "      <td>243.0</td>\n",
       "      <td>156.0</td>\n",
       "      <td>1</td>\n",
       "      <td>2019-02-06</td>\n",
       "      <td>2014-12-06</td>\n",
       "    </tr>\n",
       "    <tr>\n",
       "      <th>46475</th>\n",
       "      <td>49997</td>\n",
       "      <td>83.0</td>\n",
       "      <td>379.0</td>\n",
       "      <td>1</td>\n",
       "      <td>2019-02-06</td>\n",
       "      <td>2018-11-15</td>\n",
       "    </tr>\n",
       "    <tr>\n",
       "      <th>46476</th>\n",
       "      <td>49998</td>\n",
       "      <td>124.0</td>\n",
       "      <td>597.0</td>\n",
       "      <td>1</td>\n",
       "      <td>2019-02-06</td>\n",
       "      <td>2016-04-05</td>\n",
       "    </tr>\n",
       "    <tr>\n",
       "      <th>46477</th>\n",
       "      <td>49999</td>\n",
       "      <td>77.0</td>\n",
       "      <td>39.0</td>\n",
       "      <td>1</td>\n",
       "      <td>2019-02-06</td>\n",
       "      <td>2015-12-29</td>\n",
       "    </tr>\n",
       "  </tbody>\n",
       "</table>\n",
       "<p>46478 rows × 6 columns</p>\n",
       "</div>"
      ],
      "text/plain": [
       "         uid  active_mins_pre  active_mins_during  variant_number          dt  \\\n",
       "0          0             70.0                43.0               0  2019-02-06   \n",
       "1          1          19158.0             15205.0               0  2019-02-06   \n",
       "2          2             37.0                17.0               0  2019-02-06   \n",
       "3          3            108.0                77.0               0  2019-02-06   \n",
       "4          4             66.0                39.0               0  2019-02-06   \n",
       "...      ...              ...                 ...             ...         ...   \n",
       "46473  49995             34.0                95.0               1  2019-02-06   \n",
       "46474  49996            243.0               156.0               1  2019-02-06   \n",
       "46475  49997             83.0               379.0               1  2019-02-06   \n",
       "46476  49998            124.0               597.0               1  2019-02-06   \n",
       "46477  49999             77.0                39.0               1  2019-02-06   \n",
       "\n",
       "      signup_date  \n",
       "0      2018-09-24  \n",
       "1      2016-11-07  \n",
       "2      2018-09-17  \n",
       "3      2018-03-04  \n",
       "4      2017-03-09  \n",
       "...           ...  \n",
       "46473  2018-10-11  \n",
       "46474  2014-12-06  \n",
       "46475  2018-11-15  \n",
       "46476  2016-04-05  \n",
       "46477  2015-12-29  \n",
       "\n",
       "[46478 rows x 6 columns]"
      ]
     },
     "execution_count": 29,
     "metadata": {},
     "output_type": "execute_result"
    }
   ],
   "source": [
    "usersAll"
   ]
  },
  {
   "cell_type": "code",
   "execution_count": 30,
   "id": "9a854a95",
   "metadata": {
    "execution": {
     "iopub.execute_input": "2021-08-20T03:08:31.338308Z",
     "iopub.status.busy": "2021-08-20T03:08:31.337737Z",
     "iopub.status.idle": "2021-08-20T03:08:31.342457Z",
     "shell.execute_reply": "2021-08-20T03:08:31.342850Z",
     "shell.execute_reply.started": "2021-08-19T21:20:44.138807Z"
    },
    "papermill": {
     "duration": 0.060154,
     "end_time": "2021-08-20T03:08:31.343011",
     "exception": false,
     "start_time": "2021-08-20T03:08:31.282857",
     "status": "completed"
    },
    "tags": []
   },
   "outputs": [
    {
     "data": {
      "text/plain": [
       "465.227397908688"
      ]
     },
     "execution_count": 30,
     "metadata": {},
     "output_type": "execute_result"
    }
   ],
   "source": [
    "meanPre = np.mean(usersAll['active_mins_pre'])\n",
    "meanPre"
   ]
  },
  {
   "cell_type": "code",
   "execution_count": 31,
   "id": "2d1a1d9b",
   "metadata": {
    "execution": {
     "iopub.execute_input": "2021-08-20T03:08:31.455010Z",
     "iopub.status.busy": "2021-08-20T03:08:31.454451Z",
     "iopub.status.idle": "2021-08-20T03:08:31.474912Z",
     "shell.execute_reply": "2021-08-20T03:08:31.474453Z",
     "shell.execute_reply.started": "2021-08-19T21:20:44.154001Z"
    },
    "papermill": {
     "duration": 0.079559,
     "end_time": "2021-08-20T03:08:31.475047",
     "exception": false,
     "start_time": "2021-08-20T03:08:31.395488",
     "status": "completed"
    },
    "tags": []
   },
   "outputs": [
    {
     "data": {
      "text/html": [
       "<div>\n",
       "<style scoped>\n",
       "    .dataframe tbody tr th:only-of-type {\n",
       "        vertical-align: middle;\n",
       "    }\n",
       "\n",
       "    .dataframe tbody tr th {\n",
       "        vertical-align: top;\n",
       "    }\n",
       "\n",
       "    .dataframe thead th {\n",
       "        text-align: right;\n",
       "    }\n",
       "</style>\n",
       "<table border=\"1\" class=\"dataframe\">\n",
       "  <thead>\n",
       "    <tr style=\"text-align: right;\">\n",
       "      <th></th>\n",
       "      <th>uid</th>\n",
       "      <th>active_mins_pre</th>\n",
       "      <th>active_mins_during</th>\n",
       "      <th>variant_number</th>\n",
       "      <th>dt</th>\n",
       "      <th>signup_date</th>\n",
       "      <th>adjusted_mins</th>\n",
       "    </tr>\n",
       "  </thead>\n",
       "  <tbody>\n",
       "    <tr>\n",
       "      <th>0</th>\n",
       "      <td>0</td>\n",
       "      <td>70.0</td>\n",
       "      <td>43.0</td>\n",
       "      <td>0</td>\n",
       "      <td>2019-02-06</td>\n",
       "      <td>2018-09-24</td>\n",
       "      <td>355.956532</td>\n",
       "    </tr>\n",
       "    <tr>\n",
       "      <th>1</th>\n",
       "      <td>1</td>\n",
       "      <td>19158.0</td>\n",
       "      <td>15205.0</td>\n",
       "      <td>0</td>\n",
       "      <td>2019-02-06</td>\n",
       "      <td>2016-11-07</td>\n",
       "      <td>403.330583</td>\n",
       "    </tr>\n",
       "    <tr>\n",
       "      <th>2</th>\n",
       "      <td>2</td>\n",
       "      <td>37.0</td>\n",
       "      <td>17.0</td>\n",
       "      <td>0</td>\n",
       "      <td>2019-02-06</td>\n",
       "      <td>2018-09-17</td>\n",
       "      <td>356.087224</td>\n",
       "    </tr>\n",
       "    <tr>\n",
       "      <th>3</th>\n",
       "      <td>3</td>\n",
       "      <td>108.0</td>\n",
       "      <td>77.0</td>\n",
       "      <td>0</td>\n",
       "      <td>2019-02-06</td>\n",
       "      <td>2018-03-04</td>\n",
       "      <td>359.866644</td>\n",
       "    </tr>\n",
       "    <tr>\n",
       "      <th>4</th>\n",
       "      <td>4</td>\n",
       "      <td>66.0</td>\n",
       "      <td>39.0</td>\n",
       "      <td>0</td>\n",
       "      <td>2019-02-06</td>\n",
       "      <td>2017-03-09</td>\n",
       "      <td>355.123889</td>\n",
       "    </tr>\n",
       "    <tr>\n",
       "      <th>...</th>\n",
       "      <td>...</td>\n",
       "      <td>...</td>\n",
       "      <td>...</td>\n",
       "      <td>...</td>\n",
       "      <td>...</td>\n",
       "      <td>...</td>\n",
       "      <td>...</td>\n",
       "    </tr>\n",
       "    <tr>\n",
       "      <th>46473</th>\n",
       "      <td>49995</td>\n",
       "      <td>34.0</td>\n",
       "      <td>95.0</td>\n",
       "      <td>1</td>\n",
       "      <td>2019-02-06</td>\n",
       "      <td>2018-10-11</td>\n",
       "      <td>436.462742</td>\n",
       "    </tr>\n",
       "    <tr>\n",
       "      <th>46474</th>\n",
       "      <td>49996</td>\n",
       "      <td>243.0</td>\n",
       "      <td>156.0</td>\n",
       "      <td>1</td>\n",
       "      <td>2019-02-06</td>\n",
       "      <td>2014-12-06</td>\n",
       "      <td>331.968357</td>\n",
       "    </tr>\n",
       "    <tr>\n",
       "      <th>46475</th>\n",
       "      <td>49997</td>\n",
       "      <td>83.0</td>\n",
       "      <td>379.0</td>\n",
       "      <td>1</td>\n",
       "      <td>2019-02-06</td>\n",
       "      <td>2018-11-15</td>\n",
       "      <td>681.662623</td>\n",
       "    </tr>\n",
       "    <tr>\n",
       "      <th>46476</th>\n",
       "      <td>49998</td>\n",
       "      <td>124.0</td>\n",
       "      <td>597.0</td>\n",
       "      <td>1</td>\n",
       "      <td>2019-02-06</td>\n",
       "      <td>2016-04-05</td>\n",
       "      <td>867.197217</td>\n",
       "    </tr>\n",
       "    <tr>\n",
       "      <th>46477</th>\n",
       "      <td>49999</td>\n",
       "      <td>77.0</td>\n",
       "      <td>39.0</td>\n",
       "      <td>1</td>\n",
       "      <td>2019-02-06</td>\n",
       "      <td>2015-12-29</td>\n",
       "      <td>346.413658</td>\n",
       "    </tr>\n",
       "  </tbody>\n",
       "</table>\n",
       "<p>46478 rows × 7 columns</p>\n",
       "</div>"
      ],
      "text/plain": [
       "         uid  active_mins_pre  active_mins_during  variant_number          dt  \\\n",
       "0          0             70.0                43.0               0  2019-02-06   \n",
       "1          1          19158.0             15205.0               0  2019-02-06   \n",
       "2          2             37.0                17.0               0  2019-02-06   \n",
       "3          3            108.0                77.0               0  2019-02-06   \n",
       "4          4             66.0                39.0               0  2019-02-06   \n",
       "...      ...              ...                 ...             ...         ...   \n",
       "46473  49995             34.0                95.0               1  2019-02-06   \n",
       "46474  49996            243.0               156.0               1  2019-02-06   \n",
       "46475  49997             83.0               379.0               1  2019-02-06   \n",
       "46476  49998            124.0               597.0               1  2019-02-06   \n",
       "46477  49999             77.0                39.0               1  2019-02-06   \n",
       "\n",
       "      signup_date  adjusted_mins  \n",
       "0      2018-09-24     355.956532  \n",
       "1      2016-11-07     403.330583  \n",
       "2      2018-09-17     356.087224  \n",
       "3      2018-03-04     359.866644  \n",
       "4      2017-03-09     355.123889  \n",
       "...           ...            ...  \n",
       "46473  2018-10-11     436.462742  \n",
       "46474  2014-12-06     331.968357  \n",
       "46475  2018-11-15     681.662623  \n",
       "46476  2016-04-05     867.197217  \n",
       "46477  2015-12-29     346.413658  \n",
       "\n",
       "[46478 rows x 7 columns]"
      ]
     },
     "execution_count": 31,
     "metadata": {},
     "output_type": "execute_result"
    }
   ],
   "source": [
    "usersAll['adjusted_mins'] = usersAll['active_mins_during'] - (usersAll['active_mins_pre'] - meanPre) * theta\n",
    "usersAll"
   ]
  },
  {
   "cell_type": "markdown",
   "id": "9fdbf5df",
   "metadata": {
    "papermill": {
     "duration": 0.053331,
     "end_time": "2021-08-20T03:08:31.581520",
     "exception": false,
     "start_time": "2021-08-20T03:08:31.528189",
     "status": "completed"
    },
    "tags": []
   },
   "source": [
    "### t-test with the CUPED-adjusted minutes"
   ]
  },
  {
   "cell_type": "code",
   "execution_count": 32,
   "id": "1e7ccdaf",
   "metadata": {
    "execution": {
     "iopub.execute_input": "2021-08-20T03:08:31.692917Z",
     "iopub.status.busy": "2021-08-20T03:08:31.692336Z",
     "iopub.status.idle": "2021-08-20T03:08:31.706783Z",
     "shell.execute_reply": "2021-08-20T03:08:31.707271Z",
     "shell.execute_reply.started": "2021-08-19T21:20:44.19242Z"
    },
    "papermill": {
     "duration": 0.073335,
     "end_time": "2021-08-20T03:08:31.707434",
     "exception": false,
     "start_time": "2021-08-20T03:08:31.634099",
     "status": "completed"
    },
    "tags": []
   },
   "outputs": [
    {
     "data": {
      "text/html": [
       "<div>\n",
       "<style scoped>\n",
       "    .dataframe tbody tr th:only-of-type {\n",
       "        vertical-align: middle;\n",
       "    }\n",
       "\n",
       "    .dataframe tbody tr th {\n",
       "        vertical-align: top;\n",
       "    }\n",
       "\n",
       "    .dataframe thead th {\n",
       "        text-align: right;\n",
       "    }\n",
       "</style>\n",
       "<table border=\"1\" class=\"dataframe\">\n",
       "  <thead>\n",
       "    <tr style=\"text-align: right;\">\n",
       "      <th></th>\n",
       "      <th>uid</th>\n",
       "      <th>active_mins_pre</th>\n",
       "      <th>active_mins_during</th>\n",
       "      <th>variant_number</th>\n",
       "      <th>dt</th>\n",
       "      <th>signup_date</th>\n",
       "      <th>adjusted_mins</th>\n",
       "    </tr>\n",
       "  </thead>\n",
       "  <tbody>\n",
       "    <tr>\n",
       "      <th>37313</th>\n",
       "      <td>40001</td>\n",
       "      <td>125.0</td>\n",
       "      <td>299.0</td>\n",
       "      <td>1</td>\n",
       "      <td>2019-02-06</td>\n",
       "      <td>2017-04-29</td>\n",
       "      <td>568.405378</td>\n",
       "    </tr>\n",
       "    <tr>\n",
       "      <th>37314</th>\n",
       "      <td>40002</td>\n",
       "      <td>90.0</td>\n",
       "      <td>183.0</td>\n",
       "      <td>1</td>\n",
       "      <td>2019-02-06</td>\n",
       "      <td>2015-08-22</td>\n",
       "      <td>480.119749</td>\n",
       "    </tr>\n",
       "    <tr>\n",
       "      <th>37315</th>\n",
       "      <td>40004</td>\n",
       "      <td>10.0</td>\n",
       "      <td>56.0</td>\n",
       "      <td>1</td>\n",
       "      <td>2019-02-06</td>\n",
       "      <td>2015-04-12</td>\n",
       "      <td>416.466882</td>\n",
       "    </tr>\n",
       "    <tr>\n",
       "      <th>37316</th>\n",
       "      <td>40005</td>\n",
       "      <td>638.0</td>\n",
       "      <td>289.0</td>\n",
       "      <td>1</td>\n",
       "      <td>2019-02-06</td>\n",
       "      <td>2017-03-05</td>\n",
       "      <td>152.191887</td>\n",
       "    </tr>\n",
       "    <tr>\n",
       "      <th>37317</th>\n",
       "      <td>40006</td>\n",
       "      <td>64.0</td>\n",
       "      <td>194.0</td>\n",
       "      <td>1</td>\n",
       "      <td>2019-02-06</td>\n",
       "      <td>2016-06-17</td>\n",
       "      <td>511.707567</td>\n",
       "    </tr>\n",
       "  </tbody>\n",
       "</table>\n",
       "</div>"
      ],
      "text/plain": [
       "         uid  active_mins_pre  active_mins_during  variant_number          dt  \\\n",
       "37313  40001            125.0               299.0               1  2019-02-06   \n",
       "37314  40002             90.0               183.0               1  2019-02-06   \n",
       "37315  40004             10.0                56.0               1  2019-02-06   \n",
       "37316  40005            638.0               289.0               1  2019-02-06   \n",
       "37317  40006             64.0               194.0               1  2019-02-06   \n",
       "\n",
       "      signup_date  adjusted_mins  \n",
       "37313  2017-04-29     568.405378  \n",
       "37314  2015-08-22     480.119749  \n",
       "37315  2015-04-12     416.466882  \n",
       "37316  2017-03-05     152.191887  \n",
       "37317  2016-06-17     511.707567  "
      ]
     },
     "execution_count": 32,
     "metadata": {},
     "output_type": "execute_result"
    }
   ],
   "source": [
    "treatAll = usersAll[usersAll['variant_number'] == 1]\n",
    "treatAll.head()"
   ]
  },
  {
   "cell_type": "code",
   "execution_count": 33,
   "id": "295352f0",
   "metadata": {
    "execution": {
     "iopub.execute_input": "2021-08-20T03:08:31.822475Z",
     "iopub.status.busy": "2021-08-20T03:08:31.821555Z",
     "iopub.status.idle": "2021-08-20T03:08:31.837055Z",
     "shell.execute_reply": "2021-08-20T03:08:31.837565Z",
     "shell.execute_reply.started": "2021-08-19T21:20:44.215802Z"
    },
    "papermill": {
     "duration": 0.075875,
     "end_time": "2021-08-20T03:08:31.837746",
     "exception": false,
     "start_time": "2021-08-20T03:08:31.761871",
     "status": "completed"
    },
    "tags": []
   },
   "outputs": [
    {
     "data": {
      "text/html": [
       "<div>\n",
       "<style scoped>\n",
       "    .dataframe tbody tr th:only-of-type {\n",
       "        vertical-align: middle;\n",
       "    }\n",
       "\n",
       "    .dataframe tbody tr th {\n",
       "        vertical-align: top;\n",
       "    }\n",
       "\n",
       "    .dataframe thead th {\n",
       "        text-align: right;\n",
       "    }\n",
       "</style>\n",
       "<table border=\"1\" class=\"dataframe\">\n",
       "  <thead>\n",
       "    <tr style=\"text-align: right;\">\n",
       "      <th></th>\n",
       "      <th>uid</th>\n",
       "      <th>active_mins_pre</th>\n",
       "      <th>active_mins_during</th>\n",
       "      <th>variant_number</th>\n",
       "      <th>dt</th>\n",
       "      <th>signup_date</th>\n",
       "      <th>adjusted_mins</th>\n",
       "    </tr>\n",
       "  </thead>\n",
       "  <tbody>\n",
       "    <tr>\n",
       "      <th>0</th>\n",
       "      <td>0</td>\n",
       "      <td>70.0</td>\n",
       "      <td>43.0</td>\n",
       "      <td>0</td>\n",
       "      <td>2019-02-06</td>\n",
       "      <td>2018-09-24</td>\n",
       "      <td>355.956532</td>\n",
       "    </tr>\n",
       "    <tr>\n",
       "      <th>1</th>\n",
       "      <td>1</td>\n",
       "      <td>19158.0</td>\n",
       "      <td>15205.0</td>\n",
       "      <td>0</td>\n",
       "      <td>2019-02-06</td>\n",
       "      <td>2016-11-07</td>\n",
       "      <td>403.330583</td>\n",
       "    </tr>\n",
       "    <tr>\n",
       "      <th>2</th>\n",
       "      <td>2</td>\n",
       "      <td>37.0</td>\n",
       "      <td>17.0</td>\n",
       "      <td>0</td>\n",
       "      <td>2019-02-06</td>\n",
       "      <td>2018-09-17</td>\n",
       "      <td>356.087224</td>\n",
       "    </tr>\n",
       "    <tr>\n",
       "      <th>3</th>\n",
       "      <td>3</td>\n",
       "      <td>108.0</td>\n",
       "      <td>77.0</td>\n",
       "      <td>0</td>\n",
       "      <td>2019-02-06</td>\n",
       "      <td>2018-03-04</td>\n",
       "      <td>359.866644</td>\n",
       "    </tr>\n",
       "    <tr>\n",
       "      <th>4</th>\n",
       "      <td>4</td>\n",
       "      <td>66.0</td>\n",
       "      <td>39.0</td>\n",
       "      <td>0</td>\n",
       "      <td>2019-02-06</td>\n",
       "      <td>2017-03-09</td>\n",
       "      <td>355.123889</td>\n",
       "    </tr>\n",
       "  </tbody>\n",
       "</table>\n",
       "</div>"
      ],
      "text/plain": [
       "   uid  active_mins_pre  active_mins_during  variant_number          dt  \\\n",
       "0    0             70.0                43.0               0  2019-02-06   \n",
       "1    1          19158.0             15205.0               0  2019-02-06   \n",
       "2    2             37.0                17.0               0  2019-02-06   \n",
       "3    3            108.0                77.0               0  2019-02-06   \n",
       "4    4             66.0                39.0               0  2019-02-06   \n",
       "\n",
       "  signup_date  adjusted_mins  \n",
       "0  2018-09-24     355.956532  \n",
       "1  2016-11-07     403.330583  \n",
       "2  2018-09-17     356.087224  \n",
       "3  2018-03-04     359.866644  \n",
       "4  2017-03-09     355.123889  "
      ]
     },
     "execution_count": 33,
     "metadata": {},
     "output_type": "execute_result"
    }
   ],
   "source": [
    "controlAll = usersAll[usersAll['variant_number'] == 0]\n",
    "controlAll.head()"
   ]
  },
  {
   "cell_type": "code",
   "execution_count": 34,
   "id": "e272e3c8",
   "metadata": {
    "execution": {
     "iopub.execute_input": "2021-08-20T03:08:31.948430Z",
     "iopub.status.busy": "2021-08-20T03:08:31.947470Z",
     "iopub.status.idle": "2021-08-20T03:08:31.953386Z",
     "shell.execute_reply": "2021-08-20T03:08:31.953888Z",
     "shell.execute_reply.started": "2021-08-19T21:20:44.233348Z"
    },
    "papermill": {
     "duration": 0.062912,
     "end_time": "2021-08-20T03:08:31.954050",
     "exception": false,
     "start_time": "2021-08-20T03:08:31.891138",
     "status": "completed"
    },
    "tags": []
   },
   "outputs": [
    {
     "data": {
      "text/plain": [
       "459.54482351995284"
      ]
     },
     "execution_count": 34,
     "metadata": {},
     "output_type": "execute_result"
    }
   ],
   "source": [
    "np.mean(controlAll['active_mins_during'])"
   ]
  },
  {
   "cell_type": "code",
   "execution_count": 35,
   "id": "aecb9e72",
   "metadata": {
    "execution": {
     "iopub.execute_input": "2021-08-20T03:08:32.066721Z",
     "iopub.status.busy": "2021-08-20T03:08:32.065808Z",
     "iopub.status.idle": "2021-08-20T03:08:32.071432Z",
     "shell.execute_reply": "2021-08-20T03:08:32.071886Z",
     "shell.execute_reply.started": "2021-08-19T21:20:44.239116Z"
    },
    "papermill": {
     "duration": 0.063237,
     "end_time": "2021-08-20T03:08:32.072070",
     "exception": false,
     "start_time": "2021-08-20T03:08:32.008833",
     "status": "completed"
    },
    "tags": []
   },
   "outputs": [
    {
     "data": {
      "text/plain": [
       "460.4651391162029"
      ]
     },
     "execution_count": 35,
     "metadata": {},
     "output_type": "execute_result"
    }
   ],
   "source": [
    "np.mean(treatAll['active_mins_during'])"
   ]
  },
  {
   "cell_type": "code",
   "execution_count": 36,
   "id": "9511ea7f",
   "metadata": {
    "execution": {
     "iopub.execute_input": "2021-08-20T03:08:32.186892Z",
     "iopub.status.busy": "2021-08-20T03:08:32.186291Z",
     "iopub.status.idle": "2021-08-20T03:08:32.191399Z",
     "shell.execute_reply": "2021-08-20T03:08:32.191885Z",
     "shell.execute_reply.started": "2021-08-19T21:20:44.254136Z"
    },
    "papermill": {
     "duration": 0.06507,
     "end_time": "2021-08-20T03:08:32.192070",
     "exception": false,
     "start_time": "2021-08-20T03:08:32.127000",
     "status": "completed"
    },
    "tags": []
   },
   "outputs": [
    {
     "data": {
      "text/plain": [
       "426.5941215844329"
      ]
     },
     "execution_count": 36,
     "metadata": {},
     "output_type": "execute_result"
    }
   ],
   "source": [
    "np.mean(controlAll['adjusted_mins'])"
   ]
  },
  {
   "cell_type": "code",
   "execution_count": 37,
   "id": "00b98c2f",
   "metadata": {
    "execution": {
     "iopub.execute_input": "2021-08-20T03:08:32.305807Z",
     "iopub.status.busy": "2021-08-20T03:08:32.305167Z",
     "iopub.status.idle": "2021-08-20T03:08:32.309913Z",
     "shell.execute_reply": "2021-08-20T03:08:32.310379Z",
     "shell.execute_reply.started": "2021-08-19T21:20:44.268396Z"
    },
    "papermill": {
     "duration": 0.062686,
     "end_time": "2021-08-20T03:08:32.310554",
     "exception": false,
     "start_time": "2021-08-20T03:08:32.247868",
     "status": "completed"
    },
    "tags": []
   },
   "outputs": [
    {
     "data": {
      "text/plain": [
       "594.6156619007294"
      ]
     },
     "execution_count": 37,
     "metadata": {},
     "output_type": "execute_result"
    }
   ],
   "source": [
    "np.mean(treatAll['adjusted_mins'])"
   ]
  },
  {
   "cell_type": "code",
   "execution_count": 38,
   "id": "ffa05ba3",
   "metadata": {
    "execution": {
     "iopub.execute_input": "2021-08-20T03:08:32.424489Z",
     "iopub.status.busy": "2021-08-20T03:08:32.423849Z",
     "iopub.status.idle": "2021-08-20T03:08:32.430509Z",
     "shell.execute_reply": "2021-08-20T03:08:32.430912Z",
     "shell.execute_reply.started": "2021-08-19T21:20:44.28101Z"
    },
    "papermill": {
     "duration": 0.065058,
     "end_time": "2021-08-20T03:08:32.431081",
     "exception": false,
     "start_time": "2021-08-20T03:08:32.366023",
     "status": "completed"
    },
    "tags": []
   },
   "outputs": [
    {
     "data": {
      "text/plain": [
       "LeveneResult(statistic=166.62228425638753, pvalue=4.703419949450182e-38)"
      ]
     },
     "execution_count": 38,
     "metadata": {},
     "output_type": "execute_result"
    }
   ],
   "source": [
    "stats.levene(treatAll['adjusted_mins'],\n",
    "             controlAll['adjusted_mins'],\n",
    "             center= 'mean')"
   ]
  },
  {
   "cell_type": "markdown",
   "id": "ea11947d",
   "metadata": {
    "papermill": {
     "duration": 0.054877,
     "end_time": "2021-08-20T03:08:32.541448",
     "exception": false,
     "start_time": "2021-08-20T03:08:32.486571",
     "status": "completed"
    },
    "tags": []
   },
   "source": [
    "The p-value of the Levene's test is less than 0.05, so there is sufficient evidence to reject the null hypothesis that the two samples have the same variance. Since this is the case, the Welch's t-test will be used."
   ]
  },
  {
   "cell_type": "code",
   "execution_count": 39,
   "id": "138e13ee",
   "metadata": {
    "execution": {
     "iopub.execute_input": "2021-08-20T03:08:32.656054Z",
     "iopub.status.busy": "2021-08-20T03:08:32.655139Z",
     "iopub.status.idle": "2021-08-20T03:08:32.668614Z",
     "shell.execute_reply": "2021-08-20T03:08:32.669531Z",
     "shell.execute_reply.started": "2021-08-19T21:20:44.296795Z"
    },
    "papermill": {
     "duration": 0.072715,
     "end_time": "2021-08-20T03:08:32.669780",
     "exception": false,
     "start_time": "2021-08-20T03:08:32.597065",
     "status": "completed"
    },
    "tags": []
   },
   "outputs": [
    {
     "data": {
      "text/plain": [
       "(143.8923112172685, 192.15076941532033)"
      ]
     },
     "execution_count": 39,
     "metadata": {},
     "output_type": "execute_result"
    }
   ],
   "source": [
    "r = sms.CompareMeans(sms.DescrStatsW(treatAll['adjusted_mins']), sms.DescrStatsW(controlAll['adjusted_mins']), )\n",
    "\n",
    "r.tconfint_diff(alpha=0.05, alternative='two-sided', usevar='unequal')"
   ]
  },
  {
   "cell_type": "markdown",
   "id": "66cfafc4",
   "metadata": {
    "papermill": {
     "duration": 0.055327,
     "end_time": "2021-08-20T03:08:32.830877",
     "exception": false,
     "start_time": "2021-08-20T03:08:32.775550",
     "status": "completed"
    },
    "tags": []
   },
   "source": [
    "**95% Confidence Interval: (143.89, 192.15) minutes**\n",
    "\n",
    "Based on the new confidence interval, we are 95% confident that the true difference in the amount of time spent between the two groups is between 143.89 and 192.15 minutes. Since the confidence interval does not include the value 0, there is sufficient evidence to reject the null hypothesis that there is no difference between the two groups. Based on these findings, I would suggest pushing this UI change into production.\n",
    "\n",
    "The CUPED method took into account the variance that existed in the groups prior to the experiment. The covariance between the pre-experiment and experiment data was divided by the variance of the pre-experiment data to calculate theta. Theta was then used to calculate an adjusted active minutes spent on the website that takes into account variance that is unrelated to the treatment effects of the experiment. "
   ]
  },
  {
   "cell_type": "markdown",
   "id": "4c34c43b",
   "metadata": {
    "papermill": {
     "duration": 0.05527,
     "end_time": "2021-08-20T03:08:32.941907",
     "exception": false,
     "start_time": "2021-08-20T03:08:32.886637",
     "status": "completed"
    },
    "tags": []
   },
   "source": [
    "### Analyzing Table 4: User Attributes"
   ]
  },
  {
   "cell_type": "code",
   "execution_count": 40,
   "id": "b304bd48",
   "metadata": {
    "execution": {
     "iopub.execute_input": "2021-08-20T03:08:33.058915Z",
     "iopub.status.busy": "2021-08-20T03:08:33.058303Z",
     "iopub.status.idle": "2021-08-20T03:08:33.101683Z",
     "shell.execute_reply": "2021-08-20T03:08:33.102191Z",
     "shell.execute_reply.started": "2021-08-19T21:20:44.31494Z"
    },
    "papermill": {
     "duration": 0.10393,
     "end_time": "2021-08-20T03:08:33.102367",
     "exception": false,
     "start_time": "2021-08-20T03:08:32.998437",
     "status": "completed"
    },
    "tags": []
   },
   "outputs": [],
   "source": [
    "df4 = pd.read_csv('../input/quora-data-challenge/t4_user_attributes.csv')"
   ]
  },
  {
   "cell_type": "code",
   "execution_count": 41,
   "id": "cd908177",
   "metadata": {
    "execution": {
     "iopub.execute_input": "2021-08-20T03:08:33.216561Z",
     "iopub.status.busy": "2021-08-20T03:08:33.215916Z",
     "iopub.status.idle": "2021-08-20T03:08:33.228361Z",
     "shell.execute_reply": "2021-08-20T03:08:33.227789Z",
     "shell.execute_reply.started": "2021-08-19T21:20:44.361261Z"
    },
    "papermill": {
     "duration": 0.069903,
     "end_time": "2021-08-20T03:08:33.228495",
     "exception": false,
     "start_time": "2021-08-20T03:08:33.158592",
     "status": "completed"
    },
    "tags": []
   },
   "outputs": [
    {
     "data": {
      "text/html": [
       "<div>\n",
       "<style scoped>\n",
       "    .dataframe tbody tr th:only-of-type {\n",
       "        vertical-align: middle;\n",
       "    }\n",
       "\n",
       "    .dataframe tbody tr th {\n",
       "        vertical-align: top;\n",
       "    }\n",
       "\n",
       "    .dataframe thead th {\n",
       "        text-align: right;\n",
       "    }\n",
       "</style>\n",
       "<table border=\"1\" class=\"dataframe\">\n",
       "  <thead>\n",
       "    <tr style=\"text-align: right;\">\n",
       "      <th></th>\n",
       "      <th>uid</th>\n",
       "      <th>gender</th>\n",
       "      <th>user_type</th>\n",
       "    </tr>\n",
       "  </thead>\n",
       "  <tbody>\n",
       "    <tr>\n",
       "      <th>0</th>\n",
       "      <td>0</td>\n",
       "      <td>male</td>\n",
       "      <td>non_reader</td>\n",
       "    </tr>\n",
       "    <tr>\n",
       "      <th>1</th>\n",
       "      <td>1</td>\n",
       "      <td>male</td>\n",
       "      <td>reader</td>\n",
       "    </tr>\n",
       "    <tr>\n",
       "      <th>2</th>\n",
       "      <td>2</td>\n",
       "      <td>male</td>\n",
       "      <td>non_reader</td>\n",
       "    </tr>\n",
       "    <tr>\n",
       "      <th>3</th>\n",
       "      <td>3</td>\n",
       "      <td>male</td>\n",
       "      <td>non_reader</td>\n",
       "    </tr>\n",
       "    <tr>\n",
       "      <th>4</th>\n",
       "      <td>4</td>\n",
       "      <td>male</td>\n",
       "      <td>non_reader</td>\n",
       "    </tr>\n",
       "    <tr>\n",
       "      <th>...</th>\n",
       "      <td>...</td>\n",
       "      <td>...</td>\n",
       "      <td>...</td>\n",
       "    </tr>\n",
       "    <tr>\n",
       "      <th>49995</th>\n",
       "      <td>49995</td>\n",
       "      <td>unknown</td>\n",
       "      <td>non_reader</td>\n",
       "    </tr>\n",
       "    <tr>\n",
       "      <th>49996</th>\n",
       "      <td>49996</td>\n",
       "      <td>male</td>\n",
       "      <td>non_reader</td>\n",
       "    </tr>\n",
       "    <tr>\n",
       "      <th>49997</th>\n",
       "      <td>49997</td>\n",
       "      <td>female</td>\n",
       "      <td>reader</td>\n",
       "    </tr>\n",
       "    <tr>\n",
       "      <th>49998</th>\n",
       "      <td>49998</td>\n",
       "      <td>male</td>\n",
       "      <td>non_reader</td>\n",
       "    </tr>\n",
       "    <tr>\n",
       "      <th>49999</th>\n",
       "      <td>49999</td>\n",
       "      <td>female</td>\n",
       "      <td>non_reader</td>\n",
       "    </tr>\n",
       "  </tbody>\n",
       "</table>\n",
       "<p>50000 rows × 3 columns</p>\n",
       "</div>"
      ],
      "text/plain": [
       "         uid   gender   user_type\n",
       "0          0     male  non_reader\n",
       "1          1     male      reader\n",
       "2          2     male  non_reader\n",
       "3          3     male  non_reader\n",
       "4          4     male  non_reader\n",
       "...      ...      ...         ...\n",
       "49995  49995  unknown  non_reader\n",
       "49996  49996     male  non_reader\n",
       "49997  49997   female      reader\n",
       "49998  49998     male  non_reader\n",
       "49999  49999   female  non_reader\n",
       "\n",
       "[50000 rows x 3 columns]"
      ]
     },
     "execution_count": 41,
     "metadata": {},
     "output_type": "execute_result"
    }
   ],
   "source": [
    "df4 # user_type: segment that a user belongs to, measured by activity level of the user. Can be ‘new_user’, ‘non_reader’, ‘reader’ or ‘contributor’"
   ]
  },
  {
   "cell_type": "code",
   "execution_count": 42,
   "id": "742a9db3",
   "metadata": {
    "execution": {
     "iopub.execute_input": "2021-08-20T03:08:33.343183Z",
     "iopub.status.busy": "2021-08-20T03:08:33.342582Z",
     "iopub.status.idle": "2021-08-20T03:08:33.377947Z",
     "shell.execute_reply": "2021-08-20T03:08:33.377446Z",
     "shell.execute_reply.started": "2021-08-19T21:20:44.378622Z"
    },
    "papermill": {
     "duration": 0.09388,
     "end_time": "2021-08-20T03:08:33.378073",
     "exception": false,
     "start_time": "2021-08-20T03:08:33.284193",
     "status": "completed"
    },
    "tags": []
   },
   "outputs": [
    {
     "data": {
      "text/html": [
       "<div>\n",
       "<style scoped>\n",
       "    .dataframe tbody tr th:only-of-type {\n",
       "        vertical-align: middle;\n",
       "    }\n",
       "\n",
       "    .dataframe tbody tr th {\n",
       "        vertical-align: top;\n",
       "    }\n",
       "\n",
       "    .dataframe thead th {\n",
       "        text-align: right;\n",
       "    }\n",
       "</style>\n",
       "<table border=\"1\" class=\"dataframe\">\n",
       "  <thead>\n",
       "    <tr style=\"text-align: right;\">\n",
       "      <th></th>\n",
       "      <th>uid</th>\n",
       "      <th>active_mins_pre</th>\n",
       "      <th>active_mins_during</th>\n",
       "      <th>variant_number</th>\n",
       "      <th>dt</th>\n",
       "      <th>signup_date</th>\n",
       "      <th>adjusted_mins</th>\n",
       "      <th>gender</th>\n",
       "      <th>user_type</th>\n",
       "    </tr>\n",
       "  </thead>\n",
       "  <tbody>\n",
       "    <tr>\n",
       "      <th>0</th>\n",
       "      <td>0</td>\n",
       "      <td>70.0</td>\n",
       "      <td>43.0</td>\n",
       "      <td>0</td>\n",
       "      <td>2019-02-06</td>\n",
       "      <td>2018-09-24</td>\n",
       "      <td>355.956532</td>\n",
       "      <td>male</td>\n",
       "      <td>non_reader</td>\n",
       "    </tr>\n",
       "    <tr>\n",
       "      <th>1</th>\n",
       "      <td>1</td>\n",
       "      <td>19158.0</td>\n",
       "      <td>15205.0</td>\n",
       "      <td>0</td>\n",
       "      <td>2019-02-06</td>\n",
       "      <td>2016-11-07</td>\n",
       "      <td>403.330583</td>\n",
       "      <td>male</td>\n",
       "      <td>reader</td>\n",
       "    </tr>\n",
       "    <tr>\n",
       "      <th>2</th>\n",
       "      <td>2</td>\n",
       "      <td>37.0</td>\n",
       "      <td>17.0</td>\n",
       "      <td>0</td>\n",
       "      <td>2019-02-06</td>\n",
       "      <td>2018-09-17</td>\n",
       "      <td>356.087224</td>\n",
       "      <td>male</td>\n",
       "      <td>non_reader</td>\n",
       "    </tr>\n",
       "    <tr>\n",
       "      <th>3</th>\n",
       "      <td>3</td>\n",
       "      <td>108.0</td>\n",
       "      <td>77.0</td>\n",
       "      <td>0</td>\n",
       "      <td>2019-02-06</td>\n",
       "      <td>2018-03-04</td>\n",
       "      <td>359.866644</td>\n",
       "      <td>male</td>\n",
       "      <td>non_reader</td>\n",
       "    </tr>\n",
       "    <tr>\n",
       "      <th>4</th>\n",
       "      <td>4</td>\n",
       "      <td>66.0</td>\n",
       "      <td>39.0</td>\n",
       "      <td>0</td>\n",
       "      <td>2019-02-06</td>\n",
       "      <td>2017-03-09</td>\n",
       "      <td>355.123889</td>\n",
       "      <td>male</td>\n",
       "      <td>non_reader</td>\n",
       "    </tr>\n",
       "    <tr>\n",
       "      <th>...</th>\n",
       "      <td>...</td>\n",
       "      <td>...</td>\n",
       "      <td>...</td>\n",
       "      <td>...</td>\n",
       "      <td>...</td>\n",
       "      <td>...</td>\n",
       "      <td>...</td>\n",
       "      <td>...</td>\n",
       "      <td>...</td>\n",
       "    </tr>\n",
       "    <tr>\n",
       "      <th>46473</th>\n",
       "      <td>49995</td>\n",
       "      <td>34.0</td>\n",
       "      <td>95.0</td>\n",
       "      <td>1</td>\n",
       "      <td>2019-02-06</td>\n",
       "      <td>2018-10-11</td>\n",
       "      <td>436.462742</td>\n",
       "      <td>unknown</td>\n",
       "      <td>non_reader</td>\n",
       "    </tr>\n",
       "    <tr>\n",
       "      <th>46474</th>\n",
       "      <td>49996</td>\n",
       "      <td>243.0</td>\n",
       "      <td>156.0</td>\n",
       "      <td>1</td>\n",
       "      <td>2019-02-06</td>\n",
       "      <td>2014-12-06</td>\n",
       "      <td>331.968357</td>\n",
       "      <td>male</td>\n",
       "      <td>non_reader</td>\n",
       "    </tr>\n",
       "    <tr>\n",
       "      <th>46475</th>\n",
       "      <td>49997</td>\n",
       "      <td>83.0</td>\n",
       "      <td>379.0</td>\n",
       "      <td>1</td>\n",
       "      <td>2019-02-06</td>\n",
       "      <td>2018-11-15</td>\n",
       "      <td>681.662623</td>\n",
       "      <td>female</td>\n",
       "      <td>reader</td>\n",
       "    </tr>\n",
       "    <tr>\n",
       "      <th>46476</th>\n",
       "      <td>49998</td>\n",
       "      <td>124.0</td>\n",
       "      <td>597.0</td>\n",
       "      <td>1</td>\n",
       "      <td>2019-02-06</td>\n",
       "      <td>2016-04-05</td>\n",
       "      <td>867.197217</td>\n",
       "      <td>male</td>\n",
       "      <td>non_reader</td>\n",
       "    </tr>\n",
       "    <tr>\n",
       "      <th>46477</th>\n",
       "      <td>49999</td>\n",
       "      <td>77.0</td>\n",
       "      <td>39.0</td>\n",
       "      <td>1</td>\n",
       "      <td>2019-02-06</td>\n",
       "      <td>2015-12-29</td>\n",
       "      <td>346.413658</td>\n",
       "      <td>female</td>\n",
       "      <td>non_reader</td>\n",
       "    </tr>\n",
       "  </tbody>\n",
       "</table>\n",
       "<p>46478 rows × 9 columns</p>\n",
       "</div>"
      ],
      "text/plain": [
       "         uid  active_mins_pre  active_mins_during  variant_number          dt  \\\n",
       "0          0             70.0                43.0               0  2019-02-06   \n",
       "1          1          19158.0             15205.0               0  2019-02-06   \n",
       "2          2             37.0                17.0               0  2019-02-06   \n",
       "3          3            108.0                77.0               0  2019-02-06   \n",
       "4          4             66.0                39.0               0  2019-02-06   \n",
       "...      ...              ...                 ...             ...         ...   \n",
       "46473  49995             34.0                95.0               1  2019-02-06   \n",
       "46474  49996            243.0               156.0               1  2019-02-06   \n",
       "46475  49997             83.0               379.0               1  2019-02-06   \n",
       "46476  49998            124.0               597.0               1  2019-02-06   \n",
       "46477  49999             77.0                39.0               1  2019-02-06   \n",
       "\n",
       "      signup_date  adjusted_mins   gender   user_type  \n",
       "0      2018-09-24     355.956532     male  non_reader  \n",
       "1      2016-11-07     403.330583     male      reader  \n",
       "2      2018-09-17     356.087224     male  non_reader  \n",
       "3      2018-03-04     359.866644     male  non_reader  \n",
       "4      2017-03-09     355.123889     male  non_reader  \n",
       "...           ...            ...      ...         ...  \n",
       "46473  2018-10-11     436.462742  unknown  non_reader  \n",
       "46474  2014-12-06     331.968357     male  non_reader  \n",
       "46475  2018-11-15     681.662623   female      reader  \n",
       "46476  2016-04-05     867.197217     male  non_reader  \n",
       "46477  2015-12-29     346.413658   female  non_reader  \n",
       "\n",
       "[46478 rows x 9 columns]"
      ]
     },
     "execution_count": 42,
     "metadata": {},
     "output_type": "execute_result"
    }
   ],
   "source": [
    "allTables = usersAll.merge(df4, on='uid')\n",
    "allTables"
   ]
  },
  {
   "cell_type": "markdown",
   "id": "52d05cf8",
   "metadata": {
    "papermill": {
     "duration": 0.055787,
     "end_time": "2021-08-20T03:08:33.489441",
     "exception": false,
     "start_time": "2021-08-20T03:08:33.433654",
     "status": "completed"
    },
    "tags": []
   },
   "source": [
    "### Differences in treatment effect for different user types"
   ]
  },
  {
   "cell_type": "markdown",
   "id": "45828240",
   "metadata": {
    "papermill": {
     "duration": 0.056114,
     "end_time": "2021-08-20T03:08:33.601975",
     "exception": false,
     "start_time": "2021-08-20T03:08:33.545861",
     "status": "completed"
    },
    "tags": []
   },
   "source": [
    "One factor to consider is how the treatment may affect different types of users. For example, the treatment may be more effective on new users."
   ]
  },
  {
   "cell_type": "code",
   "execution_count": 43,
   "id": "f6a341ef",
   "metadata": {
    "execution": {
     "iopub.execute_input": "2021-08-20T03:08:33.717423Z",
     "iopub.status.busy": "2021-08-20T03:08:33.716785Z",
     "iopub.status.idle": "2021-08-20T03:08:33.727004Z",
     "shell.execute_reply": "2021-08-20T03:08:33.727534Z",
     "shell.execute_reply.started": "2021-08-19T21:20:44.427664Z"
    },
    "papermill": {
     "duration": 0.069659,
     "end_time": "2021-08-20T03:08:33.727717",
     "exception": false,
     "start_time": "2021-08-20T03:08:33.658058",
     "status": "completed"
    },
    "tags": []
   },
   "outputs": [],
   "source": [
    "# custom sorting\n",
    "\n",
    "from pandas.api.types import CategoricalDtype\n",
    "\n",
    "user_type_order = CategoricalDtype(\n",
    "    ['new_user', 'non_reader', 'reader', 'contributor'], \n",
    "    ordered=True\n",
    ")\n",
    "\n",
    "allTables['user_type'] = allTables['user_type'].astype(user_type_order)"
   ]
  },
  {
   "cell_type": "code",
   "execution_count": 44,
   "id": "426e6798",
   "metadata": {
    "execution": {
     "iopub.execute_input": "2021-08-20T03:08:33.847970Z",
     "iopub.status.busy": "2021-08-20T03:08:33.847342Z",
     "iopub.status.idle": "2021-08-20T03:08:33.864698Z",
     "shell.execute_reply": "2021-08-20T03:08:33.864194Z",
     "shell.execute_reply.started": "2021-08-19T21:20:44.444789Z"
    },
    "papermill": {
     "duration": 0.079747,
     "end_time": "2021-08-20T03:08:33.864842",
     "exception": false,
     "start_time": "2021-08-20T03:08:33.785095",
     "status": "completed"
    },
    "tags": []
   },
   "outputs": [],
   "source": [
    "allControl = allTables[allTables['variant_number'] == 0].sort_values(by='user_type')"
   ]
  },
  {
   "cell_type": "code",
   "execution_count": 45,
   "id": "475f0b3c",
   "metadata": {
    "execution": {
     "iopub.execute_input": "2021-08-20T03:08:33.992612Z",
     "iopub.status.busy": "2021-08-20T03:08:33.991649Z",
     "iopub.status.idle": "2021-08-20T03:08:33.998606Z",
     "shell.execute_reply": "2021-08-20T03:08:33.997979Z",
     "shell.execute_reply.started": "2021-08-19T21:20:44.463808Z"
    },
    "papermill": {
     "duration": 0.072388,
     "end_time": "2021-08-20T03:08:33.998764",
     "exception": false,
     "start_time": "2021-08-20T03:08:33.926376",
     "status": "completed"
    },
    "tags": []
   },
   "outputs": [],
   "source": [
    "allTreat = allTables[allTables['variant_number'] == 1].sort_values(by='user_type')"
   ]
  },
  {
   "cell_type": "code",
   "execution_count": 46,
   "id": "65c36b4c",
   "metadata": {
    "execution": {
     "iopub.execute_input": "2021-08-20T03:08:34.121067Z",
     "iopub.status.busy": "2021-08-20T03:08:34.120133Z",
     "iopub.status.idle": "2021-08-20T03:08:34.130430Z",
     "shell.execute_reply": "2021-08-20T03:08:34.129919Z",
     "shell.execute_reply.started": "2021-08-19T21:20:44.474579Z"
    },
    "papermill": {
     "duration": 0.073581,
     "end_time": "2021-08-20T03:08:34.130581",
     "exception": false,
     "start_time": "2021-08-20T03:08:34.057000",
     "status": "completed"
    },
    "tags": []
   },
   "outputs": [],
   "source": [
    "treatMean = allTreat.groupby(by=['user_type']).mean()['active_mins_during']\n",
    "controlMean = allControl.groupby(by=['user_type']).mean()['active_mins_during']"
   ]
  },
  {
   "cell_type": "code",
   "execution_count": 47,
   "id": "abb8ffe8",
   "metadata": {
    "execution": {
     "iopub.execute_input": "2021-08-20T03:08:34.250090Z",
     "iopub.status.busy": "2021-08-20T03:08:34.249321Z",
     "iopub.status.idle": "2021-08-20T03:08:34.254133Z",
     "shell.execute_reply": "2021-08-20T03:08:34.253646Z",
     "shell.execute_reply.started": "2021-08-19T21:20:44.488903Z"
    },
    "papermill": {
     "duration": 0.067934,
     "end_time": "2021-08-20T03:08:34.254307",
     "exception": false,
     "start_time": "2021-08-20T03:08:34.186373",
     "status": "completed"
    },
    "tags": []
   },
   "outputs": [
    {
     "data": {
      "text/plain": [
       "user_type\n",
       "new_user         54.623377\n",
       "non_reader      164.454623\n",
       "reader         1926.734127\n",
       "contributor    4708.031496\n",
       "Name: active_mins_during, dtype: float64"
      ]
     },
     "execution_count": 47,
     "metadata": {},
     "output_type": "execute_result"
    }
   ],
   "source": [
    "treatMean"
   ]
  },
  {
   "cell_type": "code",
   "execution_count": 48,
   "id": "80f63b94",
   "metadata": {
    "execution": {
     "iopub.execute_input": "2021-08-20T03:08:34.374564Z",
     "iopub.status.busy": "2021-08-20T03:08:34.373583Z",
     "iopub.status.idle": "2021-08-20T03:08:34.378231Z",
     "shell.execute_reply": "2021-08-20T03:08:34.377702Z",
     "shell.execute_reply.started": "2021-08-19T21:20:44.497388Z"
    },
    "papermill": {
     "duration": 0.067248,
     "end_time": "2021-08-20T03:08:34.378391",
     "exception": false,
     "start_time": "2021-08-20T03:08:34.311143",
     "status": "completed"
    },
    "tags": []
   },
   "outputs": [
    {
     "data": {
      "text/plain": [
       "user_type\n",
       "new_user         29.132720\n",
       "non_reader      104.923671\n",
       "reader         1537.135378\n",
       "contributor    4309.835346\n",
       "Name: active_mins_during, dtype: float64"
      ]
     },
     "execution_count": 48,
     "metadata": {},
     "output_type": "execute_result"
    }
   ],
   "source": [
    "controlMean"
   ]
  },
  {
   "cell_type": "markdown",
   "id": "2d982684",
   "metadata": {
    "papermill": {
     "duration": 0.062222,
     "end_time": "2021-08-20T03:08:34.501069",
     "exception": false,
     "start_time": "2021-08-20T03:08:34.438847",
     "status": "completed"
    },
    "tags": []
   },
   "source": [
    "### Percent difference in active minutes between treatment and control groups for each user type"
   ]
  },
  {
   "cell_type": "code",
   "execution_count": 49,
   "id": "969421ca",
   "metadata": {
    "execution": {
     "iopub.execute_input": "2021-08-20T03:08:34.628880Z",
     "iopub.status.busy": "2021-08-20T03:08:34.624716Z",
     "iopub.status.idle": "2021-08-20T03:08:34.633271Z",
     "shell.execute_reply": "2021-08-20T03:08:34.632617Z",
     "shell.execute_reply.started": "2021-08-19T21:20:44.513499Z"
    },
    "papermill": {
     "duration": 0.074714,
     "end_time": "2021-08-20T03:08:34.633420",
     "exception": false,
     "start_time": "2021-08-20T03:08:34.558706",
     "status": "completed"
    },
    "tags": []
   },
   "outputs": [
    {
     "data": {
      "text/plain": [
       "user_type\n",
       "new_user       87.498374\n",
       "non_reader     56.737389\n",
       "reader         25.345767\n",
       "contributor     9.239243\n",
       "Name: active_mins_during, dtype: float64"
      ]
     },
     "execution_count": 49,
     "metadata": {},
     "output_type": "execute_result"
    }
   ],
   "source": [
    "percentDiffUserType = (treatMean - controlMean) / controlMean * 100\n",
    "percentDiffUserType"
   ]
  },
  {
   "cell_type": "code",
   "execution_count": 50,
   "id": "32ae7fed",
   "metadata": {
    "execution": {
     "iopub.execute_input": "2021-08-20T03:08:34.758504Z",
     "iopub.status.busy": "2021-08-20T03:08:34.757775Z",
     "iopub.status.idle": "2021-08-20T03:08:34.991008Z",
     "shell.execute_reply": "2021-08-20T03:08:34.990396Z",
     "shell.execute_reply.started": "2021-08-19T21:20:44.533787Z"
    },
    "papermill": {
     "duration": 0.298635,
     "end_time": "2021-08-20T03:08:34.991165",
     "exception": false,
     "start_time": "2021-08-20T03:08:34.692530",
     "status": "completed"
    },
    "tags": []
   },
   "outputs": [
    {
     "data": {
      "text/plain": [
       "<AxesSubplot:title={'center':'Percent Difference in Active Minutes Between Treatment and Control'}, xlabel='user_type', ylabel='Percent Difference'>"
      ]
     },
     "execution_count": 50,
     "metadata": {},
     "output_type": "execute_result"
    },
    {
     "data": {
      "image/png": "[encoded data removed]",
      "text/plain": [
       "<Figure size 432x288 with 1 Axes>"
      ]
     },
     "metadata": {
      "needs_background": "light"
     },
     "output_type": "display_data"
    }
   ],
   "source": [
    "# make a bar chart here (x: user_type, y: percent difference)\n",
    "\n",
    "percentDiffUserType.plot.bar(x='user_type', y='active_mins_during', rot=0, \n",
    "                             title='Percent Difference in Active Minutes Between Treatment and Control',\n",
    "                             ylabel='Percent Difference')"
   ]
  },
  {
   "cell_type": "markdown",
   "id": "2f46225d",
   "metadata": {
    "papermill": {
     "duration": 0.060958,
     "end_time": "2021-08-20T03:08:35.112678",
     "exception": false,
     "start_time": "2021-08-20T03:08:35.051720",
     "status": "completed"
    },
    "tags": []
   },
   "source": [
    "The new users had the greatest percent difference in active minutes, while contributors experienced the least. The treatment appears to have different levels of influence based on the user type. Since this is the case, it is important that the treatment and control groups have similar percentages of each of the user types."
   ]
  },
  {
   "cell_type": "code",
   "execution_count": 51,
   "id": "35d8d470",
   "metadata": {
    "execution": {
     "iopub.execute_input": "2021-08-20T03:08:35.239337Z",
     "iopub.status.busy": "2021-08-20T03:08:35.238386Z",
     "iopub.status.idle": "2021-08-20T03:08:35.253504Z",
     "shell.execute_reply": "2021-08-20T03:08:35.252873Z",
     "shell.execute_reply.started": "2021-08-19T21:20:44.680483Z"
    },
    "papermill": {
     "duration": 0.079779,
     "end_time": "2021-08-20T03:08:35.253651",
     "exception": false,
     "start_time": "2021-08-20T03:08:35.173872",
     "status": "completed"
    },
    "tags": []
   },
   "outputs": [
    {
     "data": {
      "text/plain": [
       "variant_number  user_type  \n",
       "1               new_user        8.401528\n",
       "                non_reader     76.464812\n",
       "                reader         13.747954\n",
       "                contributor     1.385706\n",
       "Name: uid, dtype: float64"
      ]
     },
     "execution_count": 51,
     "metadata": {},
     "output_type": "execute_result"
    }
   ],
   "source": [
    "allTreat.groupby(by=['variant_number', 'user_type']).count()['uid'] / len(allTreat['variant_number']) * 100"
   ]
  },
  {
   "cell_type": "code",
   "execution_count": 52,
   "id": "f586a796",
   "metadata": {
    "execution": {
     "iopub.execute_input": "2021-08-20T03:08:35.427527Z",
     "iopub.status.busy": "2021-08-20T03:08:35.426589Z",
     "iopub.status.idle": "2021-08-20T03:08:35.444122Z",
     "shell.execute_reply": "2021-08-20T03:08:35.443559Z",
     "shell.execute_reply.started": "2021-08-19T21:20:44.700208Z"
    },
    "papermill": {
     "duration": 0.131413,
     "end_time": "2021-08-20T03:08:35.444271",
     "exception": false,
     "start_time": "2021-08-20T03:08:35.312858",
     "status": "completed"
    },
    "tags": []
   },
   "outputs": [
    {
     "data": {
      "text/plain": [
       "variant_number  user_type  \n",
       "0               new_user        6.118511\n",
       "                non_reader     73.523973\n",
       "                reader         17.916008\n",
       "                contributor     2.441508\n",
       "Name: uid, dtype: float64"
      ]
     },
     "execution_count": 52,
     "metadata": {},
     "output_type": "execute_result"
    }
   ],
   "source": [
    "allControl.groupby(by=['variant_number', 'user_type']).count()['uid'] / len(allControl['variant_number']) * 100"
   ]
  },
  {
   "cell_type": "markdown",
   "id": "43d38afe",
   "metadata": {
    "papermill": {
     "duration": 0.059025,
     "end_time": "2021-08-20T03:08:35.561508",
     "exception": false,
     "start_time": "2021-08-20T03:08:35.502483",
     "status": "completed"
    },
    "tags": []
   },
   "source": [
    "The treatment group has a slightly greater percentage of new_users and non_readers and a slightly lower percentage of readers and contributors. We also found that those the new_users and non_readers experience a greater change in active minutes due to the treatment than the other two user types (reader, contributor). This is problematic because this could lead us to overestimate the effects of the treatment."
   ]
  },
  {
   "cell_type": "markdown",
   "id": "52f36448",
   "metadata": {
    "papermill": {
     "duration": 0.058216,
     "end_time": "2021-08-20T03:08:35.678053",
     "exception": false,
     "start_time": "2021-08-20T03:08:35.619837",
     "status": "completed"
    },
    "tags": []
   },
   "source": [
    "### Differences in treatment effects for different genders"
   ]
  },
  {
   "cell_type": "markdown",
   "id": "bd38121c",
   "metadata": {
    "papermill": {
     "duration": 0.05915,
     "end_time": "2021-08-20T03:08:35.795965",
     "exception": false,
     "start_time": "2021-08-20T03:08:35.736815",
     "status": "completed"
    },
    "tags": []
   },
   "source": [
    "Another factor to consider is how the treatment may affect different genders. Some genders may be more heavily influenced than others."
   ]
  },
  {
   "cell_type": "code",
   "execution_count": 53,
   "id": "35d0b55b",
   "metadata": {
    "execution": {
     "iopub.execute_input": "2021-08-20T03:08:35.921231Z",
     "iopub.status.busy": "2021-08-20T03:08:35.920578Z",
     "iopub.status.idle": "2021-08-20T03:08:35.933022Z",
     "shell.execute_reply": "2021-08-20T03:08:35.932489Z",
     "shell.execute_reply.started": "2021-08-19T21:20:44.729362Z"
    },
    "papermill": {
     "duration": 0.078479,
     "end_time": "2021-08-20T03:08:35.933177",
     "exception": false,
     "start_time": "2021-08-20T03:08:35.854698",
     "status": "completed"
    },
    "tags": []
   },
   "outputs": [],
   "source": [
    "treatMeanGender = allTreat.groupby(by=['gender']).mean()['active_mins_during']\n",
    "controlMeanGender = allControl.groupby(by=['gender']).mean()['active_mins_during']"
   ]
  },
  {
   "cell_type": "code",
   "execution_count": 54,
   "id": "319e237d",
   "metadata": {
    "execution": {
     "iopub.execute_input": "2021-08-20T03:08:36.057728Z",
     "iopub.status.busy": "2021-08-20T03:08:36.056882Z",
     "iopub.status.idle": "2021-08-20T03:08:36.061008Z",
     "shell.execute_reply": "2021-08-20T03:08:36.060537Z",
     "shell.execute_reply.started": "2021-08-19T21:20:44.744652Z"
    },
    "papermill": {
     "duration": 0.068769,
     "end_time": "2021-08-20T03:08:36.061140",
     "exception": false,
     "start_time": "2021-08-20T03:08:35.992371",
     "status": "completed"
    },
    "tags": []
   },
   "outputs": [
    {
     "data": {
      "text/plain": [
       "gender\n",
       "female     355.527778\n",
       "male       534.548009\n",
       "unknown    386.204969\n",
       "Name: active_mins_during, dtype: float64"
      ]
     },
     "execution_count": 54,
     "metadata": {},
     "output_type": "execute_result"
    }
   ],
   "source": [
    "treatMeanGender"
   ]
  },
  {
   "cell_type": "code",
   "execution_count": 55,
   "id": "c98a2c7f",
   "metadata": {
    "execution": {
     "iopub.execute_input": "2021-08-20T03:08:36.184752Z",
     "iopub.status.busy": "2021-08-20T03:08:36.184045Z",
     "iopub.status.idle": "2021-08-20T03:08:36.187627Z",
     "shell.execute_reply": "2021-08-20T03:08:36.188013Z",
     "shell.execute_reply.started": "2021-08-19T21:20:44.751132Z"
    },
    "papermill": {
     "duration": 0.067952,
     "end_time": "2021-08-20T03:08:36.188211",
     "exception": false,
     "start_time": "2021-08-20T03:08:36.120259",
     "status": "completed"
    },
    "tags": []
   },
   "outputs": [
    {
     "data": {
      "text/plain": [
       "gender\n",
       "female     347.295635\n",
       "male       555.593957\n",
       "unknown    316.268939\n",
       "Name: active_mins_during, dtype: float64"
      ]
     },
     "execution_count": 55,
     "metadata": {},
     "output_type": "execute_result"
    }
   ],
   "source": [
    "controlMeanGender"
   ]
  },
  {
   "cell_type": "markdown",
   "id": "5798aa58",
   "metadata": {
    "papermill": {
     "duration": 0.058352,
     "end_time": "2021-08-20T03:08:36.306007",
     "exception": false,
     "start_time": "2021-08-20T03:08:36.247655",
     "status": "completed"
    },
    "tags": []
   },
   "source": [
    "### Percent difference in active minutes between treatment and control groups for each gender"
   ]
  },
  {
   "cell_type": "code",
   "execution_count": 56,
   "id": "731d1317",
   "metadata": {
    "execution": {
     "iopub.execute_input": "2021-08-20T03:08:36.431640Z",
     "iopub.status.busy": "2021-08-20T03:08:36.430971Z",
     "iopub.status.idle": "2021-08-20T03:08:36.434227Z",
     "shell.execute_reply": "2021-08-20T03:08:36.433722Z",
     "shell.execute_reply.started": "2021-08-19T21:20:44.768934Z"
    },
    "papermill": {
     "duration": 0.068754,
     "end_time": "2021-08-20T03:08:36.434362",
     "exception": false,
     "start_time": "2021-08-20T03:08:36.365608",
     "status": "completed"
    },
    "tags": []
   },
   "outputs": [
    {
     "data": {
      "text/plain": [
       "gender\n",
       "female      2.370356\n",
       "male       -3.788009\n",
       "unknown    22.112836\n",
       "Name: active_mins_during, dtype: float64"
      ]
     },
     "execution_count": 56,
     "metadata": {},
     "output_type": "execute_result"
    }
   ],
   "source": [
    "percentDiffGender = (treatMeanGender - controlMeanGender) / controlMeanGender * 100\n",
    "percentDiffGender"
   ]
  },
  {
   "cell_type": "code",
   "execution_count": 57,
   "id": "071df3ec",
   "metadata": {
    "execution": {
     "iopub.execute_input": "2021-08-20T03:08:36.577388Z",
     "iopub.status.busy": "2021-08-20T03:08:36.573561Z",
     "iopub.status.idle": "2021-08-20T03:08:36.702732Z",
     "shell.execute_reply": "2021-08-20T03:08:36.703177Z",
     "shell.execute_reply.started": "2021-08-19T21:20:44.783006Z"
    },
    "papermill": {
     "duration": 0.209824,
     "end_time": "2021-08-20T03:08:36.703347",
     "exception": false,
     "start_time": "2021-08-20T03:08:36.493523",
     "status": "completed"
    },
    "tags": []
   },
   "outputs": [
    {
     "data": {
      "text/plain": [
       "<AxesSubplot:title={'center':'Percent Difference in Active Minutes Between Treatment and Control'}, xlabel='Gender', ylabel='Percent Difference'>"
      ]
     },
     "execution_count": 57,
     "metadata": {},
     "output_type": "execute_result"
    },
    {
     "data": {
      "image/png": "[encoded data removed]",
      "text/plain": [
       "<Figure size 432x288 with 1 Axes>"
      ]
     },
     "metadata": {
      "needs_background": "light"
     },
     "output_type": "display_data"
    }
   ],
   "source": [
    "percentDiffGender.plot.bar(x='gender', y='active_mins_during', rot=0, \n",
    "                           title='Percent Difference in Active Minutes Between Treatment and Control',\n",
    "                           xlabel = 'Gender',\n",
    "                           ylabel='Percent Difference')"
   ]
  },
  {
   "cell_type": "markdown",
   "id": "cf0d70a2",
   "metadata": {
    "papermill": {
     "duration": 0.060073,
     "end_time": "2021-08-20T03:08:36.824190",
     "exception": false,
     "start_time": "2021-08-20T03:08:36.764117",
     "status": "completed"
    },
    "tags": []
   },
   "source": [
    "Females who received the treatment spent more time on the website, and males who received the treatment actually spent less time. Unknowns who received the treatment  spent especially more time on the website."
   ]
  },
  {
   "cell_type": "code",
   "execution_count": 58,
   "id": "3006e869",
   "metadata": {
    "execution": {
     "iopub.execute_input": "2021-08-20T03:08:36.951321Z",
     "iopub.status.busy": "2021-08-20T03:08:36.950718Z",
     "iopub.status.idle": "2021-08-20T03:08:36.961667Z",
     "shell.execute_reply": "2021-08-20T03:08:36.961178Z",
     "shell.execute_reply.started": "2021-08-19T21:20:44.949879Z"
    },
    "papermill": {
     "duration": 0.076176,
     "end_time": "2021-08-20T03:08:36.961816",
     "exception": false,
     "start_time": "2021-08-20T03:08:36.885640",
     "status": "completed"
    },
    "tags": []
   },
   "outputs": [
    {
     "data": {
      "text/plain": [
       "variant_number  gender \n",
       "1               female     28.281506\n",
       "                male       55.908347\n",
       "                unknown    15.810147\n",
       "Name: uid, dtype: float64"
      ]
     },
     "execution_count": 58,
     "metadata": {},
     "output_type": "execute_result"
    }
   ],
   "source": [
    "allTreat.groupby(by=['variant_number', 'gender']).count()['uid'] / len(allTreat['variant_number']) * 100"
   ]
  },
  {
   "cell_type": "code",
   "execution_count": 59,
   "id": "fc51498f",
   "metadata": {
    "execution": {
     "iopub.execute_input": "2021-08-20T03:08:37.092266Z",
     "iopub.status.busy": "2021-08-20T03:08:37.091636Z",
     "iopub.status.idle": "2021-08-20T03:08:37.107137Z",
     "shell.execute_reply": "2021-08-20T03:08:37.106710Z",
     "shell.execute_reply.started": "2021-08-19T21:20:44.968898Z"
    },
    "papermill": {
     "duration": 0.083962,
     "end_time": "2021-08-20T03:08:37.107294",
     "exception": false,
     "start_time": "2021-08-20T03:08:37.023332",
     "status": "completed"
    },
    "tags": []
   },
   "outputs": [
    {
     "data": {
      "text/plain": [
       "variant_number  gender \n",
       "0               female     28.673653\n",
       "                male       56.149331\n",
       "                unknown    15.177016\n",
       "Name: uid, dtype: float64"
      ]
     },
     "execution_count": 59,
     "metadata": {},
     "output_type": "execute_result"
    }
   ],
   "source": [
    "allControl.groupby(by=['variant_number', 'gender']).count()['uid'] / len(allControl['variant_number']) * 100"
   ]
  },
  {
   "cell_type": "markdown",
   "id": "37f78e39",
   "metadata": {
    "papermill": {
     "duration": 0.060697,
     "end_time": "2021-08-20T03:08:37.229589",
     "exception": false,
     "start_time": "2021-08-20T03:08:37.168892",
     "status": "completed"
    },
    "tags": []
   },
   "source": [
    "The proportions of each gender appear to be very similar for the treatment and control."
   ]
  }
 ],
 "metadata": {
  "kernelspec": {
   "display_name": "Python 3",
   "language": "python",
   "name": "python3"
  },
  "language_info": {
   "codemirror_mode": {
    "name": "ipython",
    "version": 3
   },
   "file_extension": ".py",
   "mimetype": "text/x-python",
   "name": "python",
   "nbconvert_exporter": "python",
   "pygments_lexer": "ipython3",
   "version": "3.8.8"
  },
  "papermill": {
   "default_parameters": {},
   "duration": 23.908497,
   "end_time": "2021-08-20T03:08:38.998318",
   "environment_variables": {},
   "exception": null,
   "input_path": "__notebook__.ipynb",
   "output_path": "__notebook__.ipynb",
   "parameters": {},
   "start_time": "2021-08-20T03:08:15.089821",
   "version": "2.3.3"
  }
 },
 "nbformat": 4,
 "nbformat_minor": 5
}
