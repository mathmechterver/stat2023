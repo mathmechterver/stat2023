{
 "cells": [
  {
   "cell_type": "markdown",
   "metadata": {
    "papermill": {
     "duration": 0.017862,
     "end_time": "2020-08-23T07:17:45.598798",
     "exception": false,
     "start_time": "2020-08-23T07:17:45.580936",
     "status": "completed"
    },
    "tags": []
   },
   "source": [
    "# Concepts in this notebook:\n",
    "\n",
    "- Estimating confidence interval when population standard deviation is known (z-distribution)\n",
    "- Estimating confidence interval when population standard deviation is NOT known (student's t-distribution)\n",
    "- Sample size estimation required for the confidence interval"
   ]
  },
  {
   "cell_type": "markdown",
   "metadata": {
    "papermill": {
     "duration": 0.015535,
     "end_time": "2020-08-23T07:17:45.633235",
     "exception": false,
     "start_time": "2020-08-23T07:17:45.617700",
     "status": "completed"
    },
    "tags": []
   },
   "source": [
    "# Question 1:\n",
    " The sales manager of a used car company wants to know what is the average selling price of all the used mercedes cars. \n",
    "\n",
    "The analyst can collect only a sample of sales of 500 cars in the area. Since this estimate is going to be used by the company to strategize sales of his company, the sample mean should be a good approximation of all the account.\n",
    "\n",
    "What level of confidence is the sales manager going to be satisfied with? What +/- interval number is going to be acceptable?\n",
    "\n",
    "Assumption: Population standard deviation is know and it is assumed to be σ = 11,850"
   ]
  },
  {
   "cell_type": "code",
   "execution_count": 3,
   "metadata": {
    "_cell_guid": "b1076dfc-b9ad-4769-8c92-a6c4dae69d19",
    "_kg_hide-input": true,
    "_uuid": "8f2839f25d086af736a60e9eeb907d3b93b6e0e5",
    "papermill": {
     "duration": 0.029946,
     "end_time": "2020-08-23T07:17:45.680900",
     "exception": false,
     "start_time": "2020-08-23T07:17:45.650954",
     "status": "completed"
    },
    "tags": []
   },
   "outputs": [],
   "source": [
    "import numpy as np \n",
    "import pandas as pd \n",
    "\n",
    "import warnings\n",
    "warnings.filterwarnings('ignore')"
   ]
  },
  {
   "cell_type": "code",
   "execution_count": 5,
   "metadata": {
    "_cell_guid": "79c7e3d0-c299-4dcb-8224-4455121ee9b0",
    "_kg_hide-input": true,
    "_kg_hide-output": true,
    "_uuid": "d629ff2d2480ee46fbb7e2d37f6b5fab8052498a",
    "papermill": {
     "duration": 0.088149,
     "end_time": "2020-08-23T07:17:45.791988",
     "exception": false,
     "start_time": "2020-08-23T07:17:45.703839",
     "status": "completed"
    },
    "tags": []
   },
   "outputs": [
    {
     "data": {
      "text/plain": [
       "11842.224177607528"
      ]
     },
     "execution_count": 5,
     "metadata": {},
     "output_type": "execute_result"
    }
   ],
   "source": [
    "data = pd.read_csv(\"data/merc.csv\")\n",
    "np.std(data[\"price\"])"
   ]
  },
  {
   "cell_type": "markdown",
   "metadata": {
    "papermill": {
     "duration": 0.016547,
     "end_time": "2020-08-23T07:17:45.830707",
     "exception": false,
     "start_time": "2020-08-23T07:17:45.814160",
     "status": "completed"
    },
    "tags": []
   },
   "source": [
    "## Confidence intervals when population standard deviation is known:\n",
    "\n",
    "- When we estimate a population parameter using a sample, it is never going to be perfect. There is always an error that is built in. \n",
    "- We can express that error using an interval estimate: \n",
    "### Point estimate (like sample mean) ± Margin of error\n"
   ]
  },
  {
   "cell_type": "markdown",
   "metadata": {
    "papermill": {
     "duration": 0.016964,
     "end_time": "2020-08-23T07:17:45.864423",
     "exception": false,
     "start_time": "2020-08-23T07:17:45.847459",
     "status": "completed"
    },
    "tags": []
   },
   "source": [
    "### At a (1 - α) 100% confidence interval for the mean μ when σ is known is:\n",
    "\n",
    "$$ \\bar X \\pm Z _{\\dfrac{\\alpha}{2}} \\dfrac{\\sigma}{\\sqrt{n}}$$\n",
    "\n",
    "### Thus for a 95% confidence interval we have:\n",
    "\n",
    "$$ (1 - \\alpha) 100% = 95 $$\n",
    "\n",
    "$$ (1 - \\alpha) = 0.95 $$\n",
    "\n",
    "$$ \\alpha = 0.05 $$\n",
    "\n",
    "$$ \\frac{\\alpha}{2} = 0.025 $$\n",
    "\n",
    "### From a normal table we can find that:\n",
    "\n",
    "$$ Z _\\dfrac{\\alpha}{2} =  Z _{0.25} = 1.96 $$\n",
    "\n",
    "### Substituting this in the first equation we get: \n",
    "\n",
    "$$ \\bar X \\pm 1.96 \\dfrac{\\sigma}{\\sqrt{n}}$$"
   ]
  },
  {
   "cell_type": "code",
   "execution_count": 3,
   "metadata": {
    "execution": {
     "iopub.execute_input": "2020-08-23T07:17:45.912153Z",
     "iopub.status.busy": "2020-08-23T07:17:45.911168Z",
     "iopub.status.idle": "2020-08-23T07:17:45.915932Z",
     "shell.execute_reply": "2020-08-23T07:17:45.916459Z"
    },
    "papermill": {
     "duration": 0.03625,
     "end_time": "2020-08-23T07:17:45.916646",
     "exception": false,
     "start_time": "2020-08-23T07:17:45.880396",
     "status": "completed"
    },
    "tags": []
   },
   "outputs": [
    {
     "data": {
      "text/plain": [
       "24991.792"
      ]
     },
     "execution_count": 3,
     "metadata": {},
     "output_type": "execute_result"
    }
   ],
   "source": [
    "np.random.seed(11)\n",
    "sample_500 = data.sample(n = 500)[\"price\"]\n",
    "x_bar = np.mean(sample_500)\n",
    "x_bar"
   ]
  },
  {
   "cell_type": "markdown",
   "metadata": {
    "papermill": {
     "duration": 0.016266,
     "end_time": "2020-08-23T07:17:45.950432",
     "exception": false,
     "start_time": "2020-08-23T07:17:45.934166",
     "status": "completed"
    },
    "tags": []
   },
   "source": [
    "$$ \\bar X \\pm 1.96 \\dfrac{\\sigma}{\\sqrt{n}} = 24991 \\pm 1.96 \\dfrac{11850}{\\sqrt{500}}  = [23952 , 26029] $$\n",
    "\n",
    "## So at 95% confidence the value of the population mean falls within the range 23,952 and 26,029"
   ]
  },
  {
   "cell_type": "markdown",
   "metadata": {
    "papermill": {
     "duration": 0.020373,
     "end_time": "2020-08-23T07:17:45.989103",
     "exception": false,
     "start_time": "2020-08-23T07:17:45.968730",
     "status": "completed"
    },
    "tags": []
   },
   "source": [
    "<hr>\n",
    "\n",
    "# Question 2:\n",
    "\n",
    "## In addition to the price of the car, the manager also wants to now know the average mileage that the car has been driven. But the manager does not have the population standard deviation for the mileage. But the mileage data is available only from the 15 cars that they have sold so far.\n",
    "\n",
    "## How do the analyst approach this problem to calculate 95% confidence interval, with only 15 samples?"
   ]
  },
  {
   "cell_type": "markdown",
   "metadata": {
    "papermill": {
     "duration": 0.018218,
     "end_time": "2020-08-23T07:17:46.025374",
     "exception": false,
     "start_time": "2020-08-23T07:17:46.007156",
     "status": "completed"
    },
    "tags": []
   },
   "source": [
    "## The student's T Distribution:\n",
    "\n",
    "### When we do not know the population standard deviation, we have to estimate it. In these cases we use the t-distribution insted of the Z-distribution.\n",
    "\n",
    "#### Key difference between Z-Distribution and T-Distribution are:\n",
    "- The Z-distribution is the standard normal curve, which is the same for all the sample sizes, Whereas the t-distribution varies as per the degrees of freedom (n - 1) of the sample size. \n",
    "- Smaller the sample size, more shorter and fatter the distribution will be. There will be more tail probability.\n",
    "- As the number of samples n becomes larger, then the t-distribution will converge into z-distribution.\n"
   ]
  },
  {
   "cell_type": "code",
   "execution_count": 4,
   "metadata": {
    "execution": {
     "iopub.execute_input": "2020-08-23T07:17:46.074524Z",
     "iopub.status.busy": "2020-08-23T07:17:46.073403Z",
     "iopub.status.idle": "2020-08-23T07:17:46.077630Z",
     "shell.execute_reply": "2020-08-23T07:17:46.078230Z"
    },
    "papermill": {
     "duration": 0.033369,
     "end_time": "2020-08-23T07:17:46.078415",
     "exception": false,
     "start_time": "2020-08-23T07:17:46.045046",
     "status": "completed"
    },
    "tags": []
   },
   "outputs": [
    {
     "name": "stdout",
     "output_type": "stream",
     "text": [
      "x_bar is: 15016.533333333333\n",
      "s is: 13380.611156279656\n"
     ]
    }
   ],
   "source": [
    "np.random.seed(11)\n",
    "sample_15 = data.sample(n = 15)[\"mileage\"]\n",
    "x_bar = np.mean(sample_15)\n",
    "print(\"x_bar is:\", str(x_bar))\n",
    "print(\"s is:\", np.std(sample_15))"
   ]
  },
  {
   "cell_type": "code",
   "execution_count": 5,
   "metadata": {
    "execution": {
     "iopub.execute_input": "2020-08-23T07:17:46.120317Z",
     "iopub.status.busy": "2020-08-23T07:17:46.119478Z",
     "iopub.status.idle": "2020-08-23T07:17:47.206098Z",
     "shell.execute_reply": "2020-08-23T07:17:47.205449Z"
    },
    "papermill": {
     "duration": 1.109558,
     "end_time": "2020-08-23T07:17:47.206250",
     "exception": false,
     "start_time": "2020-08-23T07:17:46.096692",
     "status": "completed"
    },
    "tags": []
   },
   "outputs": [
    {
     "name": "stdout",
     "output_type": "stream",
     "text": [
      "2.1447866879169273\n"
     ]
    }
   ],
   "source": [
    "from scipy import stats\n",
    "\n",
    "no_of_samples = 15\n",
    "\n",
    "print(stats.t.ppf(1-0.025, no_of_samples - 1))"
   ]
  },
  {
   "cell_type": "markdown",
   "metadata": {
    "papermill": {
     "duration": 0.023085,
     "end_time": "2020-08-23T07:17:47.248007",
     "exception": false,
     "start_time": "2020-08-23T07:17:47.224922",
     "status": "completed"
    },
    "tags": []
   },
   "source": [
    "### At a (1 - α) 100% confidence interval for the mean μ when σ is NOT known is:\n",
    "\n",
    "$$ \\bar X \\pm t _{\\dfrac{\\alpha}{2}} \\dfrac{s}{\\sqrt{n}}$$\n",
    "\n",
    "### For our problem:\n",
    "\n",
    "$$ \\bar X \\pm t _{\\dfrac{\\alpha}{2}} \\dfrac{s}{\\sqrt{n}} = \\bar X \\pm 2.144 \\dfrac{s}{\\sqrt{n}} = 15016 \\pm 2.144 \\dfrac{13380}{\\sqrt{15}} = [7609.12, \t22422.87] $$"
   ]
  },
  {
   "cell_type": "markdown",
   "metadata": {
    "papermill": {
     "duration": 0.017719,
     "end_time": "2020-08-23T07:17:47.283525",
     "exception": false,
     "start_time": "2020-08-23T07:17:47.265806",
     "status": "completed"
    },
    "tags": []
   },
   "source": [
    "<hr>\n",
    "\n",
    "# Question 3:\n",
    "\n",
    "## The manager is not happy with both the intervals as the interval for the confidence is very high. The manager now asks the analyst to estimate the average price of the car (similar to question 1) but within a bound of 1000 from the mean with 95% condidence level. How many sample does the analyst have to collect to arrive at this confidence interval level?"
   ]
  },
  {
   "cell_type": "markdown",
   "metadata": {
    "papermill": {
     "duration": 0.020987,
     "end_time": "2020-08-23T07:17:47.322690",
     "exception": false,
     "start_time": "2020-08-23T07:17:47.301703",
     "status": "completed"
    },
    "tags": []
   },
   "source": [
    "# Sample-size determination:\n",
    "\n",
    "### Often before collecting the sample, the researcher should decide upon what is the minimum number of samples needed for the study. As we all know that the larger the sample is, it is better for the outcome of the study, but there is typically cost and time involved in collecting the samples. \n",
    "\n",
    "### The size of the sample is affected by parameters such as:\n",
    "- Bound that we need our interval to be within. This is represented by B. In question 3, B = 1000\n",
    "- The confidence level (1−𝛼). In question 3 this is 95%\n",
    "- What is the estimate of variance (of standard deviation) of the population? from question 1 we assume this to be σ = 11,850\n",
    "\n",
    "## The minimum number of required samples to estimate the population mean μ is:\n",
    "\n",
    "$$ n = \\dfrac{Z^2 _{\\alpha / 2} \\sigma^2}{B^2} $$"
   ]
  },
  {
   "cell_type": "markdown",
   "metadata": {
    "papermill": {
     "duration": 0.020367,
     "end_time": "2020-08-23T07:17:47.364086",
     "exception": false,
     "start_time": "2020-08-23T07:17:47.343719",
     "status": "completed"
    },
    "tags": []
   },
   "source": [
    "## For our question 3:\n",
    "\n",
    "$$ n = \\dfrac{Z^2 _{\\alpha / 2} \\sigma^2}{B^2} = \\dfrac{1.96^2 11850^2}{1000^2} = 539.4 $$\n",
    "\n",
    "Hence, the analyst would need atleast 540 samples to be able to find the sample means within 95% confidence intervals of the population mean of 1000 range"
   ]
  },
  {
   "cell_type": "markdown",
   "metadata": {
    "papermill": {
     "duration": 0.019675,
     "end_time": "2020-08-23T07:17:47.401998",
     "exception": false,
     "start_time": "2020-08-23T07:17:47.382323",
     "status": "completed"
    },
    "tags": []
   },
   "source": [
    "<hr>\n",
    "\n",
    "# Question 4:\n",
    "\n",
    "## Conversely, after the analyst started collecting the data, after a week he was only able to collect for 420 samples, though he needs 540 samples for B of 1,000, if he has to do the analysis now, what is the best interval he can acheive for 95% confidence levels?"
   ]
  },
  {
   "cell_type": "markdown",
   "metadata": {
    "papermill": {
     "duration": 0.025609,
     "end_time": "2020-08-23T07:17:47.449881",
     "exception": false,
     "start_time": "2020-08-23T07:17:47.424272",
     "status": "completed"
    },
    "tags": []
   },
   "source": [
    "### This is converse senario to the question 3. From the formula for the sample size determination we can come up with the formula for calculating the bounds:\n",
    "\n",
    "$$ n = \\dfrac{Z^2 _{\\alpha / 2} \\sigma^2}{B^2} $$\n",
    "\n",
    "$$ B = Z _{\\alpha / 2} \\dfrac{\\sigma}{\\sqrt n} $$"
   ]
  },
  {
   "cell_type": "markdown",
   "metadata": {
    "papermill": {
     "duration": 0.018513,
     "end_time": "2020-08-23T07:17:47.489789",
     "exception": false,
     "start_time": "2020-08-23T07:17:47.471276",
     "status": "completed"
    },
    "tags": []
   },
   "source": [
    "### Hence for our question:\n",
    "\n",
    "$$ B = Z _{\\alpha / 2} \\dfrac{\\sigma}{\\sqrt n} = 1.96 \\dfrac{11850}{\\sqrt 420} = 1133.31 $$\n",
    "\n",
    "### The analyst will be able to construct the sample means within 1133 of the population mean with 420 samples."
   ]
  },
  {
   "cell_type": "markdown",
   "metadata": {
    "papermill": {
     "duration": 0.020377,
     "end_time": "2020-08-23T07:17:47.529664",
     "exception": false,
     "start_time": "2020-08-23T07:17:47.509287",
     "status": "completed"
    },
    "tags": []
   },
   "source": [
    "### Please upvote this notebook if you found this notebook interesting. \n",
    "\n",
    "## Visit my other notebooks on statistics here:\n",
    "\n",
    "1. [Sampling and sample distribution](https://www.kaggle.com/gireeshs/learn-statistics-1-sampling-sample-distribution)\n",
    "2. [This notebook] [Confidence intervals](https://www.kaggle.com/gireeshs/learn-statistics-2-confidence-interval)\n",
    "3. [WIP] Hypothesis testing\n",
    "4. [WIP] Comparison of two populations\n",
    "5. [WIP] Analysis of variance (ANOVA)\n",
    "6. [Linear regression basics with matrix multiplication](https://www.kaggle.com/gireeshs/diy-from-scratch-linearregression-only-using-numpy)"
   ]
  },
  {
   "cell_type": "markdown",
   "metadata": {
    "papermill": {
     "duration": 0.019837,
     "end_time": "2020-08-23T07:17:47.568388",
     "exception": false,
     "start_time": "2020-08-23T07:17:47.548551",
     "status": "completed"
    },
    "tags": []
   },
   "source": [
    "# References:\n",
    "1. https://youtu.be/9GtaIHFuEZU\n",
    "2. https://stackoverflow.com/questions/19339305/python-function-to-get-the-t-statistic\n",
    "3. https://machinelearningmastery.com/what-is-statistics"
   ]
  }
 ],
 "metadata": {
  "kernelspec": {
   "display_name": "Python 3",
   "language": "python",
   "name": "python3"
  },
  "language_info": {
   "codemirror_mode": {
    "name": "ipython",
    "version": 3
   },
   "file_extension": ".py",
   "mimetype": "text/x-python",
   "name": "python",
   "nbconvert_exporter": "python",
   "pygments_lexer": "ipython3",
   "version": "3.8.8"
  },
  "papermill": {
   "duration": 7.685087,
   "end_time": "2020-08-23T07:17:47.696740",
   "environment_variables": {},
   "exception": null,
   "input_path": "__notebook__.ipynb",
   "output_path": "__notebook__.ipynb",
   "parameters": {},
   "start_time": "2020-08-23T07:17:40.011653",
   "version": "2.1.0"
  }
 },
 "nbformat": 4,
 "nbformat_minor": 4
}
