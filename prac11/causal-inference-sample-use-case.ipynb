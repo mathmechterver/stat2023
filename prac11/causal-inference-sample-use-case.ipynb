{
 "cells": [
  {
   "cell_type": "markdown",
   "metadata": {
    "papermill": {
     "duration": 0.020256,
     "end_time": "2021-03-11T23:40:48.729637",
     "exception": false,
     "start_time": "2021-03-11T23:40:48.709381",
     "status": "completed"
    },
    "tags": []
   },
   "source": [
    "### What does this notebook contain\n",
    "This notebook contains pyro + R code that takes an AB testing sample data and runs few causal queries. "
   ]
  },
  {
   "cell_type": "markdown",
   "metadata": {
    "papermill": {
     "duration": 0.018507,
     "end_time": "2021-03-11T23:40:48.767294",
     "exception": false,
     "start_time": "2021-03-11T23:40:48.748787",
     "status": "completed"
    },
    "tags": []
   },
   "source": [
    "### **Why is causal inference important?**\n",
    "\n",
    "---\n",
    "\n",
    "\n",
    "\n",
    "The normal machine learning process doesn't capture causality in the system. We make predictions through correlations. If a system is time variant and the data generation process changes, more often, the built machine learning becomes invalid. For example, say, we build a machine learning model to predict sales. We do a marketing campaign that boosts the sales (in that instance), our machine learning model, doesn't understand the generated data as its different to the ones that was used during training and results in bad predictions. Machine learning systems that encode causality, via causal inference allows us to model the data generating process and give structure to it.\n",
    "\n",
    "Causal inference models using DAGS are inherently bayesian and hence they give us the uncertainity of the predictions by default. We can estimate the effect of certain factors on the system. The three ladders of causal inference systems are Association (Inferring the probability of one event with evidence of another event), Intervention (Infer , If this - then what questions) and Counterfactuals (Alter the fact. Had i done this instead of reality, what would have happened. Twin -world scenario). The above questions are  difficult to answer via normal machine learning models."
   ]
  },
  {
   "cell_type": "markdown",
   "metadata": {
    "papermill": {
     "duration": 0.019209,
     "end_time": "2021-03-11T23:40:48.805683",
     "exception": false,
     "start_time": "2021-03-11T23:40:48.786474",
     "status": "completed"
    },
    "tags": []
   },
   "source": [
    "### Steps Followed.\n",
    "\n",
    "I chose to take a AB testing dataset and answer the following,\n",
    "\n",
    "\n",
    "1.   Fit data to a DAG\n",
    "2.   Get conditional probabilities and use them as prior probabilities.\n",
    "3.   Use inference algorithms to answer few causal queries.\n",
    "4.   Estimate causal effect for a use case.\n",
    "\n"
   ]
  },
  {
   "cell_type": "markdown",
   "metadata": {
    "papermill": {
     "duration": 0.018915,
     "end_time": "2021-03-11T23:40:48.843759",
     "exception": false,
     "start_time": "2021-03-11T23:40:48.824844",
     "status": "completed"
    },
    "tags": []
   },
   "source": [
    "### Datasource: https://scholarworks.montana.edu/xmlui/handle/1/3507\n",
    "\n",
    "The dataset consists of web analytics data trying to capture the user click rate. The dataset consists of tagname, visisblity of the tag, num clicks and the different versions."
   ]
  },
  {
   "cell_type": "code",
   "execution_count": 1,
   "metadata": {
    "_cell_guid": "b1076dfc-b9ad-4769-8c92-a6c4dae69d19",
    "_uuid": "8f2839f25d086af736a60e9eeb907d3b93b6e0e5",
    "execution": {
     "iopub.execute_input": "2021-03-11T23:40:48.884576Z",
     "iopub.status.busy": "2021-03-11T23:40:48.883961Z",
     "iopub.status.idle": "2021-03-11T23:40:49.280087Z",
     "shell.execute_reply": "2021-03-11T23:40:49.279215Z"
    },
    "papermill": {
     "duration": 0.417739,
     "end_time": "2021-03-11T23:40:49.280319",
     "exception": false,
     "start_time": "2021-03-11T23:40:48.862580",
     "status": "completed"
    },
    "tags": []
   },
   "outputs": [],
   "source": [
    "import pandas as pd\n",
    "import numpy as np\n",
    "df = pd.read_csv(\"https://gist.githubusercontent.com/mancunian1792/d174a34b29e09dfa100b3aa60afba707/raw/231e21d5bc873583279a29ad4ee1af2d50a31378/data.csv\")"
   ]
  },
  {
   "cell_type": "code",
   "execution_count": 2,
   "metadata": {
    "execution": {
     "iopub.execute_input": "2021-03-11T23:40:49.334897Z",
     "iopub.status.busy": "2021-03-11T23:40:49.334236Z",
     "iopub.status.idle": "2021-03-11T23:40:49.353924Z",
     "shell.execute_reply": "2021-03-11T23:40:49.353298Z"
    },
    "papermill": {
     "duration": 0.052552,
     "end_time": "2021-03-11T23:40:49.354064",
     "exception": false,
     "start_time": "2021-03-11T23:40:49.301512",
     "status": "completed"
    },
    "tags": []
   },
   "outputs": [
    {
     "data": {
      "text/html": [
       "<div>\n",
       "<style scoped>\n",
       "    .dataframe tbody tr th:only-of-type {\n",
       "        vertical-align: middle;\n",
       "    }\n",
       "\n",
       "    .dataframe tbody tr th {\n",
       "        vertical-align: top;\n",
       "    }\n",
       "\n",
       "    .dataframe thead th {\n",
       "        text-align: right;\n",
       "    }\n",
       "</style>\n",
       "<table border=\"1\" class=\"dataframe\">\n",
       "  <thead>\n",
       "    <tr style=\"text-align: right;\">\n",
       "      <th></th>\n",
       "      <th>elementid</th>\n",
       "      <th>tagname</th>\n",
       "      <th>numclicks</th>\n",
       "      <th>isVisible</th>\n",
       "      <th>version</th>\n",
       "    </tr>\n",
       "  </thead>\n",
       "  <tbody>\n",
       "    <tr>\n",
       "      <th>0</th>\n",
       "      <td>128</td>\n",
       "      <td>area</td>\n",
       "      <td>1291</td>\n",
       "      <td>False</td>\n",
       "      <td>v1</td>\n",
       "    </tr>\n",
       "    <tr>\n",
       "      <th>1</th>\n",
       "      <td>69</td>\n",
       "      <td>a</td>\n",
       "      <td>842</td>\n",
       "      <td>True</td>\n",
       "      <td>v1</td>\n",
       "    </tr>\n",
       "    <tr>\n",
       "      <th>2</th>\n",
       "      <td>61</td>\n",
       "      <td>input</td>\n",
       "      <td>508</td>\n",
       "      <td>True</td>\n",
       "      <td>v1</td>\n",
       "    </tr>\n",
       "    <tr>\n",
       "      <th>3</th>\n",
       "      <td>67</td>\n",
       "      <td>a</td>\n",
       "      <td>166</td>\n",
       "      <td>True</td>\n",
       "      <td>v1</td>\n",
       "    </tr>\n",
       "    <tr>\n",
       "      <th>4</th>\n",
       "      <td>78</td>\n",
       "      <td>a</td>\n",
       "      <td>151</td>\n",
       "      <td>True</td>\n",
       "      <td>v1</td>\n",
       "    </tr>\n",
       "  </tbody>\n",
       "</table>\n",
       "</div>"
      ],
      "text/plain": [
       "   elementid tagname  numclicks  isVisible version\n",
       "0        128    area       1291      False      v1\n",
       "1         69       a        842       True      v1\n",
       "2         61   input        508       True      v1\n",
       "3         67       a        166       True      v1\n",
       "4         78       a        151       True      v1"
      ]
     },
     "execution_count": 2,
     "metadata": {},
     "output_type": "execute_result"
    }
   ],
   "source": [
    "df.head()"
   ]
  },
  {
   "cell_type": "markdown",
   "metadata": {
    "papermill": {
     "duration": 0.019236,
     "end_time": "2021-03-11T23:40:49.393336",
     "exception": false,
     "start_time": "2021-03-11T23:40:49.374100",
     "status": "completed"
    },
    "tags": []
   },
   "source": [
    "For simplicity sake, we remove element id. This is done as it is easy to analyse discrete variables than continous variables in causal inference. But, this variable is very important as it captures the content. We also discretize the number of clicks according to our own logic. (This is very well up for modification)"
   ]
  },
  {
   "cell_type": "code",
   "execution_count": 3,
   "metadata": {
    "execution": {
     "iopub.execute_input": "2021-03-11T23:40:49.438970Z",
     "iopub.status.busy": "2021-03-11T23:40:49.438006Z",
     "iopub.status.idle": "2021-03-11T23:40:49.441099Z",
     "shell.execute_reply": "2021-03-11T23:40:49.440469Z"
    },
    "papermill": {
     "duration": 0.028253,
     "end_time": "2021-03-11T23:40:49.441241",
     "exception": false,
     "start_time": "2021-03-11T23:40:49.412988",
     "status": "completed"
    },
    "tags": []
   },
   "outputs": [],
   "source": [
    "del df[\"elementid\"]"
   ]
  },
  {
   "cell_type": "code",
   "execution_count": 4,
   "metadata": {
    "execution": {
     "iopub.execute_input": "2021-03-11T23:40:49.490666Z",
     "iopub.status.busy": "2021-03-11T23:40:49.489773Z",
     "iopub.status.idle": "2021-03-11T23:40:49.493441Z",
     "shell.execute_reply": "2021-03-11T23:40:49.492917Z"
    },
    "papermill": {
     "duration": 0.032461,
     "end_time": "2021-03-11T23:40:49.493581",
     "exception": false,
     "start_time": "2021-03-11T23:40:49.461120",
     "status": "completed"
    },
    "tags": []
   },
   "outputs": [],
   "source": [
    "def convert_clicks_categorical(num):\n",
    "  if num <= 10:\n",
    "    return \"LOW\"\n",
    "  elif num > 10 and num <=100:\n",
    "    return \"MEDLOW\"\n",
    "  elif num > 100 and num <=250:\n",
    "    return \"MEDIUM\"\n",
    "  elif num > 250 and num <= 500:\n",
    "    return \"MEDHIGH\"\n",
    "  else:\n",
    "    return \"HIGH\"\n",
    "\n",
    "df[\"clicks\"] = df[\"numclicks\"].apply(lambda x: convert_clicks_categorical(x))\n",
    "del df[\"numclicks\"]"
   ]
  },
  {
   "cell_type": "code",
   "execution_count": 5,
   "metadata": {
    "execution": {
     "iopub.execute_input": "2021-03-11T23:40:49.538382Z",
     "iopub.status.busy": "2021-03-11T23:40:49.537455Z",
     "iopub.status.idle": "2021-03-11T23:40:49.544764Z",
     "shell.execute_reply": "2021-03-11T23:40:49.544106Z"
    },
    "papermill": {
     "duration": 0.031437,
     "end_time": "2021-03-11T23:40:49.544924",
     "exception": false,
     "start_time": "2021-03-11T23:40:49.513487",
     "status": "completed"
    },
    "tags": []
   },
   "outputs": [],
   "source": [
    "df.to_csv(\"data.csv\", index=False)"
   ]
  },
  {
   "cell_type": "markdown",
   "metadata": {
    "papermill": {
     "duration": 0.020676,
     "end_time": "2021-03-11T23:40:49.585977",
     "exception": false,
     "start_time": "2021-03-11T23:40:49.565301",
     "status": "completed"
    },
    "tags": []
   },
   "source": [
    "### This dataset was uploaded to git and used below."
   ]
  },
  {
   "cell_type": "code",
   "execution_count": 6,
   "metadata": {
    "execution": {
     "iopub.execute_input": "2021-03-11T23:40:49.638690Z",
     "iopub.status.busy": "2021-03-11T23:40:49.638073Z",
     "iopub.status.idle": "2021-03-11T23:40:49.948173Z",
     "shell.execute_reply": "2021-03-11T23:40:49.947548Z"
    },
    "papermill": {
     "duration": 0.341623,
     "end_time": "2021-03-11T23:40:49.948338",
     "exception": false,
     "start_time": "2021-03-11T23:40:49.606715",
     "status": "completed"
    },
    "tags": []
   },
   "outputs": [],
   "source": [
    "ab_testing_data = pd.read_csv(\"https://gist.githubusercontent.com/mancunian1792/06ec31e69b8c10d5de28b7c4949a6538/raw/2bee970d5559ff07706aa537d96474b9e0dbb7e7/ab_testing_data.csv\")"
   ]
  },
  {
   "cell_type": "code",
   "execution_count": 7,
   "metadata": {
    "execution": {
     "iopub.execute_input": "2021-03-11T23:40:50.001221Z",
     "iopub.status.busy": "2021-03-11T23:40:50.000543Z",
     "iopub.status.idle": "2021-03-11T23:40:50.004332Z",
     "shell.execute_reply": "2021-03-11T23:40:50.003796Z"
    },
    "papermill": {
     "duration": 0.035998,
     "end_time": "2021-03-11T23:40:50.004484",
     "exception": false,
     "start_time": "2021-03-11T23:40:49.968486",
     "status": "completed"
    },
    "tags": []
   },
   "outputs": [
    {
     "data": {
      "text/html": [
       "<div>\n",
       "<style scoped>\n",
       "    .dataframe tbody tr th:only-of-type {\n",
       "        vertical-align: middle;\n",
       "    }\n",
       "\n",
       "    .dataframe tbody tr th {\n",
       "        vertical-align: top;\n",
       "    }\n",
       "\n",
       "    .dataframe thead th {\n",
       "        text-align: right;\n",
       "    }\n",
       "</style>\n",
       "<table border=\"1\" class=\"dataframe\">\n",
       "  <thead>\n",
       "    <tr style=\"text-align: right;\">\n",
       "      <th></th>\n",
       "      <th>tagname</th>\n",
       "      <th>isVisible</th>\n",
       "      <th>version</th>\n",
       "      <th>clicks</th>\n",
       "    </tr>\n",
       "  </thead>\n",
       "  <tbody>\n",
       "    <tr>\n",
       "      <th>0</th>\n",
       "      <td>area</td>\n",
       "      <td>False</td>\n",
       "      <td>v1</td>\n",
       "      <td>HIGH</td>\n",
       "    </tr>\n",
       "    <tr>\n",
       "      <th>1</th>\n",
       "      <td>a</td>\n",
       "      <td>True</td>\n",
       "      <td>v1</td>\n",
       "      <td>HIGH</td>\n",
       "    </tr>\n",
       "    <tr>\n",
       "      <th>2</th>\n",
       "      <td>input</td>\n",
       "      <td>True</td>\n",
       "      <td>v1</td>\n",
       "      <td>HIGH</td>\n",
       "    </tr>\n",
       "    <tr>\n",
       "      <th>3</th>\n",
       "      <td>a</td>\n",
       "      <td>True</td>\n",
       "      <td>v1</td>\n",
       "      <td>MEDIUM</td>\n",
       "    </tr>\n",
       "    <tr>\n",
       "      <th>4</th>\n",
       "      <td>a</td>\n",
       "      <td>True</td>\n",
       "      <td>v1</td>\n",
       "      <td>MEDIUM</td>\n",
       "    </tr>\n",
       "  </tbody>\n",
       "</table>\n",
       "</div>"
      ],
      "text/plain": [
       "  tagname  isVisible version  clicks\n",
       "0    area      False      v1    HIGH\n",
       "1       a       True      v1    HIGH\n",
       "2   input       True      v1    HIGH\n",
       "3       a       True      v1  MEDIUM\n",
       "4       a       True      v1  MEDIUM"
      ]
     },
     "execution_count": 7,
     "metadata": {},
     "output_type": "execute_result"
    }
   ],
   "source": [
    "ab_testing_data.head()"
   ]
  },
  {
   "cell_type": "markdown",
   "metadata": {
    "papermill": {
     "duration": 0.020368,
     "end_time": "2021-03-11T23:40:50.045770",
     "exception": false,
     "start_time": "2021-03-11T23:40:50.025402",
     "status": "completed"
    },
    "tags": []
   },
   "source": [
    "### **Proposed DAG**\n",
    "\n",
    "In Different versions, we can change the tag name (add/edit/delete) and make it visible or not visible. Hence, version is the root and describes the user changes to the website. The tag name and its visibility causes the clicks. Obviously, we are missing many other factors, like the content, the color or aesthetics. For a fully comprehendable model, we can consider them as latent variables and assume them to be sampled from a distribution. For now, lets just let them be."
   ]
  },
  {
   "cell_type": "code",
   "execution_count": 8,
   "metadata": {
    "execution": {
     "iopub.execute_input": "2021-03-11T23:40:50.093347Z",
     "iopub.status.busy": "2021-03-11T23:40:50.092649Z",
     "iopub.status.idle": "2021-03-11T23:40:50.658392Z",
     "shell.execute_reply": "2021-03-11T23:40:50.657709Z"
    },
    "papermill": {
     "duration": 0.592165,
     "end_time": "2021-03-11T23:40:50.658549",
     "exception": false,
     "start_time": "2021-03-11T23:40:50.066384",
     "status": "completed"
    },
    "tags": []
   },
   "outputs": [
    {
     "data": {
      "image/svg+xml": [
       "<?xml version=\"1.0\" encoding=\"UTF-8\" standalone=\"no\"?>\n",
       "<!DOCTYPE svg PUBLIC \"-//W3C//DTD SVG 1.1//EN\"\n",
       " \"http://www.w3.org/Graphics/SVG/1.1/DTD/svg11.dtd\">\n",
       "<!-- Generated by graphviz version 2.42.3 (20191010.1750)\n",
       " -->\n",
       "<!-- Title: %3 Pages: 1 -->\n",
       "<svg width=\"206pt\" height=\"188pt\"\n",
       " viewBox=\"0.00 0.00 206.34 188.00\" xmlns=\"http://www.w3.org/2000/svg\" xmlns:xlink=\"http://www.w3.org/1999/xlink\">\n",
       "<g id=\"graph0\" class=\"graph\" transform=\"scale(1 1) rotate(0) translate(4 184)\">\n",
       "<title>%3</title>\n",
       "<polygon fill=\"white\" stroke=\"transparent\" points=\"-4,4 -4,-184 202.34,-184 202.34,4 -4,4\"/>\n",
       "<!-- T -->\n",
       "<g id=\"node1\" class=\"node\">\n",
       "<title>T</title>\n",
       "<ellipse fill=\"none\" stroke=\"black\" cx=\"48.1\" cy=\"-90\" rx=\"48.19\" ry=\"18\"/>\n",
       "<text text-anchor=\"middle\" x=\"48.1\" y=\"-86.3\" font-family=\"Times,serif\" font-size=\"14.00\">Tag Name</text>\n",
       "</g>\n",
       "<!-- C -->\n",
       "<g id=\"node4\" class=\"node\">\n",
       "<title>C</title>\n",
       "<ellipse fill=\"none\" stroke=\"black\" cx=\"102.1\" cy=\"-18\" rx=\"33.29\" ry=\"18\"/>\n",
       "<text text-anchor=\"middle\" x=\"102.1\" y=\"-14.3\" font-family=\"Times,serif\" font-size=\"14.00\">Clicks</text>\n",
       "</g>\n",
       "<!-- T&#45;&gt;C -->\n",
       "<g id=\"edge4\" class=\"edge\">\n",
       "<title>T&#45;&gt;C</title>\n",
       "<path fill=\"none\" stroke=\"black\" d=\"M60.89,-72.41C67.65,-63.66 76.06,-52.75 83.52,-43.08\"/>\n",
       "<polygon fill=\"black\" stroke=\"black\" points=\"86.43,-45.04 89.76,-34.99 80.88,-40.77 86.43,-45.04\"/>\n",
       "</g>\n",
       "<!-- S -->\n",
       "<g id=\"node2\" class=\"node\">\n",
       "<title>S</title>\n",
       "<ellipse fill=\"none\" stroke=\"black\" cx=\"156.1\" cy=\"-90\" rx=\"42.49\" ry=\"18\"/>\n",
       "<text text-anchor=\"middle\" x=\"156.1\" y=\"-86.3\" font-family=\"Times,serif\" font-size=\"14.00\">isVisible</text>\n",
       "</g>\n",
       "<!-- S&#45;&gt;C -->\n",
       "<g id=\"edge3\" class=\"edge\">\n",
       "<title>S&#45;&gt;C</title>\n",
       "<path fill=\"none\" stroke=\"black\" d=\"M143.57,-72.76C136.82,-64.02 128.36,-53.05 120.85,-43.31\"/>\n",
       "<polygon fill=\"black\" stroke=\"black\" points=\"123.43,-40.93 114.55,-35.15 117.89,-45.2 123.43,-40.93\"/>\n",
       "</g>\n",
       "<!-- V -->\n",
       "<g id=\"node3\" class=\"node\">\n",
       "<title>V</title>\n",
       "<ellipse fill=\"none\" stroke=\"black\" cx=\"102.1\" cy=\"-162\" rx=\"38.19\" ry=\"18\"/>\n",
       "<text text-anchor=\"middle\" x=\"102.1\" y=\"-158.3\" font-family=\"Times,serif\" font-size=\"14.00\">Version</text>\n",
       "</g>\n",
       "<!-- V&#45;&gt;T -->\n",
       "<g id=\"edge1\" class=\"edge\">\n",
       "<title>V&#45;&gt;T</title>\n",
       "<path fill=\"none\" stroke=\"black\" d=\"M89.57,-144.76C82.92,-136.14 74.61,-125.36 67.17,-115.73\"/>\n",
       "<polygon fill=\"black\" stroke=\"black\" points=\"69.81,-113.41 60.93,-107.63 64.26,-117.69 69.81,-113.41\"/>\n",
       "</g>\n",
       "<!-- V&#45;&gt;S -->\n",
       "<g id=\"edge2\" class=\"edge\">\n",
       "<title>V&#45;&gt;S</title>\n",
       "<path fill=\"none\" stroke=\"black\" d=\"M114.62,-144.76C121.27,-136.14 129.59,-125.36 137.02,-115.73\"/>\n",
       "<polygon fill=\"black\" stroke=\"black\" points=\"139.93,-117.69 143.26,-107.63 134.38,-113.41 139.93,-117.69\"/>\n",
       "</g>\n",
       "</g>\n",
       "</svg>\n"
      ],
      "text/plain": [
       "<graphviz.dot.Digraph at 0x7f53f486b950>"
      ]
     },
     "execution_count": 8,
     "metadata": {},
     "output_type": "execute_result"
    }
   ],
   "source": [
    "from graphviz import Digraph\n",
    "dag = Digraph()\n",
    "dag.node('T', 'Tag Name')\n",
    "dag.node('S', 'isVisible')\n",
    "dag.node('V', 'Version')\n",
    "dag.node('C', 'Clicks')\n",
    "\n",
    "dag.edges(['VT', 'VS', 'SC', 'TC'])\n",
    "dag\n"
   ]
  },
  {
   "cell_type": "markdown",
   "metadata": {
    "papermill": {
     "duration": 0.02114,
     "end_time": "2021-03-11T23:40:50.701496",
     "exception": false,
     "start_time": "2021-03-11T23:40:50.680356",
     "status": "completed"
    },
    "tags": []
   },
   "source": [
    "Now, we use some R magic, to fit the data into a bayesian network and get the conditional probabailities."
   ]
  },
  {
   "cell_type": "markdown",
   "metadata": {
    "papermill": {
     "duration": 0.021048,
     "end_time": "2021-03-11T23:40:50.744179",
     "exception": false,
     "start_time": "2021-03-11T23:40:50.723131",
     "status": "completed"
    },
    "tags": []
   },
   "source": [
    "``` {r}\n",
    "# R code to be run separately.\n",
    "library(bnlearn)\n",
    "library(Rgraphviz)\n",
    "library(dplyr)\n",
    "net <- model2network(\"[version][isVisible|version][tagname|version][clicks|isVisible:tagname]\")\n",
    "graphviz.plot(net)\n",
    "\n",
    "data = read.csv(\"https://gist.githubusercontent.com/mancunian1792/06ec31e69b8c10d5de28b7c4949a6538/raw/2bee970d5559ff07706aa537d96474b9e0dbb7e7/ab_testing_data.csv\")\n",
    "\n",
    "fit <- bn.fit(net, data, method=\"bayes\")\n",
    "\n",
    "fit\n",
    "```"
   ]
  },
  {
   "cell_type": "markdown",
   "metadata": {
    "papermill": {
     "duration": 0.020974,
     "end_time": "2021-03-11T23:40:50.786462",
     "exception": false,
     "start_time": "2021-03-11T23:40:50.765488",
     "status": "completed"
    },
    "tags": []
   },
   "source": [
    "We take the conditional probabilities obtained and use them alongside pyro to answer few causal queries."
   ]
  },
  {
   "cell_type": "markdown",
   "metadata": {
    "papermill": {
     "duration": 0.021141,
     "end_time": "2021-03-11T23:40:50.829048",
     "exception": false,
     "start_time": "2021-03-11T23:40:50.807907",
     "status": "completed"
    },
    "tags": []
   },
   "source": [
    "### **Conditional Probabalities**"
   ]
  },
  {
   "cell_type": "code",
   "execution_count": 9,
   "metadata": {
    "execution": {
     "iopub.execute_input": "2021-03-11T23:40:50.878616Z",
     "iopub.status.busy": "2021-03-11T23:40:50.877942Z",
     "iopub.status.idle": "2021-03-11T23:40:50.881253Z",
     "shell.execute_reply": "2021-03-11T23:40:50.880610Z"
    },
    "papermill": {
     "duration": 0.030984,
     "end_time": "2021-03-11T23:40:50.881408",
     "exception": false,
     "start_time": "2021-03-11T23:40:50.850424",
     "status": "completed"
    },
    "tags": []
   },
   "outputs": [],
   "source": [
    "# Getting the cpt tables from bnlearn fit values\n",
    "V_alias = ['v1','v2','v3', 'v4', 'v5']\n",
    "T_alias = ['a','area', 'button', 'center', 'div', 'font', 'form', 'img', 'input', 'li', 'object', 'p', 'span', 'strong', 'ul']\n",
    "S_alias = ['False','True']\n",
    "C_alias = ['HIGH','LOW', 'MEDHIGH', 'MEDIUM', 'MEDLOW']"
   ]
  },
  {
   "cell_type": "code",
   "execution_count": 10,
   "metadata": {
    "execution": {
     "iopub.execute_input": "2021-03-11T23:40:50.943315Z",
     "iopub.status.busy": "2021-03-11T23:40:50.932920Z",
     "iopub.status.idle": "2021-03-11T23:42:20.033013Z",
     "shell.execute_reply": "2021-03-11T23:42:20.031865Z"
    },
    "papermill": {
     "duration": 89.130004,
     "end_time": "2021-03-11T23:42:20.033254",
     "exception": false,
     "start_time": "2021-03-11T23:40:50.903250",
     "status": "completed"
    },
    "tags": []
   },
   "outputs": [
    {
     "name": "stdout",
     "output_type": "stream",
     "text": [
      "Requirement already satisfied: torch==1.7.0 in /opt/conda/lib/python3.7/site-packages (1.7.0)\r\n",
      "Requirement already satisfied: future in /opt/conda/lib/python3.7/site-packages (from torch==1.7.0) (0.18.2)\r\n",
      "Requirement already satisfied: typing_extensions in /opt/conda/lib/python3.7/site-packages (from torch==1.7.0) (3.7.4.3)\r\n",
      "Requirement already satisfied: dataclasses in /opt/conda/lib/python3.7/site-packages (from torch==1.7.0) (0.6)\r\n",
      "Requirement already satisfied: numpy in /opt/conda/lib/python3.7/site-packages (from torch==1.7.0) (1.19.5)\r\n",
      "Collecting pyro-ppl\r\n",
      "  Downloading pyro_ppl-1.6.0-py3-none-any.whl (634 kB)\r\n",
      "\u001b[K     |████████████████████████████████| 634 kB 904 kB/s \r\n",
      "\u001b[?25hRequirement already satisfied: opt-einsum>=2.3.2 in /opt/conda/lib/python3.7/site-packages (from pyro-ppl) (3.3.0)\r\n",
      "Requirement already satisfied: numpy>=1.7 in /opt/conda/lib/python3.7/site-packages (from pyro-ppl) (1.19.5)\r\n",
      "Requirement already satisfied: tqdm>=4.36 in /opt/conda/lib/python3.7/site-packages (from pyro-ppl) (4.55.1)\r\n",
      "Collecting torch>=1.8.0\r\n",
      "  Downloading torch-1.8.0-cp37-cp37m-manylinux1_x86_64.whl (735.5 MB)\r\n",
      "\u001b[K     |████████████████████████████████| 735.5 MB 9.9 kB/s \r\n",
      "\u001b[?25hCollecting pyro-api>=0.1.1\r\n",
      "  Downloading pyro_api-0.1.2-py3-none-any.whl (11 kB)\r\n",
      "Requirement already satisfied: typing-extensions in /opt/conda/lib/python3.7/site-packages (from torch>=1.8.0->pyro-ppl) (3.7.4.3)\r\n",
      "Installing collected packages: torch, pyro-api, pyro-ppl\r\n",
      "  Attempting uninstall: torch\r\n",
      "    Found existing installation: torch 1.7.0\r\n",
      "    Uninstalling torch-1.7.0:\r\n",
      "      Successfully uninstalled torch-1.7.0\r\n",
      "\u001b[31mERROR: pip's dependency resolver does not currently take into account all the packages that are installed. This behaviour is the source of the following dependency conflicts.\r\n",
      "fastai 2.2.5 requires torch<1.8,>=1.7.0, but you have torch 1.8.0 which is incompatible.\r\n",
      "allennlp 2.0.1 requires torch<1.8.0,>=1.6.0, but you have torch 1.8.0 which is incompatible.\u001b[0m\r\n",
      "Successfully installed pyro-api-0.1.2 pyro-ppl-1.6.0 torch-1.8.0\r\n"
     ]
    }
   ],
   "source": [
    "!pip install torch==1.7.0\n",
    "!pip install pyro-ppl\n",
    "import pyro\n",
    "import pyro.distributions as dist\n",
    "from pyro.infer import Importance, EmpiricalMarginal\n",
    "import matplotlib.pyplot as plt\n",
    "import torch\n",
    "import numpy as np"
   ]
  },
  {
   "cell_type": "code",
   "execution_count": 11,
   "metadata": {
    "execution": {
     "iopub.execute_input": "2021-03-11T23:42:20.836709Z",
     "iopub.status.busy": "2021-03-11T23:42:20.835568Z",
     "iopub.status.idle": "2021-03-11T23:42:20.853989Z",
     "shell.execute_reply": "2021-03-11T23:42:20.854521Z"
    },
    "papermill": {
     "duration": 0.361275,
     "end_time": "2021-03-11T23:42:20.854771",
     "exception": false,
     "start_time": "2021-03-11T23:42:20.493496",
     "status": "completed"
    },
    "tags": []
   },
   "outputs": [],
   "source": [
    "import torch\n",
    "V_prob = torch.tensor([0.23, 0.194, 0.207, 0.190, 0.177])\n",
    "S_prob = torch.tensor([[0.16, 0.84], [0.19, 0.81], [0.22, 0.78], [0.08, 0.92], [0.11, 0.89]])\n",
    "\n",
    "T_prob = torch.tensor([[0.404, 0.014, 0.014, 0.0001, 0.289, 0.0001, 0.01, 0.029, 0.014, 0.043, 0.0001, 0.043, 0.115, 0.0001, 0.01], \n",
    "                       [0.446, 0.017, 0.017, 0.0002, 0.240, 0.0002, 0.017, 0.034, 0.017, 0.0002, 0.0002, 0.103, 0.086, 0.0002, 0.0174], \\\n",
    "                       [0.4503, 0.016, 0.016, 0.032, 0.209, 0.0002, 0.016, 0.032, 0.016, 0.0002, 0.016, 0.080, 0.080, 0.016, 0.016], \\\n",
    "                       [0.489, 0.017, 0.017, 0.0002, 0.244, 0.0002, 0.0177, 0.052, 0.0177, 0.0177, 0.0002, 0.070, 0.035, 0.0002, 0.0177], \\\n",
    "                       [0.507, 0.019, 0.019, 0.019, 0.169, 0.019, 0.019, 0.037, 0.019, 0.0002, 0.0002, 0.0754, 0.0754, 0.0002, 0.019]])\n",
    "\n",
    "C_prob = torch.tensor([[[0.0009, 0.996, 0.009, 0.009, 0.009], [0.03, 0.57, 0.007, 0.05, 0.33]],\n",
    "                       [[0.20, 0.001, 0.001, 0.20, 0.59], [0.20, 0.20, 0.20, 0.20, 0.20]], \\\n",
    "                       [[0.20, 0.20, 0.20, 0.20, 0.20], [0.001, 0.001, 0.001, 0.20, 0.797]], \\\n",
    "                       [[0.002, 0.9912, 0.002, 0.002, 0.002], [0.2, 0.2, 0.2, 0.2, 0.2]], \\\n",
    "                       [[0.0003, 0.998, 0.0003, 0.0003, 0.0003], [0.0001, 0.9602, 0.0001, 0.0001, 0.03932]], \\\n",
    "                       [[0.0064, 0.9741, 0.0064, 0.0064, 0.0064], [0.2, 0.2, 0.2, 0.2, 0.2]], \\\n",
    "                       [[0.2, 0.2, 0.2, 0.2, 0.2], [0.001, 0.796, 0.001, 0.001, 0.20]], \\\n",
    "                       [[0.002, 0.992, 0.002, 0.002, 0.002], [0.0009, 0.9962, 0.0009, 0.0009, 0.0009]], \\\n",
    "                       [[0.2, 0.2, 0.2, 0.2, 0.2], [0.2, 0.0013, 0.796, 0.00132, 0.00132]],\\\n",
    "                       [[0.2, 0.2, 0.2, 0.2, 0.2], [0.001, 0.993, 0.002, 0.002, 0.002]],\\\n",
    "                       [[0.0064, 0.974, 0.006, 0.006, 0.006],[0.2, 0.2, 0.2, 0.2, 0.2]],\\\n",
    "                       [[0.0011, 0.996, 0.001, 0.001, 0.001],[0.0004, 0.936, 0.0004, 0.0004, 0.0628]],\\\n",
    "                       [[0.2,0.2,0.2, 0.2, 0.2],[0.0003, 0.9157, 0.0003, 0.0003, 0.0835]],\\\n",
    "                       [[0.0065, 0.974, 0.0065, 0.0065, 0.0065],[0.2, 0.2, 0.2, 0.2, 0.2]],\\\n",
    "                       [[0.2, 0.2, 0.2, 0.2, 0.2],[0.0013, 0.9947, 0.0013, 0.0013, 0.0013]]])"
   ]
  },
  {
   "cell_type": "code",
   "execution_count": 12,
   "metadata": {
    "execution": {
     "iopub.execute_input": "2021-03-11T23:42:21.525546Z",
     "iopub.status.busy": "2021-03-11T23:42:21.524463Z",
     "iopub.status.idle": "2021-03-11T23:42:21.530817Z",
     "shell.execute_reply": "2021-03-11T23:42:21.531394Z"
    },
    "papermill": {
     "duration": 0.343914,
     "end_time": "2021-03-11T23:42:21.531578",
     "exception": false,
     "start_time": "2021-03-11T23:42:21.187664",
     "status": "completed"
    },
    "tags": []
   },
   "outputs": [],
   "source": [
    "def model():\n",
    "    V = pyro.sample(\"V\", dist.Categorical(probs=V_prob))\n",
    "    T = pyro.sample(\"T\", dist.Categorical(probs=T_prob[V]))\n",
    "    S = pyro.sample(\"S\", dist.Categorical(probs=S_prob[V]))\n",
    "    C = pyro.sample(\"C\", dist.Categorical(probs=C_prob[T][S]))\n",
    "    return{'V': V,'S': S,'T': T,'C': C}"
   ]
  },
  {
   "cell_type": "markdown",
   "metadata": {
    "papermill": {
     "duration": 0.331509,
     "end_time": "2021-03-11T23:42:22.199710",
     "exception": false,
     "start_time": "2021-03-11T23:42:21.868201",
     "status": "completed"
    },
    "tags": []
   },
   "source": [
    "**Association Query 1**: Infer the probability of versions, given an evidence. This is an interesting query as we go against the direction of the DAG.\n",
    "\n",
    "**Evidence**: Click through is *MEDHIGH* and visibility of tag is *TRUE*\n"
   ]
  },
  {
   "cell_type": "code",
   "execution_count": 13,
   "metadata": {
    "execution": {
     "iopub.execute_input": "2021-03-11T23:42:22.875003Z",
     "iopub.status.busy": "2021-03-11T23:42:22.874307Z",
     "iopub.status.idle": "2021-03-11T23:42:33.927165Z",
     "shell.execute_reply": "2021-03-11T23:42:33.926156Z"
    },
    "papermill": {
     "duration": 11.396234,
     "end_time": "2021-03-11T23:42:33.927327",
     "exception": false,
     "start_time": "2021-03-11T23:42:22.531093",
     "status": "completed"
    },
    "tags": []
   },
   "outputs": [
    {
     "data": {
      "text/plain": [
       "Text(0.5, 1.0, 'P(V | C = MEDHIGH, S= Visible) - Importance Sampling')"
      ]
     },
     "execution_count": 13,
     "metadata": {},
     "output_type": "execute_result"
    },
    {
     "data": {
      "image/png": "[encoded data removed]",
      "text/plain": [
       "<Figure size 432x288 with 1 Axes>"
      ]
     },
     "metadata": {
      "needs_background": "light"
     },
     "output_type": "display_data"
    }
   ],
   "source": [
    "conditioned_model_1 = pyro.condition(model, data={'C':torch.tensor(2), 'S': torch.tensor(1)})\n",
    "\n",
    "V_posterior = Importance(conditioned_model_1, num_samples=5000).run()\n",
    "V_marginal = EmpiricalMarginal(V_posterior,\"V\")\n",
    "V_samples = [V_marginal().item() for _ in range(5000)]\n",
    "V_unique, V_counts = np.unique(V_samples, return_counts=True)\n",
    "\n",
    "plt.bar(V_unique, V_counts/5000, align='center', alpha=0.5)\n",
    "plt.xticks(V_unique, V_alias)\n",
    "plt.ylabel('Posterior Probability')\n",
    "plt.xlabel('Versions')\n",
    "plt.title('P(V | C = MEDHIGH, S= Visible) - Importance Sampling')"
   ]
  },
  {
   "cell_type": "code",
   "execution_count": 14,
   "metadata": {
    "execution": {
     "iopub.execute_input": "2021-03-11T23:42:34.629962Z",
     "iopub.status.busy": "2021-03-11T23:42:34.629231Z",
     "iopub.status.idle": "2021-03-11T23:42:48.181351Z",
     "shell.execute_reply": "2021-03-11T23:42:48.180562Z"
    },
    "papermill": {
     "duration": 13.904392,
     "end_time": "2021-03-11T23:42:48.181506",
     "exception": false,
     "start_time": "2021-03-11T23:42:34.277114",
     "status": "completed"
    },
    "tags": []
   },
   "outputs": [
    {
     "data": {
      "text/plain": [
       "Text(0.5, 1.0, 'P(V | do(C = MEDHIGH, S= Visible) - Importance Sampling')"
      ]
     },
     "execution_count": 14,
     "metadata": {},
     "output_type": "execute_result"
    },
    {
     "data": {
      "image/png": "[encoded data removed]",
      "text/plain": [
       "<Figure size 432x288 with 1 Axes>"
      ]
     },
     "metadata": {
      "needs_background": "light"
     },
     "output_type": "display_data"
    }
   ],
   "source": [
    "intervention_condition = pyro.do(model, data={'C':torch.tensor(2), 'S': torch.tensor(1)})\n",
    "\n",
    "V_posterior = Importance(intervention_condition, num_samples=5000).run()\n",
    "V_marginal = EmpiricalMarginal(V_posterior,\"V\")\n",
    "V_samples = [V_marginal().item() for _ in range(5000)]\n",
    "V_unique, V_counts = np.unique(V_samples, return_counts=True)\n",
    "\n",
    "plt.bar(V_unique, V_counts/5000, align='center', alpha=0.5)\n",
    "plt.xticks(V_unique, V_alias)\n",
    "plt.ylabel('Posterior Probability')\n",
    "plt.xlabel('Versions')\n",
    "plt.title('P(V | do(C = MEDHIGH, S= Visible) - Importance Sampling')"
   ]
  },
  {
   "cell_type": "markdown",
   "metadata": {
    "papermill": {
     "duration": 0.341157,
     "end_time": "2021-03-11T23:42:48.866498",
     "exception": false,
     "start_time": "2021-03-11T23:42:48.525341",
     "status": "completed"
    },
    "tags": []
   },
   "source": [
    "**Association Query 2**: Infer the probability of tag names given evidence about click rate.\n",
    "\n",
    "**Evidence**: Click through is *HIGH*"
   ]
  },
  {
   "cell_type": "code",
   "execution_count": 15,
   "metadata": {
    "execution": {
     "iopub.execute_input": "2021-03-11T23:42:49.552335Z",
     "iopub.status.busy": "2021-03-11T23:42:49.551236Z",
     "iopub.status.idle": "2021-03-11T23:43:02.160818Z",
     "shell.execute_reply": "2021-03-11T23:43:02.160144Z"
    },
    "papermill": {
     "duration": 12.954003,
     "end_time": "2021-03-11T23:43:02.160971",
     "exception": false,
     "start_time": "2021-03-11T23:42:49.206968",
     "status": "completed"
    },
    "tags": []
   },
   "outputs": [
    {
     "data": {
      "text/plain": [
       "Text(0.5, 1.0, 'P(T | C = HIGH) - Importance Sampling')"
      ]
     },
     "execution_count": 15,
     "metadata": {},
     "output_type": "execute_result"
    },
    {
     "data": {
      "image/png": "[encoded data removed]",
      "text/plain": [
       "<Figure size 1080x720 with 1 Axes>"
      ]
     },
     "metadata": {
      "needs_background": "light"
     },
     "output_type": "display_data"
    }
   ],
   "source": [
    "conditioned_model_2 = pyro.condition(model, data={'C':torch.tensor(0)})\n",
    "\n",
    "T_posterior = Importance(conditioned_model_2, num_samples=5000).run()\n",
    "T_marginal = EmpiricalMarginal(T_posterior,\"T\")\n",
    "T_samples = [T_marginal().item() for _ in range(5000)]\n",
    "T_unique, T_counts = np.unique(T_samples, return_counts=True)\n",
    "plt.figure(figsize=(15,10))\n",
    "plt.bar(T_unique, T_counts/5000, align='center', alpha=0.5)\n",
    "plt.xticks(T_unique, T_alias)\n",
    "plt.ylabel('Posterior Probability')\n",
    "plt.xlabel('Tag-Names')\n",
    "plt.title('P(T | C = HIGH) - Importance Sampling')"
   ]
  },
  {
   "cell_type": "markdown",
   "metadata": {
    "papermill": {
     "duration": 0.350321,
     "end_time": "2021-03-11T23:43:02.864460",
     "exception": false,
     "start_time": "2021-03-11T23:43:02.514139",
     "status": "completed"
    },
    "tags": []
   },
   "source": [
    "An interesting observation is that, from data, we see that the probability of the area tag in occuring is very low in 0.001 range. But given the evidence that the click rate is *HIGH* we see that the probability of the area tag goes up 10 fold."
   ]
  },
  {
   "cell_type": "markdown",
   "metadata": {
    "papermill": {
     "duration": 0.345949,
     "end_time": "2021-03-11T23:43:03.558624",
     "exception": false,
     "start_time": "2021-03-11T23:43:03.212675",
     "status": "completed"
    },
    "tags": []
   },
   "source": [
    "**Intervention Query** - During intervention, the effect of the parent is negated. We try to negate the effect of visibility. What would happen if i make all the tags visible ? Hence, the effect of version disappears. What would be the \n",
    "\n",
    "**Evidence** - Visibility is True."
   ]
  },
  {
   "cell_type": "code",
   "execution_count": 16,
   "metadata": {
    "execution": {
     "iopub.execute_input": "2021-03-11T23:43:04.290821Z",
     "iopub.status.busy": "2021-03-11T23:43:04.290061Z",
     "iopub.status.idle": "2021-03-11T23:43:18.244170Z",
     "shell.execute_reply": "2021-03-11T23:43:18.243531Z"
    },
    "papermill": {
     "duration": 14.338887,
     "end_time": "2021-03-11T23:43:18.244349",
     "exception": false,
     "start_time": "2021-03-11T23:43:03.905462",
     "status": "completed"
    },
    "tags": []
   },
   "outputs": [
    {
     "data": {
      "text/plain": [
       "Text(0.5, 1.0, 'P(C | do(Visible=True)) - Importance Sampling')"
      ]
     },
     "execution_count": 16,
     "metadata": {},
     "output_type": "execute_result"
    },
    {
     "data": {
      "image/png": "[encoded data removed]",
      "text/plain": [
       "<Figure size 432x288 with 1 Axes>"
      ]
     },
     "metadata": {
      "needs_background": "light"
     },
     "output_type": "display_data"
    }
   ],
   "source": [
    "intervention_model_visible = pyro.do(model, data= {\"S\": torch.tensor(1)})\n",
    "\n",
    "C_posterior = Importance(intervention_model_visible, num_samples=5000).run()\n",
    "C_marginal = EmpiricalMarginal(C_posterior,\"C\")\n",
    "C_samples = [C_marginal().item() for _ in range(5000)]\n",
    "C_unique, C_counts = np.unique(C_samples, return_counts=True)\n",
    "plt.bar(C_unique, C_counts/5000, align='center', alpha=0.5)\n",
    "plt.xticks(C_unique, C_alias)\n",
    "plt.ylabel('Posterior Probability')\n",
    "plt.xlabel('Click Rate')\n",
    "plt.title('P(C | do(Visible=True)) - Importance Sampling')"
   ]
  },
  {
   "cell_type": "code",
   "execution_count": 17,
   "metadata": {
    "execution": {
     "iopub.execute_input": "2021-03-11T23:43:18.948424Z",
     "iopub.status.busy": "2021-03-11T23:43:18.947779Z",
     "iopub.status.idle": "2021-03-11T23:43:31.221569Z",
     "shell.execute_reply": "2021-03-11T23:43:31.220995Z"
    },
    "papermill": {
     "duration": 12.622355,
     "end_time": "2021-03-11T23:43:31.221719",
     "exception": false,
     "start_time": "2021-03-11T23:43:18.599364",
     "status": "completed"
    },
    "tags": []
   },
   "outputs": [
    {
     "data": {
      "text/plain": [
       "Text(0.5, 1.0, 'P(C | do(Visible=False) - Importance Sampling')"
      ]
     },
     "execution_count": 17,
     "metadata": {},
     "output_type": "execute_result"
    },
    {
     "data": {
      "image/png": "[encoded data removed]",
      "text/plain": [
       "<Figure size 432x288 with 1 Axes>"
      ]
     },
     "metadata": {
      "needs_background": "light"
     },
     "output_type": "display_data"
    }
   ],
   "source": [
    "intervention_model_visible_no = pyro.condition(model, data= {\"S\": torch.tensor(0)})\n",
    "\n",
    "C_posterior = Importance(intervention_model_visible_no, num_samples=5000).run()\n",
    "C_marginal = EmpiricalMarginal(C_posterior,\"C\")\n",
    "C_samples = [C_marginal().item() for _ in range(5000)]\n",
    "C_unique, C_counts = np.unique(C_samples, return_counts=True)\n",
    "plt.bar(C_unique, C_counts/5000, align='center', alpha=0.5)\n",
    "plt.xticks(C_unique, C_alias)\n",
    "plt.ylabel('Posterior Probability')\n",
    "plt.xlabel('Click Rate')\n",
    "plt.title('P(C | do(Visible=False) - Importance Sampling')"
   ]
  },
  {
   "cell_type": "markdown",
   "metadata": {
    "papermill": {
     "duration": 0.344521,
     "end_time": "2021-03-11T23:43:31.915947",
     "exception": false,
     "start_time": "2021-03-11T23:43:31.571426",
     "status": "completed"
    },
    "tags": []
   },
   "source": [
    "### Causal Effect Query\n",
    "\n",
    "**Does Setting visibility to TRUE for all elements make any effect ?**\n",
    "\n"
   ]
  },
  {
   "cell_type": "code",
   "execution_count": 18,
   "metadata": {
    "execution": {
     "iopub.execute_input": "2021-03-11T23:43:32.608433Z",
     "iopub.status.busy": "2021-03-11T23:43:32.607385Z",
     "iopub.status.idle": "2021-03-11T23:43:32.613976Z",
     "shell.execute_reply": "2021-03-11T23:43:32.614440Z"
    },
    "papermill": {
     "duration": 0.354501,
     "end_time": "2021-03-11T23:43:32.614626",
     "exception": false,
     "start_time": "2021-03-11T23:43:32.260125",
     "status": "completed"
    },
    "tags": []
   },
   "outputs": [],
   "source": [
    "def causal_effect(val):\n",
    "  c_samples_visible = [\n",
    "    1 if intervention_model_visible()['C'] == val else 0\n",
    "    for _ in range(5000)\n",
    "  ]\n",
    "  c_samples_not_visible = [\n",
    "      1 if intervention_model_visible_no()['C'] == val else 0\n",
    "      for _ in range(5000)\n",
    "  ]\n",
    "\n",
    "  causal_effect = np.mean(c_samples_visible) - np.mean(c_samples_not_visible)\n",
    "  return causal_effect"
   ]
  },
  {
   "cell_type": "code",
   "execution_count": 19,
   "metadata": {
    "execution": {
     "iopub.execute_input": "2021-03-11T23:43:33.305069Z",
     "iopub.status.busy": "2021-03-11T23:43:33.303925Z",
     "iopub.status.idle": "2021-03-11T23:43:55.693400Z",
     "shell.execute_reply": "2021-03-11T23:43:55.694169Z"
    },
    "papermill": {
     "duration": 22.738381,
     "end_time": "2021-03-11T23:43:55.694438",
     "exception": false,
     "start_time": "2021-03-11T23:43:32.956057",
     "status": "completed"
    },
    "tags": []
   },
   "outputs": [
    {
     "name": "stdout",
     "output_type": "stream",
     "text": [
      "E(Click = HIGH | do(Visible = True) - E(Click = HIGH | do(Visible = False))) is -0.006599999999999998\n",
      "E(Click = LOW | do(Visible = True) - E(Click = LOW | do(Visible = False))) is -0.11819999999999997\n",
      "E(Click = MEDHIGH | do(Visible = True) - E(Click = MEDHIGH | do(Visible = False))) is -0.0142\n",
      "E(Click = MEDIUM | do(Visible = True) - E(Click = MEDIUM | do(Visible = False))) is -0.006999999999999999\n",
      "E(Click = MEDLOW | do(Visible = True) - E(Click = MEDLOW | do(Visible = False))) is 0.15180000000000002\n"
     ]
    }
   ],
   "source": [
    "for lvl in C_alias:\n",
    "  diff = causal_effect(C_alias.index(lvl))\n",
    "  print(f\"E(Click = {lvl} | do(Visible = True) - E(Click = {lvl} | do(Visible = False))) is {diff}\")"
   ]
  },
  {
   "cell_type": "markdown",
   "metadata": {
    "papermill": {
     "duration": 0.342366,
     "end_time": "2021-03-11T23:43:56.384711",
     "exception": false,
     "start_time": "2021-03-11T23:43:56.042345",
     "status": "completed"
    },
    "tags": []
   },
   "source": [
    "We see that by making all the tags visible, the probability of MED-LOW is increased and we see a massive decrease in LOW probability. Hence, we can say that there is a ~15% chance for the  click rates to increase from the 0-10 range to 10-100 range by making all the tags visible."
   ]
  },
  {
   "cell_type": "markdown",
   "metadata": {
    "papermill": {
     "duration": 0.342674,
     "end_time": "2021-03-11T23:43:57.068483",
     "exception": false,
     "start_time": "2021-03-11T23:43:56.725809",
     "status": "completed"
    },
    "tags": []
   },
   "source": [
    "### P.S - If you're interested in combining causal inference with deep learning architecture and want to read about it, please checkout this [Tutorial](https://linkinnation1792.gitbook.io/causal-scene-generation/) and [this 10 minute summary](https://medium.com/swlh/causal-generative-modelling-a-brief-tutorial-with-game-character-images-728d3450b600)"
   ]
  }
 ],
 "metadata": {
  "kernelspec": {
   "display_name": "Python 3",
   "language": "python",
   "name": "python3"
  },
  "language_info": {
   "codemirror_mode": {
    "name": "ipython",
    "version": 3
   },
   "file_extension": ".py",
   "mimetype": "text/x-python",
   "name": "python",
   "nbconvert_exporter": "python",
   "pygments_lexer": "ipython3",
   "version": "3.7.9"
  },
  "papermill": {
   "default_parameters": {},
   "duration": 196.507671,
   "end_time": "2021-03-11T23:43:59.126582",
   "environment_variables": {},
   "exception": null,
   "input_path": "__notebook__.ipynb",
   "output_path": "__notebook__.ipynb",
   "parameters": {},
   "start_time": "2021-03-11T23:40:42.618911",
   "version": "2.2.2"
  }
 },
 "nbformat": 4,
 "nbformat_minor": 4
}
