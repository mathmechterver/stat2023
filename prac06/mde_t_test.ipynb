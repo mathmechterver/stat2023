{
 "cells": [
  {
   "cell_type": "code",
   "execution_count": 1,
   "metadata": {},
   "outputs": [
    {
     "data": {
      "image/png": "[encoded data removed]",
      "text/plain": [
       "<Figure size 432x288 with 1 Axes>"
      ]
     },
     "metadata": {
      "needs_background": "light"
     },
     "output_type": "display_data"
    }
   ],
   "source": [
    "# Дисклеймер: в питоне есть пакет statsmodels, который позволяет рассчитать \n",
    "# MDE, выборку и остальные параметры\n",
    "# в R тоже самое с пакетом pwr\n",
    "\n",
    "import pandas as pd\n",
    "import numpy as np\n",
    "import scipy.stats\n",
    "import matplotlib.pyplot as plt\n",
    "\n",
    "N = 2000\n",
    "n = int(N/2)\n",
    "mu = 50 \n",
    "lift = 1.1\n",
    "pwr = 0.8 \n",
    "alpha = 0.05\n",
    "sigma = 10\n",
    "mde = []\n",
    "\n",
    "# Объявим тестовые данные\n",
    "np.random.seed(1)\n",
    "pd_df = pd.DataFrame({\n",
    "    \"val\": np.concatenate([np.random.normal(mu, sigma, n), np.random.normal(mu*lift, sigma, n)]),\n",
    "    \"grp\": np.concatenate([np.repeat(\"c\",n),np.repeat(\"t\",n)])\n",
    "})\n",
    "pd_df = pd_df.sample(frac=1)\n",
    "\n",
    "# Кумулятивно считаем MDE в ходе эксперимента\n",
    "for i in range(10,len(pd_df)):\n",
    "    t = pd_df.iloc[:i, :]\n",
    "    df = len(t) - 2 # степени свободы\n",
    "    sd_t = np.std(t['val'][t['grp'] == 't'])\n",
    "    sd_c = np.std(t['val'][t['grp'] == 'c'])\n",
    "    n_t = len(t[t['grp'] == 't'])\n",
    "    n_c = len(t[t['grp'] == 'c'])\n",
    "    \n",
    "    y_c = np.mean(t['val'][t['grp'] == 'c'])\n",
    "    S = np.sqrt((sd_t**2 / n_t) + (sd_c**2 / n_c))\n",
    "    M = scipy.stats.t.ppf(pwr, df) - scipy.stats.t.ppf(alpha / 2, df)  # расчет квантилей t-распределения\n",
    "    \n",
    "    mde.append(M * S / y_c)\n",
    "    \n",
    "plt.plot(mde)\n",
    "plt.ylabel('mde')\n",
    "plt.show()"
   ]
  },
  {
   "cell_type": "code",
   "execution_count": null,
   "metadata": {},
   "outputs": [],
   "source": []
  }
 ],
 "metadata": {
  "kernelspec": {
   "display_name": "Python 3",
   "language": "python",
   "name": "python3"
  },
  "language_info": {
   "codemirror_mode": {
    "name": "ipython",
    "version": 3
   },
   "file_extension": ".py",
   "mimetype": "text/x-python",
   "name": "python",
   "nbconvert_exporter": "python",
   "pygments_lexer": "ipython3",
   "version": "3.8.8"
  }
 },
 "nbformat": 4,
 "nbformat_minor": 4
}
