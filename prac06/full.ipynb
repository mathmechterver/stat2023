{
 "cells": [
  {
   "cell_type": "markdown",
   "id": "6ac94269-202c-40ce-8337-5f88e5735060",
   "metadata": {},
   "source": [
    "# Bootstrap"
   ]
  },
  {
   "cell_type": "code",
   "execution_count": 4,
   "id": "1fade059-cabe-454a-a46e-c31ac126a248",
   "metadata": {},
   "outputs": [],
   "source": [
    "import numpy as np\n",
    "import pandas as pd\n",
    "import matplotlib.pyplot as plt"
   ]
  },
  {
   "cell_type": "code",
   "execution_count": 5,
   "id": "12538e8a-f4bf-4813-aa20-d07de722e4d7",
   "metadata": {},
   "outputs": [],
   "source": [
    "exp_data = np.random.exponential(size=100000)"
   ]
  },
  {
   "cell_type": "code",
   "execution_count": 9,
   "id": "ebdd76b9-07f3-4dcb-9570-f79851e5188d",
   "metadata": {},
   "outputs": [
    {
     "data": {
      "text/plain": [
       "array([0.23198841, 0.5075837 , 3.11556802, ..., 0.59099929, 0.20382062,\n",
       "       2.48561044])"
      ]
     },
     "execution_count": 9,
     "metadata": {},
     "output_type": "execute_result"
    }
   ],
   "source": [
    "exp_data"
   ]
  },
  {
   "cell_type": "code",
   "execution_count": null,
   "id": "a5e89c3c-2202-45cf-ae00-d8607036f487",
   "metadata": {},
   "outputs": [],
   "source": [
    "import plotly.express as px\n",
    "df = px.data.tips()\n",
    "fig = px.histogram(df, x=\"total_bill\")\n",
    "fig.show()"
   ]
  },
  {
   "cell_type": "code",
   "execution_count": 10,
   "id": "3c7f7a73-416c-4c31-a4ae-b4fe1335d133",
   "metadata": {},
   "outputs": [
    {
     "ename": "AttributeError",
     "evalue": "'numpy.ndarray' object has no attribute 'plot'",
     "output_type": "error",
     "traceback": [
      "\u001b[0;31m---------------------------------------------------------------------------\u001b[0m",
      "\u001b[0;31mAttributeError\u001b[0m                            Traceback (most recent call last)",
      "\u001b[0;32m<ipython-input-10-6ad5abf86a72>\u001b[0m in \u001b[0;36m<module>\u001b[0;34m\u001b[0m\n\u001b[0;32m----> 1\u001b[0;31m viz = exp_data.plot(kind='hist', \n\u001b[0m\u001b[1;32m      2\u001b[0m                           \u001b[0mcolor\u001b[0m\u001b[0;34m=\u001b[0m\u001b[0;34m\"grey\"\u001b[0m\u001b[0;34m,\u001b[0m\u001b[0;34m\u001b[0m\u001b[0;34m\u001b[0m\u001b[0m\n\u001b[1;32m      3\u001b[0m                           \u001b[0mbins\u001b[0m\u001b[0;34m=\u001b[0m\u001b[0;36m50\u001b[0m\u001b[0;34m,\u001b[0m\u001b[0;34m\u001b[0m\u001b[0;34m\u001b[0m\u001b[0m\n\u001b[1;32m      4\u001b[0m                           \u001b[0mdensity\u001b[0m\u001b[0;34m=\u001b[0m\u001b[0;32mTrue\u001b[0m\u001b[0;34m,\u001b[0m\u001b[0;34m\u001b[0m\u001b[0;34m\u001b[0m\u001b[0m\n\u001b[1;32m      5\u001b[0m                           figsize=(10,6))\n",
      "\u001b[0;31mAttributeError\u001b[0m: 'numpy.ndarray' object has no attribute 'plot'"
     ]
    }
   ],
   "source": [
    "viz = exp_data.plot(kind='hist', \n",
    "                    color=\"grey\", \n",
    "                    bins=50, \n",
    "                    density=True,\n",
    "                    figsize=(10,6))\n",
    "viz.set_xlabel(\"means\")\n",
    "viz.set_ylabel(\"density\")"
   ]
  },
  {
   "cell_type": "code",
   "execution_count": 3,
   "id": "54a91672-051a-444a-a557-b7edf477761b",
   "metadata": {},
   "outputs": [
    {
     "data": {
      "text/plain": [
       "array([2.51019977e-01, 2.04586988e+00, 2.31577965e-01, 2.50851402e+00,\n",
       "       6.70234080e-01, 9.46090010e-01, 1.45204047e+00, 7.30678736e-01,\n",
       "       3.52114646e-01, 2.07911683e-01, 8.41876606e-02, 1.34109271e+00,\n",
       "       5.82159130e-01, 1.72343346e-01, 2.11973893e+00, 3.20324365e-01,\n",
       "       5.34836626e-01, 3.51090470e-01, 9.90981706e-01, 8.67114476e-01,\n",
       "       9.16113739e-01, 3.08999847e-01, 3.35033505e-01, 2.92477828e-01,\n",
       "       3.96848262e-01, 1.55676861e-01, 1.81057789e-01, 3.32230845e+00,\n",
       "       3.22455983e+00, 2.08765729e-01, 2.46068419e-02, 2.28854259e-01,\n",
       "       1.20345165e+00, 1.51192373e+00, 2.32001466e-02, 8.61951370e-01,\n",
       "       1.64352256e-03, 7.24581321e-01, 1.02108245e+00, 4.24222315e+00,\n",
       "       2.99886371e-01, 1.62200092e+00, 2.04394380e+00, 2.56070337e+00,\n",
       "       2.21666753e-03, 6.33913402e-01, 3.98829611e+00, 5.09068508e-01,\n",
       "       1.68057135e+00, 7.90664089e-01])"
      ]
     },
     "execution_count": 3,
     "metadata": {},
     "output_type": "execute_result"
    }
   ],
   "source": [
    "population_data[:50]"
   ]
  },
  {
   "cell_type": "markdown",
   "id": "fb5c7391-a8e3-4a8c-a525-886339f072ea",
   "metadata": {},
   "source": [
    "Теперь возьмём 2000 выборок по 50 наблюдений и посчитаем в них среднее, чтобы получить распределение из 2000 средних "
   ]
  },
  {
   "cell_type": "code",
   "execution_count": 4,
   "id": "6af48ec5-d6e6-4f1a-acc6-290217159e76",
   "metadata": {},
   "outputs": [],
   "source": [
    "n = 50 # объём выборки"
   ]
  },
  {
   "cell_type": "markdown",
   "id": "5a1b07b8-5e2f-4ef2-a21b-b647e53a085e",
   "metadata": {},
   "source": [
    "Для удобства соберем матрицу из рандомных выборок из ГС размером 50"
   ]
  },
  {
   "cell_type": "code",
   "execution_count": 5,
   "id": "fba4d0a0-919d-4567-9f1d-04c2d4c6b12c",
   "metadata": {},
   "outputs": [],
   "source": [
    "n_rows = int(len(population_data)/n)\n",
    "samples_data = np.matrix([np.random.choice(population_data, size=n) for i in range(n_rows)])"
   ]
  },
  {
   "cell_type": "code",
   "execution_count": 6,
   "id": "c6edcd2f-dba7-446e-96fc-a40de56a0a25",
   "metadata": {},
   "outputs": [
    {
     "data": {
      "text/plain": [
       "(2000, 50)"
      ]
     },
     "execution_count": 6,
     "metadata": {},
     "output_type": "execute_result"
    }
   ],
   "source": [
    "samples_data.shape"
   ]
  },
  {
   "cell_type": "code",
   "execution_count": 7,
   "id": "2802fec5-4cf1-4c7b-99da-532b0be2d7cd",
   "metadata": {},
   "outputs": [
    {
     "data": {
      "text/html": [
       "<div>\n",
       "<style scoped>\n",
       "    .dataframe tbody tr th:only-of-type {\n",
       "        vertical-align: middle;\n",
       "    }\n",
       "\n",
       "    .dataframe tbody tr th {\n",
       "        vertical-align: top;\n",
       "    }\n",
       "\n",
       "    .dataframe thead th {\n",
       "        text-align: right;\n",
       "    }\n",
       "</style>\n",
       "<table border=\"1\" class=\"dataframe\">\n",
       "  <thead>\n",
       "    <tr style=\"text-align: right;\">\n",
       "      <th></th>\n",
       "      <th>0</th>\n",
       "      <th>1</th>\n",
       "      <th>2</th>\n",
       "      <th>3</th>\n",
       "      <th>4</th>\n",
       "      <th>5</th>\n",
       "      <th>6</th>\n",
       "      <th>7</th>\n",
       "      <th>8</th>\n",
       "      <th>9</th>\n",
       "      <th>...</th>\n",
       "      <th>40</th>\n",
       "      <th>41</th>\n",
       "      <th>42</th>\n",
       "      <th>43</th>\n",
       "      <th>44</th>\n",
       "      <th>45</th>\n",
       "      <th>46</th>\n",
       "      <th>47</th>\n",
       "      <th>48</th>\n",
       "      <th>49</th>\n",
       "    </tr>\n",
       "  </thead>\n",
       "  <tbody>\n",
       "    <tr>\n",
       "      <th>0</th>\n",
       "      <td>0.546820</td>\n",
       "      <td>0.030973</td>\n",
       "      <td>1.691875</td>\n",
       "      <td>0.275260</td>\n",
       "      <td>5.382071</td>\n",
       "      <td>1.363440</td>\n",
       "      <td>1.496238</td>\n",
       "      <td>0.179635</td>\n",
       "      <td>0.084198</td>\n",
       "      <td>0.192882</td>\n",
       "      <td>...</td>\n",
       "      <td>0.172275</td>\n",
       "      <td>1.549280</td>\n",
       "      <td>0.129879</td>\n",
       "      <td>3.462012</td>\n",
       "      <td>1.439712</td>\n",
       "      <td>0.815756</td>\n",
       "      <td>1.882568</td>\n",
       "      <td>0.093038</td>\n",
       "      <td>2.087777</td>\n",
       "      <td>0.790641</td>\n",
       "    </tr>\n",
       "    <tr>\n",
       "      <th>1</th>\n",
       "      <td>0.783076</td>\n",
       "      <td>1.216050</td>\n",
       "      <td>0.095799</td>\n",
       "      <td>1.514848</td>\n",
       "      <td>2.708712</td>\n",
       "      <td>0.998080</td>\n",
       "      <td>0.335536</td>\n",
       "      <td>0.148701</td>\n",
       "      <td>0.271368</td>\n",
       "      <td>0.600135</td>\n",
       "      <td>...</td>\n",
       "      <td>0.897769</td>\n",
       "      <td>2.516357</td>\n",
       "      <td>0.193461</td>\n",
       "      <td>1.508246</td>\n",
       "      <td>0.881194</td>\n",
       "      <td>2.336106</td>\n",
       "      <td>0.943423</td>\n",
       "      <td>2.231479</td>\n",
       "      <td>0.143796</td>\n",
       "      <td>0.998559</td>\n",
       "    </tr>\n",
       "    <tr>\n",
       "      <th>2</th>\n",
       "      <td>0.427969</td>\n",
       "      <td>0.079839</td>\n",
       "      <td>2.107683</td>\n",
       "      <td>0.330833</td>\n",
       "      <td>0.584049</td>\n",
       "      <td>1.251764</td>\n",
       "      <td>0.824719</td>\n",
       "      <td>0.401033</td>\n",
       "      <td>0.813011</td>\n",
       "      <td>0.016828</td>\n",
       "      <td>...</td>\n",
       "      <td>0.144868</td>\n",
       "      <td>0.359973</td>\n",
       "      <td>0.301601</td>\n",
       "      <td>2.134367</td>\n",
       "      <td>1.857827</td>\n",
       "      <td>4.015557</td>\n",
       "      <td>0.008156</td>\n",
       "      <td>0.038201</td>\n",
       "      <td>3.554776</td>\n",
       "      <td>0.143861</td>\n",
       "    </tr>\n",
       "    <tr>\n",
       "      <th>3</th>\n",
       "      <td>0.016945</td>\n",
       "      <td>0.198845</td>\n",
       "      <td>3.022242</td>\n",
       "      <td>0.727668</td>\n",
       "      <td>0.877756</td>\n",
       "      <td>0.314948</td>\n",
       "      <td>1.105402</td>\n",
       "      <td>2.318593</td>\n",
       "      <td>0.259139</td>\n",
       "      <td>0.694447</td>\n",
       "      <td>...</td>\n",
       "      <td>0.218073</td>\n",
       "      <td>0.715184</td>\n",
       "      <td>2.200124</td>\n",
       "      <td>0.381138</td>\n",
       "      <td>0.680963</td>\n",
       "      <td>0.212398</td>\n",
       "      <td>0.017268</td>\n",
       "      <td>1.168087</td>\n",
       "      <td>0.174537</td>\n",
       "      <td>1.004237</td>\n",
       "    </tr>\n",
       "    <tr>\n",
       "      <th>4</th>\n",
       "      <td>0.662322</td>\n",
       "      <td>0.116940</td>\n",
       "      <td>0.470133</td>\n",
       "      <td>0.318679</td>\n",
       "      <td>0.596168</td>\n",
       "      <td>5.993099</td>\n",
       "      <td>0.443646</td>\n",
       "      <td>1.164510</td>\n",
       "      <td>1.384221</td>\n",
       "      <td>0.182669</td>\n",
       "      <td>...</td>\n",
       "      <td>0.510562</td>\n",
       "      <td>0.355759</td>\n",
       "      <td>0.838578</td>\n",
       "      <td>0.083814</td>\n",
       "      <td>0.223933</td>\n",
       "      <td>0.481749</td>\n",
       "      <td>0.653260</td>\n",
       "      <td>2.182331</td>\n",
       "      <td>0.225690</td>\n",
       "      <td>2.306122</td>\n",
       "    </tr>\n",
       "  </tbody>\n",
       "</table>\n",
       "<p>5 rows × 50 columns</p>\n",
       "</div>"
      ],
      "text/plain": [
       "         0         1         2         3         4         5         6   \\\n",
       "0  0.546820  0.030973  1.691875  0.275260  5.382071  1.363440  1.496238   \n",
       "1  0.783076  1.216050  0.095799  1.514848  2.708712  0.998080  0.335536   \n",
       "2  0.427969  0.079839  2.107683  0.330833  0.584049  1.251764  0.824719   \n",
       "3  0.016945  0.198845  3.022242  0.727668  0.877756  0.314948  1.105402   \n",
       "4  0.662322  0.116940  0.470133  0.318679  0.596168  5.993099  0.443646   \n",
       "\n",
       "         7         8         9   ...        40        41        42        43  \\\n",
       "0  0.179635  0.084198  0.192882  ...  0.172275  1.549280  0.129879  3.462012   \n",
       "1  0.148701  0.271368  0.600135  ...  0.897769  2.516357  0.193461  1.508246   \n",
       "2  0.401033  0.813011  0.016828  ...  0.144868  0.359973  0.301601  2.134367   \n",
       "3  2.318593  0.259139  0.694447  ...  0.218073  0.715184  2.200124  0.381138   \n",
       "4  1.164510  1.384221  0.182669  ...  0.510562  0.355759  0.838578  0.083814   \n",
       "\n",
       "         44        45        46        47        48        49  \n",
       "0  1.439712  0.815756  1.882568  0.093038  2.087777  0.790641  \n",
       "1  0.881194  2.336106  0.943423  2.231479  0.143796  0.998559  \n",
       "2  1.857827  4.015557  0.008156  0.038201  3.554776  0.143861  \n",
       "3  0.680963  0.212398  0.017268  1.168087  0.174537  1.004237  \n",
       "4  0.223933  0.481749  0.653260  2.182331  0.225690  2.306122  \n",
       "\n",
       "[5 rows x 50 columns]"
      ]
     },
     "execution_count": 7,
     "metadata": {},
     "output_type": "execute_result"
    }
   ],
   "source": [
    "samples_data = pd.DataFrame(samples_data)\n",
    "samples_data.head()"
   ]
  },
  {
   "cell_type": "markdown",
   "id": "6cf66ea2-fda2-42af-9444-203047f35abe",
   "metadata": {},
   "source": [
    "Cчитаем выборочные средние по каждой строчке (= выборке)"
   ]
  },
  {
   "cell_type": "code",
   "execution_count": 8,
   "id": "81ae91c9-d0f5-45ec-9d29-88b3c0e7bfe8",
   "metadata": {},
   "outputs": [
    {
     "data": {
      "text/html": [
       "<div>\n",
       "<style scoped>\n",
       "    .dataframe tbody tr th:only-of-type {\n",
       "        vertical-align: middle;\n",
       "    }\n",
       "\n",
       "    .dataframe tbody tr th {\n",
       "        vertical-align: top;\n",
       "    }\n",
       "\n",
       "    .dataframe thead th {\n",
       "        text-align: right;\n",
       "    }\n",
       "</style>\n",
       "<table border=\"1\" class=\"dataframe\">\n",
       "  <thead>\n",
       "    <tr style=\"text-align: right;\">\n",
       "      <th></th>\n",
       "      <th>means</th>\n",
       "    </tr>\n",
       "  </thead>\n",
       "  <tbody>\n",
       "    <tr>\n",
       "      <th>0</th>\n",
       "      <td>1.237917</td>\n",
       "    </tr>\n",
       "    <tr>\n",
       "      <th>1</th>\n",
       "      <td>1.017874</td>\n",
       "    </tr>\n",
       "    <tr>\n",
       "      <th>2</th>\n",
       "      <td>0.969454</td>\n",
       "    </tr>\n",
       "    <tr>\n",
       "      <th>3</th>\n",
       "      <td>0.785387</td>\n",
       "    </tr>\n",
       "    <tr>\n",
       "      <th>4</th>\n",
       "      <td>0.815924</td>\n",
       "    </tr>\n",
       "    <tr>\n",
       "      <th>...</th>\n",
       "      <td>...</td>\n",
       "    </tr>\n",
       "    <tr>\n",
       "      <th>1995</th>\n",
       "      <td>0.920607</td>\n",
       "    </tr>\n",
       "    <tr>\n",
       "      <th>1996</th>\n",
       "      <td>1.098931</td>\n",
       "    </tr>\n",
       "    <tr>\n",
       "      <th>1997</th>\n",
       "      <td>0.844087</td>\n",
       "    </tr>\n",
       "    <tr>\n",
       "      <th>1998</th>\n",
       "      <td>0.818615</td>\n",
       "    </tr>\n",
       "    <tr>\n",
       "      <th>1999</th>\n",
       "      <td>1.110369</td>\n",
       "    </tr>\n",
       "  </tbody>\n",
       "</table>\n",
       "<p>2000 rows × 1 columns</p>\n",
       "</div>"
      ],
      "text/plain": [
       "         means\n",
       "0     1.237917\n",
       "1     1.017874\n",
       "2     0.969454\n",
       "3     0.785387\n",
       "4     0.815924\n",
       "...        ...\n",
       "1995  0.920607\n",
       "1996  1.098931\n",
       "1997  0.844087\n",
       "1998  0.818615\n",
       "1999  1.110369\n",
       "\n",
       "[2000 rows x 1 columns]"
      ]
     },
     "execution_count": 8,
     "metadata": {},
     "output_type": "execute_result"
    }
   ],
   "source": [
    "means = samples_data.mean(axis=1)\n",
    "\n",
    "sample_means = pd.DataFrame({'means': means})\n",
    "sample_means"
   ]
  },
  {
   "cell_type": "markdown",
   "id": "bebc9334-bf3a-4f8c-9676-5d77d51012a3",
   "metadata": {},
   "source": [
    "## Визуализируем\n",
    "\n",
    "Согласно ЦПТ, средние выборок, взятые из ГС будут распределены нормально и их среднее будет примерно таким же, как мат. ожидание ГС"
   ]
  },
  {
   "cell_type": "code",
   "execution_count": 9,
   "id": "d1675c9c-7d6b-4f5b-88a8-837197a51431",
   "metadata": {},
   "outputs": [
    {
     "data": {
      "text/plain": [
       "Text(0, 0.5, 'density')"
      ]
     },
     "execution_count": 9,
     "metadata": {},
     "output_type": "execute_result"
    },
    {
     "data": {
      "image/png": "[encoded data removed]",
      "text/plain": [
       "<Figure size 720x432 with 1 Axes>"
      ]
     },
     "metadata": {},
     "output_type": "display_data"
    }
   ],
   "source": [
    "viz = sample_means.means.plot(kind='hist', \n",
    "                                color=\"grey\", \n",
    "                                bins=50, \n",
    "                                density=True,\n",
    "                                figsize=(10,6))\n",
    "viz.set_xlabel(\"means\")\n",
    "viz.set_ylabel(\"density\")"
   ]
  },
  {
   "cell_type": "code",
   "execution_count": 10,
   "id": "a40b7670-9e1a-489d-8d4b-714c11cbd36b",
   "metadata": {},
   "outputs": [
    {
     "data": {
      "text/plain": [
       "True"
      ]
     },
     "execution_count": 10,
     "metadata": {},
     "output_type": "execute_result"
    }
   ],
   "source": [
    "# И да, действительно средние равны\n",
    "round(np.mean(sample_means.means),1) == round(np.mean(population_data),1)"
   ]
  },
  {
   "cell_type": "code",
   "execution_count": 11,
   "id": "30d6c0ad-8fef-438e-b696-bb218dc36c65",
   "metadata": {},
   "outputs": [
    {
     "data": {
      "text/plain": [
       "1.002235965206635"
      ]
     },
     "execution_count": 11,
     "metadata": {},
     "output_type": "execute_result"
    }
   ],
   "source": [
    "np.mean(sample_means.means)"
   ]
  },
  {
   "cell_type": "code",
   "execution_count": 12,
   "id": "a9393049-7df0-4566-a4a3-d221ea71ac0f",
   "metadata": {},
   "outputs": [
    {
     "data": {
      "text/plain": [
       "1.0029708894298444"
      ]
     },
     "execution_count": 12,
     "metadata": {},
     "output_type": "execute_result"
    }
   ],
   "source": [
    "np.mean(population_data)"
   ]
  }
 ],
 "metadata": {
  "kernelspec": {
   "display_name": "Python 3",
   "language": "python",
   "name": "python3"
  },
  "language_info": {
   "codemirror_mode": {
    "name": "ipython",
    "version": 3
   },
   "file_extension": ".py",
   "mimetype": "text/x-python",
   "name": "python",
   "nbconvert_exporter": "python",
   "pygments_lexer": "ipython3",
   "version": "3.8.8"
  }
 },
 "nbformat": 4,
 "nbformat_minor": 5
}
