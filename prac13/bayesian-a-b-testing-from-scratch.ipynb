{
 "cells": [
  {
   "cell_type": "markdown",
   "metadata": {},
   "source": [
    "# A/B Testing from Scratch: Bayesian Approach"
   ]
  },
  {
   "cell_type": "markdown",
   "metadata": {},
   "source": [
    "We reuse the simple problem of comparing two online ads campaigns (or teatments, user interfaces or slot machines). We details how Bayesian A/B test is conducted and highlights the differences between it and the frequentist approaches. Readers are encouraged to tinker with the widgets provided in order to explore the impacts of each parameter."
   ]
  },
  {
   "cell_type": "code",
   "execution_count": 1,
   "metadata": {},
   "outputs": [],
   "source": [
    "import numpy as np\n",
    "import pandas as pd\n",
    "\n",
    "#widgets\n",
    "from ipywidgets import interact, interactive, fixed, interact_manual\n",
    "import ipywidgets as widgets\n",
    "from IPython.display import display\n",
    "\n",
    "#plots\n",
    "import matplotlib.pyplot as plt\n",
    "from plotnine import *\n",
    "from mizani import *\n",
    "\n",
    "#stats\n",
    "import scipy as sp\n",
    "import statsmodels as sm\n",
    "\n",
    "import warnings\n",
    "warnings.filterwarnings('ignore')\n",
    "import collections"
   ]
  },
  {
   "cell_type": "markdown",
   "metadata": {},
   "source": [
    "## Start with A Problem"
   ]
  },
  {
   "cell_type": "markdown",
   "metadata": {},
   "source": [
    "A typical situation marketers (research physicians, UX researchers, or gamblers) find themselves in is that they have two variations of ads (treatments, user interfaces, or slot machines) and want to find out which one has the better performance in the long run.\n",
    "\n",
    "Practitioners know this as A/B testing and statisticians as **hypothesis testing**. Consider the following problem. We are running an online ads campaign `A` for a period of time, but now we think a new ads variation might work better so we run an experiemnt by dividing our audience in half: one sees the existing campaign `A` whereas the other sees a new campaign `B`. Our performance metric is conversion (sales) per click (ignore [ads attribution problem](https://support.google.com/analytics/answer/1662518) for now). After the experiment ran for two months, we obtain daily clicks and conversions of each campaign and determine which campaign has the better performance.\n",
    "\n",
    "We simulate the aforementioned problem with both campaigns getting randomly about a thousand clicks per day. The secrete we will pretend to not know is that hypothetical campaign `B` has slightly better conversion rate than `A` in the long run (10.5% vs 10%). With this synthetic data, we will explore some useful statistical concepts and exploit them for our frequentist A/B testing."
   ]
  },
  {
   "cell_type": "code",
   "execution_count": 2,
   "metadata": {},
   "outputs": [
    {
     "data": {
      "text/html": [
       "<div>\n",
       "<style scoped>\n",
       "    .dataframe tbody tr th:only-of-type {\n",
       "        vertical-align: middle;\n",
       "    }\n",
       "\n",
       "    .dataframe tbody tr th {\n",
       "        vertical-align: top;\n",
       "    }\n",
       "\n",
       "    .dataframe thead th {\n",
       "        text-align: right;\n",
       "    }\n",
       "</style>\n",
       "<table border=\"1\" class=\"dataframe\">\n",
       "  <thead>\n",
       "    <tr style=\"text-align: right;\">\n",
       "      <th></th>\n",
       "      <th>click_day</th>\n",
       "      <th>click_a</th>\n",
       "      <th>click_b</th>\n",
       "      <th>conv_a</th>\n",
       "      <th>conv_b</th>\n",
       "      <th>cumu_click_a</th>\n",
       "      <th>cumu_click_b</th>\n",
       "      <th>cumu_conv_a</th>\n",
       "      <th>cumu_conv_b</th>\n",
       "      <th>cumu_rate_a</th>\n",
       "      <th>cumu_rate_b</th>\n",
       "    </tr>\n",
       "  </thead>\n",
       "  <tbody>\n",
       "    <tr>\n",
       "      <th>0</th>\n",
       "      <td>0</td>\n",
       "      <td>125</td>\n",
       "      <td>87</td>\n",
       "      <td>12</td>\n",
       "      <td>9</td>\n",
       "      <td>125</td>\n",
       "      <td>87</td>\n",
       "      <td>12</td>\n",
       "      <td>9</td>\n",
       "      <td>0.096000</td>\n",
       "      <td>0.103448</td>\n",
       "    </tr>\n",
       "    <tr>\n",
       "      <th>1</th>\n",
       "      <td>1</td>\n",
       "      <td>114</td>\n",
       "      <td>86</td>\n",
       "      <td>11</td>\n",
       "      <td>9</td>\n",
       "      <td>239</td>\n",
       "      <td>173</td>\n",
       "      <td>23</td>\n",
       "      <td>18</td>\n",
       "      <td>0.096234</td>\n",
       "      <td>0.104046</td>\n",
       "    </tr>\n",
       "    <tr>\n",
       "      <th>2</th>\n",
       "      <td>2</td>\n",
       "      <td>67</td>\n",
       "      <td>91</td>\n",
       "      <td>6</td>\n",
       "      <td>9</td>\n",
       "      <td>306</td>\n",
       "      <td>264</td>\n",
       "      <td>29</td>\n",
       "      <td>27</td>\n",
       "      <td>0.094771</td>\n",
       "      <td>0.102273</td>\n",
       "    </tr>\n",
       "    <tr>\n",
       "      <th>3</th>\n",
       "      <td>3</td>\n",
       "      <td>96</td>\n",
       "      <td>103</td>\n",
       "      <td>9</td>\n",
       "      <td>10</td>\n",
       "      <td>402</td>\n",
       "      <td>367</td>\n",
       "      <td>38</td>\n",
       "      <td>37</td>\n",
       "      <td>0.094527</td>\n",
       "      <td>0.100817</td>\n",
       "    </tr>\n",
       "    <tr>\n",
       "      <th>4</th>\n",
       "      <td>4</td>\n",
       "      <td>89</td>\n",
       "      <td>125</td>\n",
       "      <td>9</td>\n",
       "      <td>13</td>\n",
       "      <td>491</td>\n",
       "      <td>492</td>\n",
       "      <td>47</td>\n",
       "      <td>50</td>\n",
       "      <td>0.095723</td>\n",
       "      <td>0.101626</td>\n",
       "    </tr>\n",
       "  </tbody>\n",
       "</table>\n",
       "</div>"
      ],
      "text/plain": [
       "   click_day  click_a     ...       cumu_rate_a  cumu_rate_b\n",
       "0          0      125     ...          0.096000     0.103448\n",
       "1          1      114     ...          0.096234     0.104046\n",
       "2          2       67     ...          0.094771     0.102273\n",
       "3          3       96     ...          0.094527     0.100817\n",
       "4          4       89     ...          0.095723     0.101626\n",
       "\n",
       "[5 rows x 11 columns]"
      ]
     },
     "execution_count": 2,
     "metadata": {},
     "output_type": "execute_result"
    }
   ],
   "source": [
    "def gen_campaigns(p1,p2,nb_days,scaler,seed):\n",
    "    #generate fake data\n",
    "    np.random.seed(seed)\n",
    "    ns = np.random.triangular(50,100,150,size=nb_days*2).astype(int)\n",
    "    np.random.seed(seed)\n",
    "    es = np.random.randn(nb_days*2) / scaler\n",
    "\n",
    "    n1 = ns[:nb_days]\n",
    "    c1 = ((p1 + es[:nb_days]) * n1).astype(int)\n",
    "    n2 = ns[nb_days:]\n",
    "    c2 = ((p2 + es[nb_days:]) * n2).astype(int)\n",
    "    conv_days = pd.DataFrame({'click_day':range(nb_days),'click_a':n1,'conv_a':c1,'click_b':n2,'conv_b':c2})\n",
    "\n",
    "    conv_days =  conv_days[['click_day','click_a','click_b','conv_a','conv_b']]\n",
    "    conv_days['cumu_click_a'] = conv_days.click_a.cumsum()\n",
    "    conv_days['cumu_click_b'] = conv_days.click_b.cumsum()\n",
    "    conv_days['cumu_conv_a'] = conv_days.conv_a.cumsum()\n",
    "    conv_days['cumu_conv_b'] = conv_days.conv_b.cumsum()\n",
    "    conv_days['cumu_rate_a'] = conv_days.cumu_conv_a / conv_days.cumu_click_a\n",
    "    conv_days['cumu_rate_b'] = conv_days.cumu_conv_b / conv_days.cumu_click_b\n",
    "    return conv_days\n",
    "\n",
    "conv_days = gen_campaigns(p1 = 0.10,\n",
    "                          p2 = 0.105,\n",
    "                          nb_days = 24,\n",
    "                          scaler=300,\n",
    "                          seed = 1412) #god-mode \n",
    "conv_days.head()"
   ]
  },
  {
   "cell_type": "code",
   "execution_count": 3,
   "metadata": {},
   "outputs": [
    {
     "data": {
      "image/png": "[encoded data removed]",
      "text/plain": [
       "<Figure size 640x480 with 1 Axes>"
      ]
     },
     "metadata": {
      "needs_background": "light"
     },
     "output_type": "display_data"
    },
    {
     "data": {
      "text/plain": [
       "<ggplot: (-9223363244205561505)>"
      ]
     },
     "execution_count": 3,
     "metadata": {},
     "output_type": "execute_result"
    }
   ],
   "source": [
    "rates_df = conv_days[['click_day','cumu_rate_a','cumu_rate_b']].melt(id_vars='click_day')\n",
    "g = (ggplot(rates_df, aes(x='click_day', y='value', color='variable')) + geom_line() + theme_minimal() +\n",
    "          xlab('Hours of Experiment Run') + ylab('Cumulative Conversions / Cumulative Clicks'))\n",
    "g"
   ]
  },
  {
   "cell_type": "code",
   "execution_count": 4,
   "metadata": {},
   "outputs": [
    {
     "data": {
      "text/html": [
       "<div>\n",
       "<style scoped>\n",
       "    .dataframe tbody tr th:only-of-type {\n",
       "        vertical-align: middle;\n",
       "    }\n",
       "\n",
       "    .dataframe tbody tr th {\n",
       "        vertical-align: top;\n",
       "    }\n",
       "\n",
       "    .dataframe thead th {\n",
       "        text-align: right;\n",
       "    }\n",
       "</style>\n",
       "<table border=\"1\" class=\"dataframe\">\n",
       "  <thead>\n",
       "    <tr style=\"text-align: right;\">\n",
       "      <th></th>\n",
       "      <th>campaign_id</th>\n",
       "      <th>clicks</th>\n",
       "      <th>conv_cnt</th>\n",
       "      <th>conv_per</th>\n",
       "    </tr>\n",
       "  </thead>\n",
       "  <tbody>\n",
       "    <tr>\n",
       "      <th>0</th>\n",
       "      <td>A</td>\n",
       "      <td>2488</td>\n",
       "      <td>234</td>\n",
       "      <td>0.094051</td>\n",
       "    </tr>\n",
       "    <tr>\n",
       "      <th>1</th>\n",
       "      <td>B</td>\n",
       "      <td>2209</td>\n",
       "      <td>222</td>\n",
       "      <td>0.100498</td>\n",
       "    </tr>\n",
       "  </tbody>\n",
       "</table>\n",
       "</div>"
      ],
      "text/plain": [
       "  campaign_id  clicks  conv_cnt  conv_per\n",
       "0           A    2488       234  0.094051\n",
       "1           B    2209       222  0.100498"
      ]
     },
     "execution_count": 4,
     "metadata": {},
     "output_type": "execute_result"
    }
   ],
   "source": [
    "#sum after 2 months\n",
    "conv_df = pd.DataFrame({'campaign_id':['A','B'], 'clicks':[conv_days.click_a.sum(),conv_days.click_b.sum()],\n",
    "                        'conv_cnt':[conv_days.conv_a.sum(),conv_days.conv_b.sum()]})\n",
    "conv_df['conv_per'] =  conv_df['conv_cnt'] / conv_df['clicks']\n",
    "conv_df"
   ]
  },
  {
   "cell_type": "markdown",
   "metadata": {},
   "source": [
    "## Think Like A Bayesian"
   ]
  },
  {
   "cell_type": "markdown",
   "metadata": {},
   "source": [
    "The core idea of Bayesian A/B testing is to formulate a posterior distribution for each variation. Recall that frequentist approach does not do this; it instead first assume a null hypothesis that there is no difference between the variations and see the data to determine the false positive rate. The advantage is that we can have hypotheses directly about the true values we are interested in such as the conversion rate for each variation. The cost is that now we cannot leverate central limit theorem to assume normal distribution for our hypotheses; instead we need to construct our own distributions, called **posterior distriubtion**, using Bayes' Rule:\n",
    "\n",
    "\\begin{align}\n",
    "P(H|D) &= \\frac{P(H \\cap D)}{P(D)} \\\\\n",
    "&= \\frac{P(D|H)P(H)}{P(D)} \\text{; chain rule of probability}\\\\ \n",
    "& = \\frac{P(D|H)P(H)}{\\sum_{j=1}^k P(D|H_j)P(H_j)} \\text{; summing over all possible hypotheses}\n",
    "\\end{align}\n",
    "where $H$ is the hypothesis or model and $D$ is the data or evidence\n",
    "\n",
    "* $P(H|D)$ is the probability of the hypothesis being true given the observed data, called the **posterior**. This is the distribution we use to estimate the true values such as true conversion rates in the Bayesian approach.\n",
    "* $P(D|H)$ is the probability of seeing the data given that the hypothesis is true, called the **likelihood**, this is similar to p-value of rejection of the null hypothesis under frequentist approach.\n",
    "* $P(H)$ is the probability of the hypothesis being true aka our belief in the hypothesis, called the **prior**. Refer to a table of [conjugate priors](https://en.wikipedia.org/wiki/Conjugate_prior) to choose the suitable prior for your posterior and likelihood.\n",
    "* $P(D)$ is the probability of the data being present, called the **evidence**. "
   ]
  },
  {
   "cell_type": "markdown",
   "metadata": {},
   "source": [
    "## Derive The Posterior Distribution"
   ]
  },
  {
   "cell_type": "markdown",
   "metadata": {},
   "source": [
    "In our case, the likelihood that we would see this set of clicks and conversions data given that the true conversion rate is `p` can be described as the probability mass function of a Bernouilli distribution:\n",
    "\n",
    "\\begin{align}\n",
    "P(D|H) &= \\prod_{i=1}^{n} p^{x_i} (1-p)^{1-x_i} \\\\\n",
    "&= p^{\\sum_{i=1}^{n} x_i} (1-p)^{\\sum_{i=1}^{n} (1-x_i)}\n",
    "\\end{align}\n",
    "\n",
    "where $x_i$ is the binary flag for conversion and `p` is the true conversion rate by the hypothesis $H$.\n",
    "\n",
    "The prior is a beta distribution with the following probability density function:\n",
    "\n",
    "\\begin{align}\n",
    "P(H) &= \\frac{p^{\\alpha-1} (1-p)^{\\beta-1}}{B(\\alpha,\\beta)} \n",
    "\\end{align}\n",
    "\n",
    "where $\\alpha$ and $\\beta$ are hyperparameters correlated with number of successes and failures respectively, and $B(\\alpha, \\beta)$ is the beta function to normalize the distribution to be between 0 and 1. Intuitively, the beta distribution is shaped by the number of successes and failures initialized by $\\alpha$ and $\\beta$; moreover, higher number means we are more certain about our distribution thus resulting in less variance:"
   ]
  },
  {
   "cell_type": "code",
   "execution_count": 5,
   "metadata": {},
   "outputs": [
    {
     "data": {
      "image/png": "[encoded data removed]",
      "text/plain": [
       "<Figure size 640x480 with 1 Axes>"
      ]
     },
     "metadata": {
      "needs_background": "light"
     },
     "output_type": "display_data"
    },
    {
     "data": {
      "text/plain": [
       "<ggplot: (-9223363244214434167)>"
      ]
     },
     "execution_count": 5,
     "metadata": {},
     "output_type": "execute_result"
    }
   ],
   "source": [
    "beta_df = pd.DataFrame({'x': [i/100 for i in range(100)],\n",
    "                        '1_1': [sp.stats.beta.pdf(i/100, a=1,b=1) for i in range(100)],\n",
    "                        '2_3': [sp.stats.beta.pdf(i/100, a=2,b=3) for i in range(100)],\n",
    "                        '4_6': [sp.stats.beta.pdf(i/100, a=4,b=6) for i in range(100)],\n",
    "                        '20_30': [sp.stats.beta.pdf(i/100, a=20,b=30) for i in range(100)],\n",
    "                       }).melt(id_vars='x')\n",
    "g = (ggplot(beta_df,aes(x='x',y='value',color='variable')) +\n",
    "     geom_line() + theme_minimal() +\n",
    "     xlab('Values') + ylab('Probability Density')\n",
    "    )\n",
    "g"
   ]
  },
  {
   "cell_type": "markdown",
   "metadata": {},
   "source": [
    "Here we notice that the evidence $P(D)$ and the normalizing factor $B(\\alpha, \\beta)$ are constants in regards to our hypothesis so we can bypass them and consider that our posterior distribution is proportional to:\n",
    "\n",
    "\\begin{align}\n",
    "P(H|D) &\\propto \\left( p^{\\sum_{i=1}^{n} x_i} (1-p)^{\\sum_{i=1}^{n} (1-x_i)} \\right) \\left(p^{\\alpha-1} (1-p)^{\\beta-1} \\right) \\\\\n",
    "&\\propto p^{\\alpha + \\sum_{i=1}^{n} x_i - 1} (1-p)^{\\beta + \\sum_{i=1}^{n} (1-x_i) -1}\n",
    "\\end{align}\n",
    "\n",
    "We can see that our resulting terms are equivalent to an unnormalized beta distribution. Thus, by normalizing it, we can get a beta distribution as our posterior:\n",
    "\n",
    "\\begin{align}\n",
    "P(H|D) &\\propto p^{\\alpha + \\sum_{i=1}^{n} x_i - 1} (1-p)^{\\beta + \\sum_{i=1}^{n} (1-x_i) -1} \\\\\n",
    "&= \\frac{p^{\\alpha + \\sum_{i=1}^{n} x_i - 1} (1-p)^{\\beta + \\sum_{i=1}^{n} (1-x_i) -1}}{B(\\alpha + \\sum_{i=1}^{n} x_i, \\beta + \\sum_{i=1}^{n} (1-x_i))} \\\\\n",
    "&= Beta(\\alpha + \\text{number of conversions}, \\beta + \\text{number of non-conversions})\n",
    "\\end{align}"
   ]
  },
  {
   "cell_type": "markdown",
   "metadata": {},
   "source": [
    "## Choose The Right Prior"
   ]
  },
  {
   "cell_type": "markdown",
   "metadata": {},
   "source": [
    "We can see that for events that acts like a Bernoulli trial the posterior distribution takes a very convenient form. What we need to do is simply choose a reasonable set of $\\alpha$ and $\\beta$ for the prior. This is where our assumption factors into a Bayesian A/B test. One way is to set the prior based on past campaign performance; for instance, if we have run this type of campaign and had the average conversion rate of 10%, we can scale the prior according to how certain we are about the conversion rates. Note that different priors can represent 10%, for instance $Beta(1,9)$ and $Beta(10,90)$, but at different level of certainty. See how $Beta(10,90)$ is more pointy around 10% than $Beta(1,9)$."
   ]
  },
  {
   "cell_type": "code",
   "execution_count": 6,
   "metadata": {},
   "outputs": [
    {
     "data": {
      "image/png": "[encoded data removed]",
      "text/plain": [
       "<Figure size 640x480 with 1 Axes>"
      ]
     },
     "metadata": {
      "needs_background": "light"
     },
     "output_type": "display_data"
    },
    {
     "data": {
      "text/plain": [
       "<ggplot: (-9223363244218159893)>"
      ]
     },
     "metadata": {},
     "output_type": "display_data"
    },
    {
     "data": {
      "text/plain": [
       "<function __main__.plot_beta(a=1, b=9, scaler=1)>"
      ]
     },
     "execution_count": 6,
     "metadata": {},
     "output_type": "execute_result"
    }
   ],
   "source": [
    "def plot_beta(a=1,b=9,scaler=1):\n",
    "    beta_df = pd.DataFrame({'x': [i/100 for i in range(100)],\n",
    "                           'value': [sp.stats.beta.pdf(i/100, a=a*scaler,b=b*scaler) for i in range(100)]})\n",
    "    g = (ggplot(beta_df,aes(x='x',y='value')) +\n",
    "         geom_line() + theme_minimal() +\n",
    "         xlab('Values') + ylab('Probability Density') +\n",
    "         ggtitle(f'alpha = {a*scaler}; beta={b*scaler}') \n",
    "        )\n",
    "    return g\n",
    "\n",
    "widgets.interact(plot_beta, \n",
    "                 a=widgets.IntSlider(min=1,max=100,step=1,value=1),\n",
    "                 b=widgets.IntSlider(min=1,max=100,step=1,value=9),\n",
    "                 scaler=widgets.FloatSlider(min=0.1,max=100,step=0.5,value=1))"
   ]
  },
  {
   "cell_type": "code",
   "execution_count": 7,
   "metadata": {},
   "outputs": [
    {
     "data": {
      "text/html": [
       "<div>\n",
       "<style scoped>\n",
       "    .dataframe tbody tr th:only-of-type {\n",
       "        vertical-align: middle;\n",
       "    }\n",
       "\n",
       "    .dataframe tbody tr th {\n",
       "        vertical-align: top;\n",
       "    }\n",
       "\n",
       "    .dataframe thead th {\n",
       "        text-align: right;\n",
       "    }\n",
       "</style>\n",
       "<table border=\"1\" class=\"dataframe\">\n",
       "  <thead>\n",
       "    <tr style=\"text-align: right;\">\n",
       "      <th></th>\n",
       "      <th>campaign_id</th>\n",
       "      <th>clicks</th>\n",
       "      <th>conv_cnt</th>\n",
       "      <th>conv_per</th>\n",
       "    </tr>\n",
       "  </thead>\n",
       "  <tbody>\n",
       "    <tr>\n",
       "      <th>0</th>\n",
       "      <td>A</td>\n",
       "      <td>2488</td>\n",
       "      <td>234</td>\n",
       "      <td>0.094051</td>\n",
       "    </tr>\n",
       "    <tr>\n",
       "      <th>1</th>\n",
       "      <td>B</td>\n",
       "      <td>2209</td>\n",
       "      <td>222</td>\n",
       "      <td>0.100498</td>\n",
       "    </tr>\n",
       "  </tbody>\n",
       "</table>\n",
       "</div>"
      ],
      "text/plain": [
       "  campaign_id  clicks  conv_cnt  conv_per\n",
       "0           A    2488       234  0.094051\n",
       "1           B    2209       222  0.100498"
      ]
     },
     "execution_count": 7,
     "metadata": {},
     "output_type": "execute_result"
    }
   ],
   "source": [
    "conv_df"
   ]
  },
  {
   "cell_type": "markdown",
   "metadata": {},
   "source": [
    "Depending on what we choose as our priors for `A` and `B`, we can derive their posterior distributions as follows. Note that the prior has an impact on the certainty about the values of the posterior (pointiness) and the expected values of the posterior themselves. For instance, even if your observed conversion rate is around 10%, if you gives an absurdly strong prior like $Beta(999,1)$, implying 99.9% conversion rate, your posteriors' expectations can be around 30%."
   ]
  },
  {
   "cell_type": "code",
   "execution_count": 8,
   "metadata": {},
   "outputs": [
    {
     "data": {
      "image/png": "[encoded data removed]",
      "text/plain": [
       "<Figure size 640x480 with 1 Axes>"
      ]
     },
     "metadata": {
      "needs_background": "light"
     },
     "output_type": "display_data"
    },
    {
     "data": {
      "text/plain": [
       "<ggplot: (8792636533403)>"
      ]
     },
     "metadata": {},
     "output_type": "display_data"
    },
    {
     "data": {
      "text/plain": [
       "<function __main__.plot_posterior(clicks, conv_cnt, a=1, b=1, scaler=1)>"
      ]
     },
     "execution_count": 8,
     "metadata": {},
     "output_type": "execute_result"
    }
   ],
   "source": [
    "def plot_posterior(clicks, conv_cnt, a = 1, b = 1, scaler=1):\n",
    "    beta_df = pd.DataFrame({'x': [i/100 for i in range(100)]})\n",
    "    if not isinstance(a, collections.MutableSequence):\n",
    "        a = [a for i in range(len(clicks))]\n",
    "        b = [b for i in range(len(clicks))]\n",
    "    for v in range(len(clicks)):\n",
    "        beta_df[f'value_{v}'] = [sp.stats.beta.pdf(i/100, a=a[v]*scaler + conv_cnt[v], \\\n",
    "                                 b=b[v]*scaler + clicks[v] - conv_cnt[v]) for i in range(100)]\n",
    "    beta_df = beta_df.melt(id_vars='x')\n",
    "    g = (ggplot(beta_df,aes(x='x',y='value',color='variable',group='variable')) +\n",
    "         geom_line() + theme_minimal() +\n",
    "         xlab('Values') + ylab('Probability Density') +\n",
    "         ggtitle(f'alpha = {[i*scaler for i in a]}; beta={[i*scaler for i in b]}')\n",
    "        )\n",
    "    return g\n",
    "\n",
    "widgets.interact(plot_posterior, \n",
    "                 clicks=fixed(conv_df.clicks),\n",
    "                 conv_cnt=fixed(conv_df.conv_cnt),\n",
    "                 a=widgets.IntSlider(min=1,max=1000,step=1,value=999),\n",
    "                 b=widgets.IntSlider(min=1,max=1000,step=1,value=1),\n",
    "                 scaler=widgets.FloatSlider(min=1,max=100,step=1,value=1))"
   ]
  },
  {
   "cell_type": "markdown",
   "metadata": {},
   "source": [
    "## Who Wins by How Much"
   ]
  },
  {
   "cell_type": "markdown",
   "metadata": {},
   "source": [
    "One way to determine which variation is better is to look at the posterior distributions and their expectations; however, that does not tell us the margin of difference. Since we have a posterior distribution for each variation we can derive what people sometimes confuse with the frequentist p-value: **what is the probability that one variation is better than another?** One way to do this is by using Monte Carlo simulation to draw a large number of samples from each posterior then calculate the percentage of times each sample won."
   ]
  },
  {
   "cell_type": "code",
   "execution_count": 9,
   "metadata": {},
   "outputs": [
    {
     "name": "stdout",
     "output_type": "stream",
     "text": [
      "Probability that A is greater than B: 0.22743\n",
      "Average A/B ratio: 0.9394908467261973\n",
      "Credible interval of A/B ratio: [0.78622231 1.11331594]\n"
     ]
    }
   ],
   "source": [
    "def sample_proportion(c,n,a=1,b=1,sim_size=100000): return np.random.beta(c+a,n-c+b,sim_size)\n",
    "def proportion_test_b(c1,c2,n1,n2,a1=1,a2=1,b1=9,b2=9,sim_size=100000):\n",
    "    p1 = sample_proportion(c1,n1,a1,b1,sim_size)\n",
    "    p2 = sample_proportion(c2,n2,a2,b2,sim_size)\n",
    "    return (p1 > p2).mean()\n",
    "def proportion_ratio(c1,c2,n1,n2,a1=1,a2=1,b1=9,b2=9,sim_size=100000):\n",
    "    p1 = sample_proportion(c1,n1,a1,b1,sim_size)\n",
    "    p2 = sample_proportion(c2,n2,a2,b2,sim_size)\n",
    "    return p1/p2\n",
    "def proportion_ci_b(c1,c2,n1,n2,p_value=0.05,a1=1,a2=1,b1=9,b2=9,sim_size=100000):\n",
    "    ratios = proportion_ratio(c1,c2,n1,n2,a1,a2,b1,b2,sim_size)\n",
    "    return np.quantile(ratios,[p_value/2,1-p_value/2])\n",
    "\n",
    "p_value= proportion_test_b(*conv_df.conv_cnt,*conv_df.clicks)\n",
    "ratios = proportion_ratio(*conv_df.conv_cnt,*conv_df.clicks)\n",
    "credible = proportion_ci_b(*conv_df.conv_cnt,*conv_df.clicks,p_value=0.05)\n",
    "print(f'Probability that A is greater than B: {p_value}')\n",
    "print(f'Average A/B ratio: {ratios.mean()}')\n",
    "print(f'Credible interval of A/B ratio: {credible}')"
   ]
  },
  {
   "cell_type": "markdown",
   "metadata": {},
   "source": [
    "Plotting the ratio of A over B also gives us a look into the magnitude of the difference. For instace, below we can see that for about 80% of the ratio distribution `A` is worse than `B`, and in case that we were wrong `A` is at most about 20% better than `B`. And similar to the frequentist approach, we can calculate the range where most of these ratios (say 95%) falls into, called **credible interval**."
   ]
  },
  {
   "cell_type": "code",
   "execution_count": 10,
   "metadata": {},
   "outputs": [
    {
     "data": {
      "image/png": "[encoded data removed]",
      "text/plain": [
       "<Figure size 640x480 with 1 Axes>"
      ]
     },
     "metadata": {
      "needs_background": "light"
     },
     "output_type": "display_data"
    },
    {
     "data": {
      "text/plain": [
       "<ggplot: (-9223363244218236942)>"
      ]
     },
     "execution_count": 10,
     "metadata": {},
     "output_type": "execute_result"
    }
   ],
   "source": [
    "g = (ggplot(pd.DataFrame({'x':ratios}), aes(x='x')) + geom_histogram() +\n",
    "    theme_minimal() + geom_vline(xintercept=1,color='red') +\n",
    "    geom_vline(xintercept=credible[0],color='green') + geom_vline(xintercept=credible[1],color='green') + \n",
    "    xlab('Ratio of sampled conversion rates A / B')\n",
    "    ) \n",
    "g"
   ]
  },
  {
   "cell_type": "markdown",
   "metadata": {},
   "source": [
    "## When to Stop: Value Remaining"
   ]
  },
  {
   "cell_type": "markdown",
   "metadata": {},
   "source": [
    "The freedom from frequentist p-values allows us to not run into the issue that infinite number of samples *always* yield statistical significance even when the true values are exactly the same. As we can see from the plot below, the probility of `A` beating `B` as a result of Monte Carlo sampling from the posteriors stay about 50% when there is no true difference and gradually decreases when there is."
   ]
  },
  {
   "cell_type": "code",
   "execution_count": 11,
   "metadata": {},
   "outputs": [
    {
     "data": {
      "image/png": "[encoded data removed]",
      "text/plain": [
       "<Figure size 640x480 with 1 Axes>"
      ]
     },
     "metadata": {
      "needs_background": "light"
     },
     "output_type": "display_data"
    },
    {
     "data": {
      "text/plain": [
       "<ggplot: (8792636619233)>"
      ]
     },
     "execution_count": 11,
     "metadata": {},
     "output_type": "execute_result"
    }
   ],
   "source": [
    "conv_days2 = gen_campaigns(p1 = 0.10,\n",
    "                          p2 = 0.10,\n",
    "                          nb_days = 60,\n",
    "                          scaler=300,\n",
    "                          seed = 1412) #god-mode \n",
    "conv_days2['prob_same'] = conv_days2.apply(lambda row: proportion_test_b(row['cumu_conv_a'], \n",
    "                                                                   row['cumu_conv_b'],row['cumu_click_a'], \n",
    "                                                                   row['cumu_click_b']),1)\n",
    "conv_days3 = gen_campaigns(p1 = 0.10,\n",
    "                          p2 = 0.11,\n",
    "                          nb_days = 60,\n",
    "                          scaler=300,\n",
    "                          seed = 1412) #god-mode \n",
    "\n",
    "conv_days3['prob_diff'] = conv_days3.apply(lambda row: proportion_test_b(row['cumu_conv_a'], \n",
    "                                                                   row['cumu_conv_b'],row['cumu_click_a'], \n",
    "                                                                   row['cumu_click_b']),1)\n",
    "prob_df = pd.DataFrame({'click_day':conv_days2.click_day,'prob_same':conv_days2.prob_same,\n",
    "                        'prob_diff':conv_days3.prob_diff}).melt(id_vars='click_day')\n",
    "g = (ggplot(prob_df,aes(x='click_day',y='value',color='variable')) +\n",
    "    geom_line() + theme_minimal() + \n",
    "    geom_hline(yintercept=[0.9,0.1],color=['green','red']) +\n",
    "    xlab('Number of timesteps') + ylab('Probability of A beating B') +\n",
    "    scale_y_continuous(labels=formatters.percent_format()) +\n",
    "    annotate(\"text\", label = \"Above this line A is better than B\", x = 20, y = 1, color = 'green') +\n",
    "    annotate(\"text\", label = \"Below this line B is better than A\", x = 20, y = 0, color = 'red') +\n",
    "    ggtitle('Comparison between probabilities of A beating B when B is actually better and when both are the same')\n",
    "    )\n",
    "g"
   ]
  },
  {
   "cell_type": "markdown",
   "metadata": {},
   "source": [
    "The immediate question then comes up: when should we stop and declare a winner. Technically when there is a true difference, we can stop at any point in time and we will end up choosing the winner at varying degrees of probability (this is a clear improvement from the frequentist approach where we can only say we are not sure most of the time). We can also use a simple rule like if the probability of `A` beating `B` is lower than 10% or greater than 90%, we declare a winner like the plot above.\n",
    "\n",
    "Stopping criteria for experiments such as ROPE and expected loss as described in [Bayesian A/B Testing: a step-by-step guide](http://www.claudiobellei.com/2017/11/02/bayesian-AB-testing/); here we are using **value remaining** as introduced by [Google](https://support.google.com/analytics/answer/2846882?hl=en). Value remaining per round of experiment is defined as:\n",
    "\n",
    "$$V_t = \\frac{rate_{max}-rate_{opt}}{rate_{opt}}$$\n",
    "\n",
    "As experiment goes on, we plot the distribution of $V_t$ and stops when the $1-\\alpha$ percentile is lower than our threshold. Intuitively, this is to say that we are $1-\\alpha$% confident that our \"best\" arm might be beaten by the margin equals to the threshold. For practical purpose, we try 95th percentile and threshold of 1%."
   ]
  },
  {
   "cell_type": "code",
   "execution_count": 12,
   "metadata": {},
   "outputs": [
    {
     "data": {
      "text/plain": [
       "0.0835620586721222"
      ]
     },
     "execution_count": 12,
     "metadata": {},
     "output_type": "execute_result"
    }
   ],
   "source": [
    "def value_remaining(c1,c2,n1,n2,q=95,sim_size=100000,a1=1,a2=1,b1=9,b2=9):\n",
    "    p1 = sample_proportion(c1,n1,a1,b1,sim_size)[:,None]\n",
    "    p2 = sample_proportion(c2,n2,a2,b2,sim_size)[:,None]\n",
    "    p = np.concatenate([p1,p2],1)\n",
    "    p_max = p.max(1)\n",
    "    best_idx = np.argmax([p1.mean(),p2.mean()])\n",
    "    p_best = p[:,best_idx]\n",
    "    vs = (p_max-p_best)/p_best\n",
    "    return np.percentile(vs,q)\n",
    "\n",
    "value_remaining(*conv_df.conv_cnt,*conv_df.clicks)"
   ]
  },
  {
   "cell_type": "markdown",
   "metadata": {},
   "source": [
    "You can see that in the case where the true difference is 1%, value remaining gradually decreases below our 1% threshold. On the other hand, when the true difference is 0%, value remaining always hover around 10%."
   ]
  },
  {
   "cell_type": "code",
   "execution_count": 13,
   "metadata": {},
   "outputs": [
    {
     "data": {
      "image/png": "[encoded data removed]",
      "text/plain": [
       "<Figure size 640x480 with 1 Axes>"
      ]
     },
     "metadata": {
      "needs_background": "light"
     },
     "output_type": "display_data"
    },
    {
     "data": {
      "text/plain": [
       "<ggplot: (-9223363244218307766)>"
      ]
     },
     "execution_count": 13,
     "metadata": {},
     "output_type": "execute_result"
    }
   ],
   "source": [
    "conv_days2['value_remaining'] = conv_days2.apply(lambda row: value_remaining(row['cumu_conv_a'], \n",
    "                                                                   row['cumu_conv_b'],row['cumu_click_a'], \n",
    "                                                                   row['cumu_click_b']),1)\n",
    "conv_days3['value_remaining'] = conv_days3.apply(lambda row: value_remaining(row['cumu_conv_a'], \n",
    "                                                                   row['cumu_conv_b'],row['cumu_click_a'], \n",
    "                                                                   row['cumu_click_b']),1)\n",
    "value_df = pd.DataFrame({'click_day':conv_days2.click_day,'value_same':conv_days2.value_remaining,\n",
    "                        'value_diff':conv_days3.value_remaining}).melt(id_vars='click_day')\n",
    "g = (ggplot(value_df,aes(x='click_day',y='value',color='variable')) +\n",
    "    geom_line() + theme_minimal() + \n",
    "    geom_hline(yintercept=0.01, color='red') +\n",
    "    scale_y_continuous(labels=formatters.percent_format(), breaks=[i/100 for i in range(0,101,10)]) +\n",
    "    xlab('Number of timesteps') + ylab('Value Remaining') \n",
    "    )\n",
    "g"
   ]
  },
  {
   "cell_type": "markdown",
   "metadata": {},
   "source": [
    "## References"
   ]
  },
  {
   "cell_type": "markdown",
   "metadata": {},
   "source": [
    "* [An Introduction to Bayesian Thinking: A Companion to the Statistics with R Course](https://statswithr.github.io/book/)\n",
    "* [Formulas for Bayesian A/B Testing](https://www.evanmiller.org/bayesian-ab-testing.html)\n",
    "* [20 - Beta conjugate prior to Binomial and Bernoulli likelihoods](https://youtu.be/hKYvZF9wXkk)\n",
    "* [Bayesian A/B Testing: A Hypothesis Test that Makes Sense](https://www.countbayesie.com/blog/2015/4/25/bayesian-ab-testing)\n",
    "* [What's the difference between a confidence interval and a credible interval?](https://stats.stackexchange.com/questions/2272/whats-the-difference-between-a-confidence-interval-and-a-credible-interval)\n",
    "* [Is Bayesian A/B Testing Immune to Peeking? Not Exactly](http://varianceexplained.org/r/bayesian-ab-testing/)"
   ]
  },
  {
   "cell_type": "code",
   "execution_count": null,
   "metadata": {},
   "outputs": [],
   "source": []
  }
 ],
 "metadata": {
  "kernelspec": {
   "display_name": "Python 3",
   "language": "python",
   "name": "python3"
  },
  "language_info": {
   "codemirror_mode": {
    "name": "ipython",
    "version": 3
   },
   "file_extension": ".py",
   "mimetype": "text/x-python",
   "name": "python",
   "nbconvert_exporter": "python",
   "pygments_lexer": "ipython3",
   "version": "3.6.6"
  },
  "widgets": {
   "application/vnd.jupyter.widget-state+json": {
    "state": {
     "01d5def461d1474f845f46e37e04ef02": {
      "model_module": "@jupyter-widgets/base",
      "model_module_version": "1.1.0",
      "model_name": "LayoutModel",
      "state": {
       "_model_module": "@jupyter-widgets/base",
       "_model_module_version": "1.1.0",
       "_model_name": "LayoutModel",
       "_view_count": null,
       "_view_module": "@jupyter-widgets/base",
       "_view_module_version": "1.1.0",
       "_view_name": "LayoutView",
       "align_content": null,
       "align_items": null,
       "align_self": null,
       "border": null,
       "bottom": null,
       "display": null,
       "flex": null,
       "flex_flow": null,
       "grid_area": null,
       "grid_auto_columns": null,
       "grid_auto_flow": null,
       "grid_auto_rows": null,
       "grid_column": null,
       "grid_gap": null,
       "grid_row": null,
       "grid_template_areas": null,
       "grid_template_columns": null,
       "grid_template_rows": null,
       "height": null,
       "justify_content": null,
       "left": null,
       "margin": null,
       "max_height": null,
       "max_width": null,
       "min_height": null,
       "min_width": null,
       "order": null,
       "overflow": null,
       "overflow_x": null,
       "overflow_y": null,
       "padding": null,
       "right": null,
       "top": null,
       "visibility": null,
       "width": null
      }
     },
     "0d2ea2bd902842af9cdf50f7948a441f": {
      "model_module": "@jupyter-widgets/controls",
      "model_module_version": "1.4.0",
      "model_name": "VBoxModel",
      "state": {
       "_dom_classes": [
        "widget-interact"
       ],
       "_model_module": "@jupyter-widgets/controls",
       "_model_module_version": "1.4.0",
       "_model_name": "VBoxModel",
       "_view_count": null,
       "_view_module": "@jupyter-widgets/controls",
       "_view_module_version": "1.4.0",
       "_view_name": "VBoxView",
       "box_style": "",
       "children": [
        "IPY_MODEL_1714be141e5b42139b6e0ec90cd62961",
        "IPY_MODEL_b9408edfe24d46b79f10cacba09cce35",
        "IPY_MODEL_71a969960db241b5a66f830906eeb5c1",
        "IPY_MODEL_d7865ed1562f4e1b96c5b13f68b2c154"
       ],
       "layout": "IPY_MODEL_a47e904832c749a89df32a8297e53fd2"
      }
     },
     "132866f97ccc417ba6c5b59bff4e2830": {
      "model_module": "@jupyter-widgets/base",
      "model_module_version": "1.1.0",
      "model_name": "LayoutModel",
      "state": {
       "_model_module": "@jupyter-widgets/base",
       "_model_module_version": "1.1.0",
       "_model_name": "LayoutModel",
       "_view_count": null,
       "_view_module": "@jupyter-widgets/base",
       "_view_module_version": "1.1.0",
       "_view_name": "LayoutView",
       "align_content": null,
       "align_items": null,
       "align_self": null,
       "border": null,
       "bottom": null,
       "display": null,
       "flex": null,
       "flex_flow": null,
       "grid_area": null,
       "grid_auto_columns": null,
       "grid_auto_flow": null,
       "grid_auto_rows": null,
       "grid_column": null,
       "grid_gap": null,
       "grid_row": null,
       "grid_template_areas": null,
       "grid_template_columns": null,
       "grid_template_rows": null,
       "height": null,
       "justify_content": null,
       "left": null,
       "margin": null,
       "max_height": null,
       "max_width": null,
       "min_height": null,
       "min_width": null,
       "order": null,
       "overflow": null,
       "overflow_x": null,
       "overflow_y": null,
       "padding": null,
       "right": null,
       "top": null,
       "visibility": null,
       "width": null
      }
     },
     "1714be141e5b42139b6e0ec90cd62961": {
      "model_module": "@jupyter-widgets/controls",
      "model_module_version": "1.4.0",
      "model_name": "IntSliderModel",
      "state": {
       "_dom_classes": [],
       "_model_module": "@jupyter-widgets/controls",
       "_model_module_version": "1.4.0",
       "_model_name": "IntSliderModel",
       "_view_count": null,
       "_view_module": "@jupyter-widgets/controls",
       "_view_module_version": "1.4.0",
       "_view_name": "IntSliderView",
       "continuous_update": true,
       "description": "a",
       "description_tooltip": null,
       "disabled": false,
       "layout": "IPY_MODEL_2a48e071c2ff4202925bcd836d0a87c1",
       "max": 100,
       "min": 1,
       "orientation": "horizontal",
       "readout": true,
       "readout_format": "d",
       "step": 1,
       "style": "IPY_MODEL_b7a2096220a446b78d18cb7f10b0239d",
       "value": 1
      }
     },
     "2014d26992394880bc44a7792ab44466": {
      "model_module": "@jupyter-widgets/controls",
      "model_module_version": "1.4.0",
      "model_name": "SliderStyleModel",
      "state": {
       "_model_module": "@jupyter-widgets/controls",
       "_model_module_version": "1.4.0",
       "_model_name": "SliderStyleModel",
       "_view_count": null,
       "_view_module": "@jupyter-widgets/base",
       "_view_module_version": "1.1.0",
       "_view_name": "StyleView",
       "description_width": "",
       "handle_color": null
      }
     },
     "24673b489260498d9e42c1a81a207d72": {
      "model_module": "@jupyter-widgets/base",
      "model_module_version": "1.1.0",
      "model_name": "LayoutModel",
      "state": {
       "_model_module": "@jupyter-widgets/base",
       "_model_module_version": "1.1.0",
       "_model_name": "LayoutModel",
       "_view_count": null,
       "_view_module": "@jupyter-widgets/base",
       "_view_module_version": "1.1.0",
       "_view_name": "LayoutView",
       "align_content": null,
       "align_items": null,
       "align_self": null,
       "border": null,
       "bottom": null,
       "display": null,
       "flex": null,
       "flex_flow": null,
       "grid_area": null,
       "grid_auto_columns": null,
       "grid_auto_flow": null,
       "grid_auto_rows": null,
       "grid_column": null,
       "grid_gap": null,
       "grid_row": null,
       "grid_template_areas": null,
       "grid_template_columns": null,
       "grid_template_rows": null,
       "height": null,
       "justify_content": null,
       "left": null,
       "margin": null,
       "max_height": null,
       "max_width": null,
       "min_height": null,
       "min_width": null,
       "order": null,
       "overflow": null,
       "overflow_x": null,
       "overflow_y": null,
       "padding": null,
       "right": null,
       "top": null,
       "visibility": null,
       "width": null
      }
     },
     "2a48e071c2ff4202925bcd836d0a87c1": {
      "model_module": "@jupyter-widgets/base",
      "model_module_version": "1.1.0",
      "model_name": "LayoutModel",
      "state": {
       "_model_module": "@jupyter-widgets/base",
       "_model_module_version": "1.1.0",
       "_model_name": "LayoutModel",
       "_view_count": null,
       "_view_module": "@jupyter-widgets/base",
       "_view_module_version": "1.1.0",
       "_view_name": "LayoutView",
       "align_content": null,
       "align_items": null,
       "align_self": null,
       "border": null,
       "bottom": null,
       "display": null,
       "flex": null,
       "flex_flow": null,
       "grid_area": null,
       "grid_auto_columns": null,
       "grid_auto_flow": null,
       "grid_auto_rows": null,
       "grid_column": null,
       "grid_gap": null,
       "grid_row": null,
       "grid_template_areas": null,
       "grid_template_columns": null,
       "grid_template_rows": null,
       "height": null,
       "justify_content": null,
       "left": null,
       "margin": null,
       "max_height": null,
       "max_width": null,
       "min_height": null,
       "min_width": null,
       "order": null,
       "overflow": null,
       "overflow_x": null,
       "overflow_y": null,
       "padding": null,
       "right": null,
       "top": null,
       "visibility": null,
       "width": null
      }
     },
     "2d238189b63b4f368ccf0585862305b1": {
      "model_module": "@jupyter-widgets/output",
      "model_module_version": "1.0.0",
      "model_name": "OutputModel",
      "state": {
       "_dom_classes": [],
       "_model_module": "@jupyter-widgets/output",
       "_model_module_version": "1.0.0",
       "_model_name": "OutputModel",
       "_view_count": null,
       "_view_module": "@jupyter-widgets/output",
       "_view_module_version": "1.0.0",
       "_view_name": "OutputView",
       "layout": "IPY_MODEL_24673b489260498d9e42c1a81a207d72",
       "msg_id": "",
       "outputs": []
      }
     },
     "3269f43bb5e04418ab876c69dfcd090f": {
      "model_module": "@jupyter-widgets/controls",
      "model_module_version": "1.4.0",
      "model_name": "SliderStyleModel",
      "state": {
       "_model_module": "@jupyter-widgets/controls",
       "_model_module_version": "1.4.0",
       "_model_name": "SliderStyleModel",
       "_view_count": null,
       "_view_module": "@jupyter-widgets/base",
       "_view_module_version": "1.1.0",
       "_view_name": "StyleView",
       "description_width": "",
       "handle_color": null
      }
     },
     "34801a2ee6e44d24a6ec1d4a05b6dc15": {
      "model_module": "@jupyter-widgets/controls",
      "model_module_version": "1.4.0",
      "model_name": "SliderStyleModel",
      "state": {
       "_model_module": "@jupyter-widgets/controls",
       "_model_module_version": "1.4.0",
       "_model_name": "SliderStyleModel",
       "_view_count": null,
       "_view_module": "@jupyter-widgets/base",
       "_view_module_version": "1.1.0",
       "_view_name": "StyleView",
       "description_width": "",
       "handle_color": null
      }
     },
     "39b2d53273a14c6bb4f736c648c3bd79": {
      "model_module": "@jupyter-widgets/base",
      "model_module_version": "1.1.0",
      "model_name": "LayoutModel",
      "state": {
       "_model_module": "@jupyter-widgets/base",
       "_model_module_version": "1.1.0",
       "_model_name": "LayoutModel",
       "_view_count": null,
       "_view_module": "@jupyter-widgets/base",
       "_view_module_version": "1.1.0",
       "_view_name": "LayoutView",
       "align_content": null,
       "align_items": null,
       "align_self": null,
       "border": null,
       "bottom": null,
       "display": null,
       "flex": null,
       "flex_flow": null,
       "grid_area": null,
       "grid_auto_columns": null,
       "grid_auto_flow": null,
       "grid_auto_rows": null,
       "grid_column": null,
       "grid_gap": null,
       "grid_row": null,
       "grid_template_areas": null,
       "grid_template_columns": null,
       "grid_template_rows": null,
       "height": null,
       "justify_content": null,
       "left": null,
       "margin": null,
       "max_height": null,
       "max_width": null,
       "min_height": null,
       "min_width": null,
       "order": null,
       "overflow": null,
       "overflow_x": null,
       "overflow_y": null,
       "padding": null,
       "right": null,
       "top": null,
       "visibility": null,
       "width": null
      }
     },
     "3f63103a8ed243a890eed8f7eecf2ae6": {
      "model_module": "@jupyter-widgets/controls",
      "model_module_version": "1.4.0",
      "model_name": "SliderStyleModel",
      "state": {
       "_model_module": "@jupyter-widgets/controls",
       "_model_module_version": "1.4.0",
       "_model_name": "SliderStyleModel",
       "_view_count": null,
       "_view_module": "@jupyter-widgets/base",
       "_view_module_version": "1.1.0",
       "_view_name": "StyleView",
       "description_width": "",
       "handle_color": null
      }
     },
     "445ee35f11ee4166b9602773aa41257b": {
      "model_module": "@jupyter-widgets/controls",
      "model_module_version": "1.4.0",
      "model_name": "IntSliderModel",
      "state": {
       "_dom_classes": [],
       "_model_module": "@jupyter-widgets/controls",
       "_model_module_version": "1.4.0",
       "_model_name": "IntSliderModel",
       "_view_count": null,
       "_view_module": "@jupyter-widgets/controls",
       "_view_module_version": "1.4.0",
       "_view_name": "IntSliderView",
       "continuous_update": true,
       "description": "a",
       "description_tooltip": null,
       "disabled": false,
       "layout": "IPY_MODEL_ae76789bad14435e8d93d29e31553458",
       "max": 1000,
       "min": 1,
       "orientation": "horizontal",
       "readout": true,
       "readout_format": "d",
       "step": 1,
       "style": "IPY_MODEL_f3395d2c721f4c8e9f505b4e3a14a267",
       "value": 999
      }
     },
     "61092d6b8cf44b108b5155f8522baac0": {
      "model_module": "@jupyter-widgets/controls",
      "model_module_version": "1.4.0",
      "model_name": "IntSliderModel",
      "state": {
       "_dom_classes": [],
       "_model_module": "@jupyter-widgets/controls",
       "_model_module_version": "1.4.0",
       "_model_name": "IntSliderModel",
       "_view_count": null,
       "_view_module": "@jupyter-widgets/controls",
       "_view_module_version": "1.4.0",
       "_view_name": "IntSliderView",
       "continuous_update": true,
       "description": "b",
       "description_tooltip": null,
       "disabled": false,
       "layout": "IPY_MODEL_f09513f835c941e68abc214c75e4e369",
       "max": 1000,
       "min": 1,
       "orientation": "horizontal",
       "readout": true,
       "readout_format": "d",
       "step": 1,
       "style": "IPY_MODEL_3269f43bb5e04418ab876c69dfcd090f",
       "value": 1
      }
     },
     "678c458d7c2e41059dbbb0ec9f6338b9": {
      "model_module": "@jupyter-widgets/base",
      "model_module_version": "1.1.0",
      "model_name": "LayoutModel",
      "state": {
       "_model_module": "@jupyter-widgets/base",
       "_model_module_version": "1.1.0",
       "_model_name": "LayoutModel",
       "_view_count": null,
       "_view_module": "@jupyter-widgets/base",
       "_view_module_version": "1.1.0",
       "_view_name": "LayoutView",
       "align_content": null,
       "align_items": null,
       "align_self": null,
       "border": null,
       "bottom": null,
       "display": null,
       "flex": null,
       "flex_flow": null,
       "grid_area": null,
       "grid_auto_columns": null,
       "grid_auto_flow": null,
       "grid_auto_rows": null,
       "grid_column": null,
       "grid_gap": null,
       "grid_row": null,
       "grid_template_areas": null,
       "grid_template_columns": null,
       "grid_template_rows": null,
       "height": null,
       "justify_content": null,
       "left": null,
       "margin": null,
       "max_height": null,
       "max_width": null,
       "min_height": null,
       "min_width": null,
       "order": null,
       "overflow": null,
       "overflow_x": null,
       "overflow_y": null,
       "padding": null,
       "right": null,
       "top": null,
       "visibility": null,
       "width": null
      }
     },
     "71a969960db241b5a66f830906eeb5c1": {
      "model_module": "@jupyter-widgets/controls",
      "model_module_version": "1.4.0",
      "model_name": "FloatSliderModel",
      "state": {
       "_dom_classes": [],
       "_model_module": "@jupyter-widgets/controls",
       "_model_module_version": "1.4.0",
       "_model_name": "FloatSliderModel",
       "_view_count": null,
       "_view_module": "@jupyter-widgets/controls",
       "_view_module_version": "1.4.0",
       "_view_name": "FloatSliderView",
       "continuous_update": true,
       "description": "scaler",
       "description_tooltip": null,
       "disabled": false,
       "layout": "IPY_MODEL_678c458d7c2e41059dbbb0ec9f6338b9",
       "max": 100.0,
       "min": 0.1,
       "orientation": "horizontal",
       "readout": true,
       "readout_format": ".2f",
       "step": 0.5,
       "style": "IPY_MODEL_34801a2ee6e44d24a6ec1d4a05b6dc15",
       "value": 1.0
      }
     },
     "88853dff50b14fb7a3ac99f459a2baa5": {
      "model_module": "@jupyter-widgets/base",
      "model_module_version": "1.1.0",
      "model_name": "LayoutModel",
      "state": {
       "_model_module": "@jupyter-widgets/base",
       "_model_module_version": "1.1.0",
       "_model_name": "LayoutModel",
       "_view_count": null,
       "_view_module": "@jupyter-widgets/base",
       "_view_module_version": "1.1.0",
       "_view_name": "LayoutView",
       "align_content": null,
       "align_items": null,
       "align_self": null,
       "border": null,
       "bottom": null,
       "display": null,
       "flex": null,
       "flex_flow": null,
       "grid_area": null,
       "grid_auto_columns": null,
       "grid_auto_flow": null,
       "grid_auto_rows": null,
       "grid_column": null,
       "grid_gap": null,
       "grid_row": null,
       "grid_template_areas": null,
       "grid_template_columns": null,
       "grid_template_rows": null,
       "height": null,
       "justify_content": null,
       "left": null,
       "margin": null,
       "max_height": null,
       "max_width": null,
       "min_height": null,
       "min_width": null,
       "order": null,
       "overflow": null,
       "overflow_x": null,
       "overflow_y": null,
       "padding": null,
       "right": null,
       "top": null,
       "visibility": null,
       "width": null
      }
     },
     "a47e904832c749a89df32a8297e53fd2": {
      "model_module": "@jupyter-widgets/base",
      "model_module_version": "1.1.0",
      "model_name": "LayoutModel",
      "state": {
       "_model_module": "@jupyter-widgets/base",
       "_model_module_version": "1.1.0",
       "_model_name": "LayoutModel",
       "_view_count": null,
       "_view_module": "@jupyter-widgets/base",
       "_view_module_version": "1.1.0",
       "_view_name": "LayoutView",
       "align_content": null,
       "align_items": null,
       "align_self": null,
       "border": null,
       "bottom": null,
       "display": null,
       "flex": null,
       "flex_flow": null,
       "grid_area": null,
       "grid_auto_columns": null,
       "grid_auto_flow": null,
       "grid_auto_rows": null,
       "grid_column": null,
       "grid_gap": null,
       "grid_row": null,
       "grid_template_areas": null,
       "grid_template_columns": null,
       "grid_template_rows": null,
       "height": null,
       "justify_content": null,
       "left": null,
       "margin": null,
       "max_height": null,
       "max_width": null,
       "min_height": null,
       "min_width": null,
       "order": null,
       "overflow": null,
       "overflow_x": null,
       "overflow_y": null,
       "padding": null,
       "right": null,
       "top": null,
       "visibility": null,
       "width": null
      }
     },
     "ae76789bad14435e8d93d29e31553458": {
      "model_module": "@jupyter-widgets/base",
      "model_module_version": "1.1.0",
      "model_name": "LayoutModel",
      "state": {
       "_model_module": "@jupyter-widgets/base",
       "_model_module_version": "1.1.0",
       "_model_name": "LayoutModel",
       "_view_count": null,
       "_view_module": "@jupyter-widgets/base",
       "_view_module_version": "1.1.0",
       "_view_name": "LayoutView",
       "align_content": null,
       "align_items": null,
       "align_self": null,
       "border": null,
       "bottom": null,
       "display": null,
       "flex": null,
       "flex_flow": null,
       "grid_area": null,
       "grid_auto_columns": null,
       "grid_auto_flow": null,
       "grid_auto_rows": null,
       "grid_column": null,
       "grid_gap": null,
       "grid_row": null,
       "grid_template_areas": null,
       "grid_template_columns": null,
       "grid_template_rows": null,
       "height": null,
       "justify_content": null,
       "left": null,
       "margin": null,
       "max_height": null,
       "max_width": null,
       "min_height": null,
       "min_width": null,
       "order": null,
       "overflow": null,
       "overflow_x": null,
       "overflow_y": null,
       "padding": null,
       "right": null,
       "top": null,
       "visibility": null,
       "width": null
      }
     },
     "b7a2096220a446b78d18cb7f10b0239d": {
      "model_module": "@jupyter-widgets/controls",
      "model_module_version": "1.4.0",
      "model_name": "SliderStyleModel",
      "state": {
       "_model_module": "@jupyter-widgets/controls",
       "_model_module_version": "1.4.0",
       "_model_name": "SliderStyleModel",
       "_view_count": null,
       "_view_module": "@jupyter-widgets/base",
       "_view_module_version": "1.1.0",
       "_view_name": "StyleView",
       "description_width": "",
       "handle_color": null
      }
     },
     "b9408edfe24d46b79f10cacba09cce35": {
      "model_module": "@jupyter-widgets/controls",
      "model_module_version": "1.4.0",
      "model_name": "IntSliderModel",
      "state": {
       "_dom_classes": [],
       "_model_module": "@jupyter-widgets/controls",
       "_model_module_version": "1.4.0",
       "_model_name": "IntSliderModel",
       "_view_count": null,
       "_view_module": "@jupyter-widgets/controls",
       "_view_module_version": "1.4.0",
       "_view_name": "IntSliderView",
       "continuous_update": true,
       "description": "b",
       "description_tooltip": null,
       "disabled": false,
       "layout": "IPY_MODEL_39b2d53273a14c6bb4f736c648c3bd79",
       "max": 100,
       "min": 1,
       "orientation": "horizontal",
       "readout": true,
       "readout_format": "d",
       "step": 1,
       "style": "IPY_MODEL_3f63103a8ed243a890eed8f7eecf2ae6",
       "value": 9
      }
     },
     "d5bc629fe8ae47aca8a98b332d7badcc": {
      "model_module": "@jupyter-widgets/controls",
      "model_module_version": "1.4.0",
      "model_name": "VBoxModel",
      "state": {
       "_dom_classes": [
        "widget-interact"
       ],
       "_model_module": "@jupyter-widgets/controls",
       "_model_module_version": "1.4.0",
       "_model_name": "VBoxModel",
       "_view_count": null,
       "_view_module": "@jupyter-widgets/controls",
       "_view_module_version": "1.4.0",
       "_view_name": "VBoxView",
       "box_style": "",
       "children": [
        "IPY_MODEL_445ee35f11ee4166b9602773aa41257b",
        "IPY_MODEL_61092d6b8cf44b108b5155f8522baac0",
        "IPY_MODEL_e2f1a84d8ac544169b97a49b61a864f6",
        "IPY_MODEL_2d238189b63b4f368ccf0585862305b1"
       ],
       "layout": "IPY_MODEL_88853dff50b14fb7a3ac99f459a2baa5"
      }
     },
     "d7865ed1562f4e1b96c5b13f68b2c154": {
      "model_module": "@jupyter-widgets/output",
      "model_module_version": "1.0.0",
      "model_name": "OutputModel",
      "state": {
       "_dom_classes": [],
       "_model_module": "@jupyter-widgets/output",
       "_model_module_version": "1.0.0",
       "_model_name": "OutputModel",
       "_view_count": null,
       "_view_module": "@jupyter-widgets/output",
       "_view_module_version": "1.0.0",
       "_view_name": "OutputView",
       "layout": "IPY_MODEL_01d5def461d1474f845f46e37e04ef02",
       "msg_id": "",
       "outputs": []
      }
     },
     "e2f1a84d8ac544169b97a49b61a864f6": {
      "model_module": "@jupyter-widgets/controls",
      "model_module_version": "1.4.0",
      "model_name": "FloatSliderModel",
      "state": {
       "_dom_classes": [],
       "_model_module": "@jupyter-widgets/controls",
       "_model_module_version": "1.4.0",
       "_model_name": "FloatSliderModel",
       "_view_count": null,
       "_view_module": "@jupyter-widgets/controls",
       "_view_module_version": "1.4.0",
       "_view_name": "FloatSliderView",
       "continuous_update": true,
       "description": "scaler",
       "description_tooltip": null,
       "disabled": false,
       "layout": "IPY_MODEL_132866f97ccc417ba6c5b59bff4e2830",
       "max": 100.0,
       "min": 1.0,
       "orientation": "horizontal",
       "readout": true,
       "readout_format": ".2f",
       "step": 1.0,
       "style": "IPY_MODEL_2014d26992394880bc44a7792ab44466",
       "value": 1.0
      }
     },
     "f09513f835c941e68abc214c75e4e369": {
      "model_module": "@jupyter-widgets/base",
      "model_module_version": "1.1.0",
      "model_name": "LayoutModel",
      "state": {
       "_model_module": "@jupyter-widgets/base",
       "_model_module_version": "1.1.0",
       "_model_name": "LayoutModel",
       "_view_count": null,
       "_view_module": "@jupyter-widgets/base",
       "_view_module_version": "1.1.0",
       "_view_name": "LayoutView",
       "align_content": null,
       "align_items": null,
       "align_self": null,
       "border": null,
       "bottom": null,
       "display": null,
       "flex": null,
       "flex_flow": null,
       "grid_area": null,
       "grid_auto_columns": null,
       "grid_auto_flow": null,
       "grid_auto_rows": null,
       "grid_column": null,
       "grid_gap": null,
       "grid_row": null,
       "grid_template_areas": null,
       "grid_template_columns": null,
       "grid_template_rows": null,
       "height": null,
       "justify_content": null,
       "left": null,
       "margin": null,
       "max_height": null,
       "max_width": null,
       "min_height": null,
       "min_width": null,
       "order": null,
       "overflow": null,
       "overflow_x": null,
       "overflow_y": null,
       "padding": null,
       "right": null,
       "top": null,
       "visibility": null,
       "width": null
      }
     },
     "f3395d2c721f4c8e9f505b4e3a14a267": {
      "model_module": "@jupyter-widgets/controls",
      "model_module_version": "1.4.0",
      "model_name": "SliderStyleModel",
      "state": {
       "_model_module": "@jupyter-widgets/controls",
       "_model_module_version": "1.4.0",
       "_model_name": "SliderStyleModel",
       "_view_count": null,
       "_view_module": "@jupyter-widgets/base",
       "_view_module_version": "1.1.0",
       "_view_name": "StyleView",
       "description_width": "",
       "handle_color": null
      }
     }
    },
    "version_major": 2,
    "version_minor": 0
   }
  }
 },
 "nbformat": 4,
 "nbformat_minor": 1
}
