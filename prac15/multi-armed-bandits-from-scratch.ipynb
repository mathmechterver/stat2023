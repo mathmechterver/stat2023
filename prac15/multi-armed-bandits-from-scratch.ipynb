{
 "cells": [
  {
   "cell_type": "markdown",
   "metadata": {},
   "source": [
    "# A/B Testing from Scratch: Multi-armed Bandits"
   ]
  },
  {
   "cell_type": "markdown",
   "metadata": {},
   "source": [
    "Frequentist and Bayesian A/B tests require you to divide your traffic into arbitrary groups for a period of time, then perform statistical tests based on the results. By definition, this forces us to divert out traffic to suboptimal variations during the test period, resulting in lower overall conversion rates. On the other hand, multi-barmed bandit appraoch (MAB) dynamically adjusts the percentage of traffic shown to each variation according to how they have performed so far during the test, resulting in smaller loss in conversion rates.\n",
    "\n",
    "![Traditional A/B Test vs Multi-armed Bandits](https://automizy.com/wp-content/uploads/2017/03/Multi-armed-bandit.png)\n",
    "\n",
    "Source: [Automizy](https://automizy.com/blog/increase-email-course-open-rates-with-machine-learning/) via [Multi-Arm Bandits: a potential alternative to A/B tests](https://medium.com/brillio-data-science/multi-arm-bandits-a-potential-alternative-to-a-b-tests-a647d9bf2a7e)"
   ]
  },
  {
   "cell_type": "code",
   "execution_count": 1,
   "metadata": {},
   "outputs": [
    {
     "name": "stdout",
     "output_type": "stream",
     "text": [
      "Collecting scipy==1.0.0\r\n",
      "\u001b[?25l  Downloading https://files.pythonhosted.org/packages/d8/5e/caa01ba7be11600b6a9d39265440d7b3be3d69206da887c42bef049521f2/scipy-1.0.0-cp36-cp36m-manylinux1_x86_64.whl (50.0MB)\r\n",
      "\u001b[K     |████████████████████████████████| 50.0MB 3.5MB/s \r\n",
      "\u001b[?25hRequirement already satisfied: numpy>=1.8.2 in /opt/conda/lib/python3.6/site-packages (from scipy==1.0.0) (1.16.4)\r\n",
      "\u001b[31mERROR: allennlp 0.8.4 requires awscli>=1.11.91, which is not installed.\u001b[0m\r\n",
      "\u001b[31mERROR: allennlp 0.8.4 requires flaky, which is not installed.\u001b[0m\r\n",
      "\u001b[31mERROR: allennlp 0.8.4 requires responses>=0.7, which is not installed.\u001b[0m\r\n",
      "\u001b[31mERROR: tsfresh 0.12.0 has requirement scipy>=1.2.0, but you'll have scipy 1.0.0 which is incompatible.\u001b[0m\r\n",
      "\u001b[31mERROR: phik 0.9.8 has requirement scipy>=1.1.0, but you'll have scipy 1.0.0 which is incompatible.\u001b[0m\r\n",
      "\u001b[31mERROR: kmeans-smote 0.1.2 has requirement imbalanced-learn<0.5,>=0.4.0, but you'll have imbalanced-learn 0.5.0 which is incompatible.\u001b[0m\r\n",
      "\u001b[31mERROR: kmeans-smote 0.1.2 has requirement numpy<1.16,>=1.13, but you'll have numpy 1.16.4 which is incompatible.\u001b[0m\r\n",
      "\u001b[31mERROR: kmeans-smote 0.1.2 has requirement scikit-learn<0.21,>=0.19.0, but you'll have scikit-learn 0.21.2 which is incompatible.\u001b[0m\r\n",
      "\u001b[31mERROR: ethnicolr 0.2.1 has requirement tensorflow==1.12.3, but you'll have tensorflow 1.14.0 which is incompatible.\u001b[0m\r\n",
      "\u001b[31mERROR: cvxpy 1.0.24 has requirement scipy>=1.1.0, but you'll have scipy 1.0.0 which is incompatible.\u001b[0m\r\n",
      "Installing collected packages: scipy\r\n",
      "  Found existing installation: scipy 1.2.1\r\n",
      "    Uninstalling scipy-1.2.1:\r\n",
      "      Successfully uninstalled scipy-1.2.1\r\n",
      "Successfully installed scipy-1.0.0\r\n"
     ]
    },
    {
     "data": {
      "text/plain": [
       "'1.0.0'"
      ]
     },
     "execution_count": 1,
     "metadata": {},
     "output_type": "execute_result"
    }
   ],
   "source": [
    "#scipy/plotnine compatibility fix\n",
    "!pip install scipy==1.0.0\n",
    "import scipy\n",
    "scipy.__version__"
   ]
  },
  {
   "cell_type": "code",
   "execution_count": 2,
   "metadata": {},
   "outputs": [],
   "source": [
    "import numpy as np\n",
    "import pandas as pd\n",
    "\n",
    "#widgets\n",
    "from ipywidgets import interact, interactive, fixed, interact_manual\n",
    "import ipywidgets as widgets\n",
    "from IPython.display import display\n",
    "\n",
    "#plots\n",
    "import matplotlib.pyplot as plt\n",
    "from plotnine import *\n",
    "\n",
    "#stats\n",
    "import scipy as sp\n",
    "import statsmodels as sm"
   ]
  },
  {
   "cell_type": "markdown",
   "metadata": {},
   "source": [
    "## Arms, Variations, Ads, or Anything"
   ]
  },
  {
   "cell_type": "markdown",
   "metadata": {},
   "source": [
    "We treat serving a variation of content, be it product listings, recommended products, search results, online ads, or whatever we want to experiment on as *pulling an arm*. The arm will record an impression and, at an arbitrary amount of delay time, an action such as a click or add-to-cart based on that impression. In our example, we define our arm as a Bernoulli trial with the true probability of conversion ($\\frac{actions}{impressions}$) `true_p`."
   ]
  },
  {
   "cell_type": "code",
   "execution_count": 3,
   "metadata": {},
   "outputs": [],
   "source": [
    "class Arm:\n",
    "    def __init__(self, true_p):\n",
    "        self.true_p = true_p\n",
    "        self.reset()\n",
    "    def reset(self):\n",
    "        self.impressions = 0\n",
    "        self.actions = 0\n",
    "    def get_state(self):\n",
    "        return self.impressions,self.actions\n",
    "    def get_rate(self):\n",
    "        return self.actions / self.impressions if self.impressions >0 else 0.\n",
    "    def pull(self):\n",
    "        self.impressions+=1\n",
    "        res = 1 if np.random.random() < self.true_p else 0\n",
    "        self.actions+=res\n",
    "        return res"
   ]
  },
  {
   "cell_type": "code",
   "execution_count": 4,
   "metadata": {},
   "outputs": [
    {
     "data": {
      "text/plain": [
       "(100, 11)"
      ]
     },
     "execution_count": 4,
     "metadata": {},
     "output_type": "execute_result"
    }
   ],
   "source": [
    "a = Arm(0.1)\n",
    "for i in range(100): a.pull()\n",
    "a.get_state()"
   ]
  },
  {
   "cell_type": "markdown",
   "metadata": {},
   "source": [
    "## Environment"
   ]
  },
  {
   "cell_type": "markdown",
   "metadata": {},
   "source": [
    "We simulate an environment is an arbitrary number of arms with a set of predefined true probability `true_p` and average number of impressions `avg_impression` per time period `t`. This environment mimics most content serving APIs which display each variation at the ratio `ps` as defined by experimenters."
   ]
  },
  {
   "cell_type": "code",
   "execution_count": 5,
   "metadata": {},
   "outputs": [],
   "source": [
    "class MusketeerEnv:\n",
    "    def __init__(self, true_ps, avg_impressions):\n",
    "        self.true_ps = true_ps\n",
    "        self.avg_impressions = avg_impressions\n",
    "        self.nb_arms = len(true_ps)\n",
    "        self.vr_agent = BanditAgent()\n",
    "        self.reset()\n",
    "    def reset(self):\n",
    "        self.t = -1\n",
    "        self.ds=[]\n",
    "        self.arms = [Arm(p) for p in self.true_ps]\n",
    "        return self.get_state()\n",
    "    def get_state(self):\n",
    "        return [self.arms[i].get_state() for i in range(self.nb_arms)]\n",
    "    def get_rates(self):\n",
    "        return [self.arms[i].get_rate() for i in range(self.nb_arms)]\n",
    "    def get_impressions(self):\n",
    "        return int(np.random.triangular(self.avg_impressions/2,\n",
    "                                    self.avg_impressions,\n",
    "                                    self.avg_impressions*1.5))\n",
    "    def step(self, ps):\n",
    "        self.t+=1\n",
    "        impressions = self.get_impressions()\n",
    "        for i in np.random.choice(a=self.nb_arms,size=impressions,p=ps):\n",
    "            self.arms[i].pull()\n",
    "        self.record()\n",
    "        return self.get_state()\n",
    "    #use agent to calculate value remaining\n",
    "    def value_remaining(self,n=1000,q=95):\n",
    "        state = self.get_state()\n",
    "        best_idx = np.argmax(self.vr_agent.thompson_stochastic(state))\n",
    "        l=[]\n",
    "        for i in range(n): l.append(self.vr_agent.thompson_one(state)[None,:])\n",
    "        l = np.concatenate(l,0)\n",
    "        l_max = l.max(1)\n",
    "        l_best = l[:,best_idx]\n",
    "        vs = (l_max - l_best)/l_best\n",
    "        return np.percentile(vs,q)\n",
    "    def record(self):\n",
    "        d = {'t':self.t,'max_rate':0,'opt_impressions':0}\n",
    "        for i in range(self.nb_arms):\n",
    "            d[f'impressions_{i}'],d[f'actions_{i}'] = self.arms[i].get_state()\n",
    "            d[f'rate_{i}'] = self.arms[i].get_rate()\n",
    "            if d[f'rate_{i}'] > d['max_rate']: \n",
    "                d['max_rate'] = d[f'rate_{i}']\n",
    "                d['opt_impressions'] = d[f'impressions_{i}']\n",
    "        d['total_impressions'] = sum([self.arms[i].impressions for i in range(self.nb_arms)])\n",
    "        d['opt_impressions_rate'] = d['opt_impressions'] / d['total_impressions']\n",
    "        d['total_actions'] = sum([self.arms[i].actions for i in range(self.nb_arms)])\n",
    "        d['total_rate'] = d['total_actions'] / d['total_impressions']\n",
    "        d['regret_rate'] = d['max_rate'] - d['total_rate']\n",
    "        d['regret'] = d['regret_rate'] * d['total_impressions']\n",
    "        d['value_remaining'] = self.value_remaining()\n",
    "        self.ds.append(d)\n",
    "    def show_df(self):\n",
    "        df = pd.DataFrame(self.ds)\n",
    "        cols = ['t'] + [f'rate_{i}' for i in range(self.nb_arms)]+ \\\n",
    "               [f'impressions_{i}' for i in range(self.nb_arms)]+ \\\n",
    "               [f'actions_{i}' for i in range(self.nb_arms)]+ \\\n",
    "               ['total_impressions','total_actions','total_rate']+ \\\n",
    "               ['opt_impressions','opt_impressions_rate']+ \\\n",
    "               ['regret_rate','regret','value_remaining']\n",
    "        df = df[cols]\n",
    "        return df"
   ]
  },
  {
   "cell_type": "code",
   "execution_count": 6,
   "metadata": {},
   "outputs": [],
   "source": [
    "class BanditAgent:\n",
    "    def __init__(self):\n",
    "        pass\n",
    "    #thompsons\n",
    "    def thompson_one(self,state):\n",
    "        res = [np.random.beta(i[1]+1,i[0]-i[1]+1) for i in state]\n",
    "        res = np.array(res)\n",
    "        return res\n",
    "    def thompson_stochastic(self,state,n=1000):\n",
    "        l = []\n",
    "        for i in range(n): l.append(self.thompson_one(state)[None,:])\n",
    "        l = np.concatenate(l,0)\n",
    "        is_max = l.max(1)[:,None] == l\n",
    "        return is_max.mean(0)"
   ]
  },
  {
   "cell_type": "markdown",
   "metadata": {},
   "source": [
    "For instance, in a traditional A/B test with a default variation, new variation `A` and new variation `B`. We may divide 60% traffic to the default variation and 20% each to `A` and `B`. After 1,000 time steps, we will get the following results."
   ]
  },
  {
   "cell_type": "code",
   "execution_count": 7,
   "metadata": {},
   "outputs": [
    {
     "data": {
      "text/plain": [
       "[0.09940476688096174, 0.11891176507310251, 0.13024094574963682]"
      ]
     },
     "execution_count": 7,
     "metadata": {},
     "output_type": "execute_result"
    }
   ],
   "source": [
    "env = MusketeerEnv(true_ps = [0.1,0.12,0.13], avg_impressions=400)\n",
    "for i in range(1000):\n",
    "    env.step([0.6,0.2,0.2])\n",
    "env.get_rates()"
   ]
  },
  {
   "cell_type": "markdown",
   "metadata": {},
   "source": [
    "In order to evaluate an MAB agent, we use 3 main metrics:\n",
    "1. `opt_impressions_rate`: cumulative percentage of impressions we have given to the optimal arm at that timestep; this shows us how often we have picked the \"best\" arm\n",
    "2. `regret_rate`: cumulative conversion rate of the best arm at that timestep minus cumulative conversion rate of all impressions; this shows us the difference in conversion rate we have lost by not picking the \"best\" arm\n",
    "3. `regret`: cumulative actions if we had chosen the \"best\" arm minus actual cumulative conversions; this shows us how much actions we have lost by not picking the \"best\" arm"
   ]
  },
  {
   "cell_type": "code",
   "execution_count": 8,
   "metadata": {},
   "outputs": [
    {
     "data": {
      "text/html": [
       "<div>\n",
       "<style scoped>\n",
       "    .dataframe tbody tr th:only-of-type {\n",
       "        vertical-align: middle;\n",
       "    }\n",
       "\n",
       "    .dataframe tbody tr th {\n",
       "        vertical-align: top;\n",
       "    }\n",
       "\n",
       "    .dataframe thead th {\n",
       "        text-align: right;\n",
       "    }\n",
       "</style>\n",
       "<table border=\"1\" class=\"dataframe\">\n",
       "  <thead>\n",
       "    <tr style=\"text-align: right;\">\n",
       "      <th></th>\n",
       "      <th>t</th>\n",
       "      <th>rate_0</th>\n",
       "      <th>rate_1</th>\n",
       "      <th>rate_2</th>\n",
       "      <th>impressions_0</th>\n",
       "      <th>impressions_1</th>\n",
       "      <th>impressions_2</th>\n",
       "      <th>actions_0</th>\n",
       "      <th>actions_1</th>\n",
       "      <th>actions_2</th>\n",
       "      <th>total_impressions</th>\n",
       "      <th>total_actions</th>\n",
       "      <th>total_rate</th>\n",
       "      <th>opt_impressions</th>\n",
       "      <th>opt_impressions_rate</th>\n",
       "      <th>regret_rate</th>\n",
       "      <th>regret</th>\n",
       "      <th>value_remaining</th>\n",
       "    </tr>\n",
       "  </thead>\n",
       "  <tbody>\n",
       "    <tr>\n",
       "      <th>0</th>\n",
       "      <td>0</td>\n",
       "      <td>0.056962</td>\n",
       "      <td>0.056604</td>\n",
       "      <td>0.069444</td>\n",
       "      <td>158</td>\n",
       "      <td>53</td>\n",
       "      <td>72</td>\n",
       "      <td>9</td>\n",
       "      <td>3</td>\n",
       "      <td>5</td>\n",
       "      <td>283</td>\n",
       "      <td>17</td>\n",
       "      <td>0.060071</td>\n",
       "      <td>72</td>\n",
       "      <td>0.254417</td>\n",
       "      <td>0.009374</td>\n",
       "      <td>2.652778</td>\n",
       "      <td>1.701995</td>\n",
       "    </tr>\n",
       "    <tr>\n",
       "      <th>1</th>\n",
       "      <td>1</td>\n",
       "      <td>0.086486</td>\n",
       "      <td>0.066038</td>\n",
       "      <td>0.109489</td>\n",
       "      <td>370</td>\n",
       "      <td>106</td>\n",
       "      <td>137</td>\n",
       "      <td>32</td>\n",
       "      <td>7</td>\n",
       "      <td>15</td>\n",
       "      <td>613</td>\n",
       "      <td>54</td>\n",
       "      <td>0.088091</td>\n",
       "      <td>137</td>\n",
       "      <td>0.223491</td>\n",
       "      <td>0.021398</td>\n",
       "      <td>13.116788</td>\n",
       "      <td>0.362145</td>\n",
       "    </tr>\n",
       "    <tr>\n",
       "      <th>2</th>\n",
       "      <td>2</td>\n",
       "      <td>0.088073</td>\n",
       "      <td>0.091463</td>\n",
       "      <td>0.109375</td>\n",
       "      <td>545</td>\n",
       "      <td>164</td>\n",
       "      <td>192</td>\n",
       "      <td>48</td>\n",
       "      <td>15</td>\n",
       "      <td>21</td>\n",
       "      <td>901</td>\n",
       "      <td>84</td>\n",
       "      <td>0.093230</td>\n",
       "      <td>192</td>\n",
       "      <td>0.213097</td>\n",
       "      <td>0.016145</td>\n",
       "      <td>14.546875</td>\n",
       "      <td>0.427196</td>\n",
       "    </tr>\n",
       "    <tr>\n",
       "      <th>3</th>\n",
       "      <td>3</td>\n",
       "      <td>0.096012</td>\n",
       "      <td>0.087805</td>\n",
       "      <td>0.120833</td>\n",
       "      <td>677</td>\n",
       "      <td>205</td>\n",
       "      <td>240</td>\n",
       "      <td>65</td>\n",
       "      <td>18</td>\n",
       "      <td>29</td>\n",
       "      <td>1122</td>\n",
       "      <td>112</td>\n",
       "      <td>0.099822</td>\n",
       "      <td>240</td>\n",
       "      <td>0.213904</td>\n",
       "      <td>0.021012</td>\n",
       "      <td>23.575000</td>\n",
       "      <td>0.218533</td>\n",
       "    </tr>\n",
       "    <tr>\n",
       "      <th>4</th>\n",
       "      <td>4</td>\n",
       "      <td>0.094118</td>\n",
       "      <td>0.107023</td>\n",
       "      <td>0.121581</td>\n",
       "      <td>935</td>\n",
       "      <td>299</td>\n",
       "      <td>329</td>\n",
       "      <td>88</td>\n",
       "      <td>32</td>\n",
       "      <td>40</td>\n",
       "      <td>1563</td>\n",
       "      <td>160</td>\n",
       "      <td>0.102367</td>\n",
       "      <td>329</td>\n",
       "      <td>0.210493</td>\n",
       "      <td>0.019213</td>\n",
       "      <td>30.030395</td>\n",
       "      <td>0.280566</td>\n",
       "    </tr>\n",
       "  </tbody>\n",
       "</table>\n",
       "</div>"
      ],
      "text/plain": [
       "   t    rate_0       ...            regret  value_remaining\n",
       "0  0  0.056962       ...          2.652778         1.701995\n",
       "1  1  0.086486       ...         13.116788         0.362145\n",
       "2  2  0.088073       ...         14.546875         0.427196\n",
       "3  3  0.096012       ...         23.575000         0.218533\n",
       "4  4  0.094118       ...         30.030395         0.280566\n",
       "\n",
       "[5 rows x 18 columns]"
      ]
     },
     "execution_count": 8,
     "metadata": {},
     "output_type": "execute_result"
    }
   ],
   "source": [
    "env.show_df().head()"
   ]
  },
  {
   "cell_type": "markdown",
   "metadata": {},
   "source": [
    "## Agent"
   ]
  },
  {
   "cell_type": "markdown",
   "metadata": {},
   "source": [
    "An MAB agent solves the explore-vs-exploit dilemma. Exploitation means we choose what we know as the best choice at the current timestep, sometimes called being *greedy*; on the other hand, exploration means we try pulling other arms in order to know more about the environment. \n",
    "\n",
    "Exploiting 100% of the time is a bad idea. For instance; let us assume there are two arms `A` and `B` with true probabilities 0.1 and 0.9 and it happens that when we pull `A` it returns a conversion whereas when we pull `B` it does not. If our policy is to always exploit, we would end up pulling only `A` which has much lower return rate than `B`. This is when you do not have any experiment set up for your content at all.\n",
    "\n",
    "In contrast, if we always explore, we would end up pulling both arms randomly with expected return rates of $0.9 * 0.5 + 0.1 * 0.5 = 0.5$ instead of much higher if we could find out `B` is the better arm. This is close to what happens in a traditional A/B test during the test period.\n",
    "\n",
    "Some common policies for distributing impressions to each arm are:\n",
    "1. **Equal weights**: all arms have the same amount of traffic or a fixed amount.\n",
    "2. **Randomize**: randomly assign traffic to all arms.\n",
    "3. **Epsilon-greedy**: Assign a majority of traffic to the \"best\" arm at that time step, and the rest randomized among all arms; the degree of random traffic can be decayed by a parameter `gamma` as time goes on.\n",
    "4. **Softmax or Boltzmann exploration**: Assigns traffic equal to the softmax activation of their current return rates; regulated by temperature parameter `tau` (lower `tau` means less exploration) that can also be decayed by `gamma` over time.\n",
    "$$P(A_i) = \\frac{e^{rate_i/\\tau}}{\\sum{e^{rate_i/\\tau}}}$$\n",
    "\n",
    "5. **Upper Confidence Bound**: by utilizing Hoeffding’s Inequality, we can have a deterministic policy based on number of times the arms are pulled so far and impressions of each arm:\n",
    "\n",
    "$$A = argmax(rate_i + \\sqrt{\\frac{2\\log{t}}{impressions_i}})$$\n",
    "\n",
    "6. **Deterministic Thompson Sampling**: based on a posterior distribution (in our case a Beta distribution) for each arm, sample that number of rates. Choose the arm with the highest sampled rate.\n",
    "\n",
    "7. **Stochastic Thompson Sampling**: Instead of sampling only once, perform a Monte Carlo simulation for an arbitrary number of times, the traffic to each arm is divided by the percentage of times that arm is the best arm in the simulation."
   ]
  },
  {
   "cell_type": "code",
   "execution_count": 9,
   "metadata": {},
   "outputs": [],
   "source": [
    "class BanditAgent:\n",
    "    def __init__(self):\n",
    "        pass\n",
    "    #baselines\n",
    "    def equal_weights(self,state):\n",
    "        res = np.array([1/len(state) for i in range(len(state))])\n",
    "        return res\n",
    "    def randomize(self,state):\n",
    "        res = np.random.rand(len(state))\n",
    "        res /= res.sum()\n",
    "        return res\n",
    "    \n",
    "    #stochastic policies\n",
    "    def eps_greedy(self, state, t, start_eps=0.3, end_eps=0.01, gamma=0.99):\n",
    "        eps = max(end_eps,start_eps * gamma**t)\n",
    "        res = np.array([eps/len(state) for i in range(len(state))])\n",
    "        best_idx = np.argmax([i[1]/i[0] for i in state]) if t > 0 else np.random.choice(range(len(state)))\n",
    "        res[best_idx] += 1-eps\n",
    "        return res\n",
    "    def softmax(self, state, t, start_tau=1e-1, end_tau=1e-4, gamma=0.9):\n",
    "        tau = max(end_tau,start_tau*gamma**t)\n",
    "        sum_exp = sum([np.exp(i[1]/(i[0]+1e6)/tau) for i in state])\n",
    "        res = np.array([np.exp(i[1]/(i[0]+1e6)/tau) / sum_exp for i in state])\n",
    "        return res\n",
    "    \n",
    "    #deterministic policies\n",
    "    def ucb(self, state, t):\n",
    "        for i in state:\n",
    "            if i[0]==0:\n",
    "                return self.equal_weights(state)\n",
    "        res = [(i[1]/i[0] + np.sqrt(2*np.log(t+1)/i[0])) for i in state]\n",
    "        res = np.array(res)\n",
    "        res_d = np.zeros(len(state))\n",
    "        res_d[np.argmax(res)] = 1\n",
    "        return res_d\n",
    "    def thompson_deterministic(self, state):\n",
    "        res = [np.random.beta(i[1]+1,i[0]-i[1]+1) for i in state]\n",
    "        res = np.array(res)\n",
    "        res_d = np.zeros(len(state))\n",
    "        res_d[np.argmax(res)] = 1\n",
    "        return res_d\n",
    "    \n",
    "    #thompsons\n",
    "    def thompson_one(self,state):\n",
    "        res = [np.random.beta(i[1]+1,i[0]-i[1]+1) for i in state]\n",
    "        res = np.array(res)\n",
    "        return res\n",
    "    def thompson_stochastic(self,state,n=1000):\n",
    "        l = []\n",
    "        for i in range(n): l.append(self.thompson_one(state)[None,:])\n",
    "        l = np.concatenate(l,0)\n",
    "        is_max = l.max(1)[:,None] == l\n",
    "        return is_max.mean(0)"
   ]
  },
  {
   "cell_type": "markdown",
   "metadata": {},
   "source": [
    "## Stopping Criteria: Value Remaining\n",
    "Stopping criteria for MAB experiments such as ROPE and expected loss as described in [Bayesian A/B Testing: a step-by-step guide](http://www.claudiobellei.com/2017/11/02/bayesian-AB-testing/); here we are using **value remaining** as introduced by [Google](https://support.google.com/analytics/answer/2846882?hl=en). Value remaining per round of experiment is defined as:\n",
    "\n",
    "$$V_t = \\frac{rate_{max}-rate_{opt}}{rate_{opt}}$$\n",
    "\n",
    "As experiment goes on, we plot the distribution of $V_t$ and stops when the $1-\\alpha$ percentile is lower than our threshold. Intuitively, this is to say that we are $1-\\alpha$% confident that our \"best\" arm might be beaten by the margin equals to the threshold. For practical purpose, we try 95th percentile and threshold of 0.01."
   ]
  },
  {
   "cell_type": "markdown",
   "metadata": {},
   "source": [
    "## Simulation Results"
   ]
  },
  {
   "cell_type": "markdown",
   "metadata": {},
   "source": [
    "We simulate 3 campaigns with true probabilities of 12%, 13% and 14% respectively. Our number of overall impressions is 400 on average."
   ]
  },
  {
   "cell_type": "code",
   "execution_count": 10,
   "metadata": {},
   "outputs": [
    {
     "data": {
      "text/plain": [
       "(array([0.33333333, 0.33333333, 0.33333333]),\n",
       " array([0.47625868, 0.37523529, 0.14850603]),\n",
       " array([0.08261686, 0.08261686, 0.83476628]),\n",
       " array([0.33281628, 0.33370231, 0.33348142]),\n",
       " array([0.011, 0.469, 0.52 ]),\n",
       " array([0., 0., 1.]),\n",
       " array([0., 0., 1.]))"
      ]
     },
     "execution_count": 10,
     "metadata": {},
     "output_type": "execute_result"
    }
   ],
   "source": [
    "env = MusketeerEnv(true_ps = [0.12,0.13,0.14], avg_impressions=400)\n",
    "a = BanditAgent()\n",
    "for i in range(20):\n",
    "    p = a.equal_weights(env.get_state())\n",
    "    env.step(p)\n",
    "    t=i\n",
    "a.equal_weights(env.get_state()), a.randomize(env.get_state()), a.eps_greedy(env.get_state(),t),\\\n",
    "a.softmax(env.get_state(),t), a.thompson_stochastic(env.get_state()), \\\n",
    "a.ucb(env.get_state(),t), a.thompson_deterministic(env.get_state())"
   ]
  },
  {
   "cell_type": "code",
   "execution_count": 11,
   "metadata": {},
   "outputs": [],
   "source": [
    "envs = [MusketeerEnv(true_ps = [0.12,0.13,0.14], avg_impressions=400) for i in range(7)]\n",
    "a = BanditAgent()\n",
    "for t in range(200):\n",
    "    states = [env.get_state() for env in envs]\n",
    "    actions = [a.equal_weights(states[0]), a.randomize(states[1]),\n",
    "               a.eps_greedy(states[2],t), a.softmax(states[3],t),\n",
    "               a.thompson_stochastic(states[4]),\n",
    "               a.ucb(states[5],t), a.thompson_deterministic(states[6])]\n",
    "    for i in range(7): envs[i].step(actions[i])\n",
    "dfs = [env.show_df() for env in envs]\n",
    "policies = ['equal_weights','randomize','eps_greedy','softmax','thompson_stochastic',\n",
    "            'ucb','thompson_deterministic']\n",
    "for i in range(7): dfs[i]['policy'] = policies[i]\n",
    "df = pd.concat(dfs)[['policy','t','opt_impressions_rate','regret_rate','regret','value_remaining']]"
   ]
  },
  {
   "cell_type": "code",
   "execution_count": 12,
   "metadata": {},
   "outputs": [
    {
     "data": {
      "text/html": [
       "<div>\n",
       "<style scoped>\n",
       "    .dataframe tbody tr th:only-of-type {\n",
       "        vertical-align: middle;\n",
       "    }\n",
       "\n",
       "    .dataframe tbody tr th {\n",
       "        vertical-align: top;\n",
       "    }\n",
       "\n",
       "    .dataframe thead th {\n",
       "        text-align: right;\n",
       "    }\n",
       "</style>\n",
       "<table border=\"1\" class=\"dataframe\">\n",
       "  <thead>\n",
       "    <tr style=\"text-align: right;\">\n",
       "      <th></th>\n",
       "      <th>policy</th>\n",
       "      <th>t</th>\n",
       "      <th>opt_impressions_rate</th>\n",
       "      <th>regret_rate</th>\n",
       "      <th>regret</th>\n",
       "      <th>value_remaining</th>\n",
       "    </tr>\n",
       "  </thead>\n",
       "  <tbody>\n",
       "    <tr>\n",
       "      <th>195</th>\n",
       "      <td>thompson_deterministic</td>\n",
       "      <td>195</td>\n",
       "      <td>0.944693</td>\n",
       "      <td>0.001122</td>\n",
       "      <td>87.591377</td>\n",
       "      <td>0.0</td>\n",
       "    </tr>\n",
       "    <tr>\n",
       "      <th>196</th>\n",
       "      <td>thompson_deterministic</td>\n",
       "      <td>196</td>\n",
       "      <td>0.944961</td>\n",
       "      <td>0.001120</td>\n",
       "      <td>87.865462</td>\n",
       "      <td>0.0</td>\n",
       "    </tr>\n",
       "    <tr>\n",
       "      <th>197</th>\n",
       "      <td>thompson_deterministic</td>\n",
       "      <td>197</td>\n",
       "      <td>0.945232</td>\n",
       "      <td>0.001109</td>\n",
       "      <td>87.434322</td>\n",
       "      <td>0.0</td>\n",
       "    </tr>\n",
       "    <tr>\n",
       "      <th>198</th>\n",
       "      <td>thompson_deterministic</td>\n",
       "      <td>198</td>\n",
       "      <td>0.945578</td>\n",
       "      <td>0.001098</td>\n",
       "      <td>87.124319</td>\n",
       "      <td>0.0</td>\n",
       "    </tr>\n",
       "    <tr>\n",
       "      <th>199</th>\n",
       "      <td>thompson_deterministic</td>\n",
       "      <td>199</td>\n",
       "      <td>0.945759</td>\n",
       "      <td>0.001089</td>\n",
       "      <td>86.657644</td>\n",
       "      <td>0.0</td>\n",
       "    </tr>\n",
       "  </tbody>\n",
       "</table>\n",
       "</div>"
      ],
      "text/plain": [
       "                     policy    t       ...            regret  value_remaining\n",
       "195  thompson_deterministic  195       ...         87.591377              0.0\n",
       "196  thompson_deterministic  196       ...         87.865462              0.0\n",
       "197  thompson_deterministic  197       ...         87.434322              0.0\n",
       "198  thompson_deterministic  198       ...         87.124319              0.0\n",
       "199  thompson_deterministic  199       ...         86.657644              0.0\n",
       "\n",
       "[5 rows x 6 columns]"
      ]
     },
     "execution_count": 12,
     "metadata": {},
     "output_type": "execute_result"
    }
   ],
   "source": [
    "df.tail()"
   ]
  },
  {
   "cell_type": "code",
   "execution_count": 13,
   "metadata": {},
   "outputs": [
    {
     "data": {
      "text/html": [
       "<div>\n",
       "<style scoped>\n",
       "    .dataframe tbody tr th:only-of-type {\n",
       "        vertical-align: middle;\n",
       "    }\n",
       "\n",
       "    .dataframe tbody tr th {\n",
       "        vertical-align: top;\n",
       "    }\n",
       "\n",
       "    .dataframe thead th {\n",
       "        text-align: right;\n",
       "    }\n",
       "</style>\n",
       "<table border=\"1\" class=\"dataframe\">\n",
       "  <thead>\n",
       "    <tr style=\"text-align: right;\">\n",
       "      <th></th>\n",
       "      <th>policy</th>\n",
       "      <th>t</th>\n",
       "      <th>variable</th>\n",
       "      <th>value</th>\n",
       "    </tr>\n",
       "  </thead>\n",
       "  <tbody>\n",
       "    <tr>\n",
       "      <th>5595</th>\n",
       "      <td>thompson_deterministic</td>\n",
       "      <td>195</td>\n",
       "      <td>value_remaining</td>\n",
       "      <td>0.0</td>\n",
       "    </tr>\n",
       "    <tr>\n",
       "      <th>5596</th>\n",
       "      <td>thompson_deterministic</td>\n",
       "      <td>196</td>\n",
       "      <td>value_remaining</td>\n",
       "      <td>0.0</td>\n",
       "    </tr>\n",
       "    <tr>\n",
       "      <th>5597</th>\n",
       "      <td>thompson_deterministic</td>\n",
       "      <td>197</td>\n",
       "      <td>value_remaining</td>\n",
       "      <td>0.0</td>\n",
       "    </tr>\n",
       "    <tr>\n",
       "      <th>5598</th>\n",
       "      <td>thompson_deterministic</td>\n",
       "      <td>198</td>\n",
       "      <td>value_remaining</td>\n",
       "      <td>0.0</td>\n",
       "    </tr>\n",
       "    <tr>\n",
       "      <th>5599</th>\n",
       "      <td>thompson_deterministic</td>\n",
       "      <td>199</td>\n",
       "      <td>value_remaining</td>\n",
       "      <td>0.0</td>\n",
       "    </tr>\n",
       "  </tbody>\n",
       "</table>\n",
       "</div>"
      ],
      "text/plain": [
       "                      policy    t         variable  value\n",
       "5595  thompson_deterministic  195  value_remaining    0.0\n",
       "5596  thompson_deterministic  196  value_remaining    0.0\n",
       "5597  thompson_deterministic  197  value_remaining    0.0\n",
       "5598  thompson_deterministic  198  value_remaining    0.0\n",
       "5599  thompson_deterministic  199  value_remaining    0.0"
      ]
     },
     "execution_count": 13,
     "metadata": {},
     "output_type": "execute_result"
    }
   ],
   "source": [
    "df_m = df.melt(id_vars=['policy','t'])\n",
    "df_m.tail()"
   ]
  },
  {
   "cell_type": "markdown",
   "metadata": {},
   "source": [
    "With our initial agent parameters, we obtain the following results. We can see that stochastic Thompson sampling learns the fastest and is the most stable policy. "
   ]
  },
  {
   "cell_type": "code",
   "execution_count": 14,
   "metadata": {},
   "outputs": [
    {
     "name": "stderr",
     "output_type": "stream",
     "text": [
      "/opt/conda/lib/python3.6/site-packages/plotnine/coords/coord_cartesian.py:31: MatplotlibDeprecationWarning: The Bunch class was deprecated in Matplotlib 3.0 and will be removed in 3.2. Use types.SimpleNamespace instead.\n",
      "  self.limits = Bunch(xlim=xlim, ylim=ylim)\n",
      "/opt/conda/lib/python3.6/copy.py:274: MatplotlibDeprecationWarning: The Bunch class was deprecated in Matplotlib 3.0 and will be removed in 3.2. Use types.SimpleNamespace instead.\n",
      "  y = func(*args)\n",
      "/opt/conda/lib/python3.6/site-packages/plotnine/facets/facet.py:151: MatplotlibDeprecationWarning: The Bunch class was deprecated in Matplotlib 3.0 and will be removed in 3.2. Use types.SimpleNamespace instead.\n",
      "  scales = Bunch()\n",
      "/opt/conda/lib/python3.6/site-packages/plotnine/facets/layout.py:147: MatplotlibDeprecationWarning: The Bunch class was deprecated in Matplotlib 3.0 and will be removed in 3.2. Use types.SimpleNamespace instead.\n",
      "  return Bunch(x=xsc, y=ysc)\n",
      "/opt/conda/lib/python3.6/site-packages/plotnine/facets/facet.py:500: MatplotlibDeprecationWarning: The Bunch class was deprecated in Matplotlib 3.0 and will be removed in 3.2. Use types.SimpleNamespace instead.\n",
      "  box_height=box_height)\n",
      "/opt/conda/lib/python3.6/site-packages/plotnine/guides/guide_legend.py:179: MatplotlibDeprecationWarning: The Bunch class was deprecated in Matplotlib 3.0 and will be removed in 3.2. Use types.SimpleNamespace instead.\n",
      "  self.glayers.append(Bunch(geom=geom, data=data, layer=l))\n"
     ]
    },
    {
     "data": {
      "image/png": "[encoded data removed]",
      "text/plain": [
       "<Figure size 640x480 with 4 Axes>"
      ]
     },
     "metadata": {
      "needs_background": "light"
     },
     "output_type": "display_data"
    },
    {
     "data": {
      "text/plain": [
       "<ggplot: (8772040064902)>"
      ]
     },
     "execution_count": 14,
     "metadata": {},
     "output_type": "execute_result"
    }
   ],
   "source": [
    "g = (ggplot(df_m, aes(x='t',y='value',color='policy',group='policy')) +\n",
    "    geom_line() + theme_minimal() + facet_wrap('~variable',scales='free_y'))\n",
    "g"
   ]
  },
  {
   "cell_type": "markdown",
   "metadata": {},
   "source": [
    "## References"
   ]
  },
  {
   "cell_type": "markdown",
   "metadata": {},
   "source": [
    "Here are some useful resources reviewed for this notebook."
   ]
  },
  {
   "cell_type": "markdown",
   "metadata": {},
   "source": [
    "- [tl;dr Bayesian A/B test](https://medium.com/hockey-stick/tl-dr-bayesian-a-b-testing-with-python-c495d375db4d)\n",
    "- [Bayesian A/B Testing: a step-by-step guide](http://www.claudiobellei.com/2017/11/02/bayesian-AB-testing/)\n",
    "- [Bayesian Coin Flips](https://www.thomasjpfan.com/2015/09/bayesian-coin-flips/)\n",
    "- [Multi-Arm Bandits: a potential alternative to A/B tests](https://medium.com/brillio-data-science/multi-arm-bandits-a-potential-alternative-to-a-b-tests-a647d9bf2a7e)\n",
    "- [Multi Armed Bandits and Exploration Strategies](https://sudeepraja.github.io/Bandits/)\n",
    "- [MAB Google](https://support.google.com/analytics/answer/2846882?hl=en)"
   ]
  }
 ],
 "metadata": {
  "kernelspec": {
   "display_name": "Python 3",
   "language": "python",
   "name": "python3"
  },
  "language_info": {
   "codemirror_mode": {
    "name": "ipython",
    "version": 3
   },
   "file_extension": ".py",
   "mimetype": "text/x-python",
   "name": "python",
   "nbconvert_exporter": "python",
   "pygments_lexer": "ipython3",
   "version": "3.6.6"
  }
 },
 "nbformat": 4,
 "nbformat_minor": 1
}
